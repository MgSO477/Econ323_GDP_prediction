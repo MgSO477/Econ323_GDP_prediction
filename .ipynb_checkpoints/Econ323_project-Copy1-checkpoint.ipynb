{
 "cells": [
  {
   "cell_type": "markdown",
   "id": "0814b5d2-062a-4cea-beb8-a9adc18e7403",
   "metadata": {},
   "source": [
    "# GDP Component Prediction and Visualization"
   ]
  },
  {
   "cell_type": "markdown",
   "id": "c09fca6f-49b9-43ed-893b-5089c1aa43c5",
   "metadata": {},
   "source": [
    "Group Member: Shanmei Liu, Shuhao Zhang"
   ]
  },
  {
   "cell_type": "markdown",
   "id": "f2138c20-2d1f-4fd7-b3fa-afc23cc3bf65",
   "metadata": {},
   "source": [
    "## Introduction"
   ]
  },
  {
   "cell_type": "markdown",
   "id": "51270aab-f3a2-4afc-a9b9-047601f6a70b",
   "metadata": {},
   "source": [
    "Canada’s economic trajectory hinges on understanding the interplay of its core domestic expenditures—Household Consumption, Business Investment, and Government Spending. Leveraging six decades of quarterly data (1961–2024) from Statistics Canada, https://doi.org/10.25318/3610010401-eng, this study moves beyond aggregate GDP analysis to forecast near-term trends in these critical components. Using Holt’s linear trend and Holt-Winters seasonal models, we predict trajectories for 2023–2024 while isolating seasonal patterns and structural shifts in Investment and Consumption.\n",
    "\n",
    "\n",
    "By programmatically restructuring raw expenditure subcategories into standardized GDP groupings, we reveal actionable insights about Consumption, Investment, and Government Spending Trends. An interactive forecasting dashboard—built with Plotly—translates these findings into policy-ready visualizations, enabling dynamic comparisons between historical trends and projected scenarios. This approach bridges granular time series analysis with macroeconomic decision-making, offering a pragmatic tool for evaluating fiscal interventions in Canada’s evolving economy.\n"
   ]
  },
  {
   "cell_type": "markdown",
   "id": "e300f18c-1087-4951-9fdc-84d533dbcc2b",
   "metadata": {},
   "source": [
    "## Data preprocessing"
   ]
  },
  {
   "cell_type": "markdown",
   "id": "791d0c6e-4d2a-435c-acd4-77daa278afee",
   "metadata": {},
   "source": [
    "First, we import the requisite Python libraries and retrieve the quarterly expenditure-based GDP dataset from Statistics Canada in CSV format."
   ]
  },
  {
   "cell_type": "code",
   "execution_count": 40,
   "id": "ae18eb84-7943-408f-926e-4587fe516c2e",
   "metadata": {},
   "outputs": [],
   "source": [
    "import pandas as pd\n",
    "import matplotlib.pyplot as plt\n",
    "from datetime import datetime\n",
    "import seaborn as sns\n",
    "import plotly.express as px\n",
    "from statsmodels.tsa.holtwinters import Holt\n",
    "from statsmodels.tsa.holtwinters import ExponentialSmoothing\n",
    "import numpy as np\n",
    "import plotly.graph_objects as go"
   ]
  },
  {
   "cell_type": "code",
   "execution_count": 41,
   "id": "3f193b62-25a0-4779-b5ea-3f7d8e666c47",
   "metadata": {},
   "outputs": [
    {
     "data": {
      "text/html": [
       "<div>\n",
       "<style scoped>\n",
       "    .dataframe tbody tr th:only-of-type {\n",
       "        vertical-align: middle;\n",
       "    }\n",
       "\n",
       "    .dataframe tbody tr th {\n",
       "        vertical-align: top;\n",
       "    }\n",
       "\n",
       "    .dataframe thead th {\n",
       "        text-align: right;\n",
       "    }\n",
       "</style>\n",
       "<table border=\"1\" class=\"dataframe\">\n",
       "  <thead>\n",
       "    <tr style=\"text-align: right;\">\n",
       "      <th></th>\n",
       "      <th>Estimates</th>\n",
       "      <th>Q1 1961</th>\n",
       "      <th>Q2 1961</th>\n",
       "      <th>Q3 1961</th>\n",
       "      <th>Q4 1961</th>\n",
       "      <th>Q1 1962</th>\n",
       "      <th>Q2 1962</th>\n",
       "      <th>Q3 1962</th>\n",
       "      <th>Q4 1962</th>\n",
       "      <th>Q1 1963</th>\n",
       "      <th>...</th>\n",
       "      <th>Q2 2022</th>\n",
       "      <th>Q3 2022</th>\n",
       "      <th>Q4 2022</th>\n",
       "      <th>Q1 2023</th>\n",
       "      <th>Q2 2023</th>\n",
       "      <th>Q3 2023</th>\n",
       "      <th>Q4 2023</th>\n",
       "      <th>Q1 2024</th>\n",
       "      <th>Q2 2024</th>\n",
       "      <th>Q3 2024</th>\n",
       "    </tr>\n",
       "  </thead>\n",
       "  <tbody>\n",
       "    <tr>\n",
       "      <th>0</th>\n",
       "      <td>Final consumption expenditure</td>\n",
       "      <td>293,535</td>\n",
       "      <td>298,239</td>\n",
       "      <td>306,533</td>\n",
       "      <td>307,087</td>\n",
       "      <td>313,327</td>\n",
       "      <td>317,314</td>\n",
       "      <td>315,469</td>\n",
       "      <td>321,086</td>\n",
       "      <td>324,140</td>\n",
       "      <td>...</td>\n",
       "      <td>1,865,180</td>\n",
       "      <td>1,872,169</td>\n",
       "      <td>1,877,726</td>\n",
       "      <td>1,891,011</td>\n",
       "      <td>1,895,415</td>\n",
       "      <td>1,905,538</td>\n",
       "      <td>1,907,336</td>\n",
       "      <td>1,922,829</td>\n",
       "      <td>1,931,073</td>\n",
       "      <td>1,948,849</td>\n",
       "    </tr>\n",
       "    <tr>\n",
       "      <th>1</th>\n",
       "      <td>Household final consumption expenditure</td>\n",
       "      <td>193,805</td>\n",
       "      <td>197,421</td>\n",
       "      <td>202,241</td>\n",
       "      <td>203,009</td>\n",
       "      <td>207,687</td>\n",
       "      <td>208,873</td>\n",
       "      <td>207,986</td>\n",
       "      <td>211,777</td>\n",
       "      <td>213,212</td>\n",
       "      <td>...</td>\n",
       "      <td>1,323,013</td>\n",
       "      <td>1,323,525</td>\n",
       "      <td>1,324,084</td>\n",
       "      <td>1,336,434</td>\n",
       "      <td>1,339,046</td>\n",
       "      <td>1,341,928</td>\n",
       "      <td>1,346,226</td>\n",
       "      <td>1,356,639</td>\n",
       "      <td>1,359,823</td>\n",
       "      <td>1,371,495</td>\n",
       "    </tr>\n",
       "    <tr>\n",
       "      <th>2</th>\n",
       "      <td>Goods</td>\n",
       "      <td>85,028</td>\n",
       "      <td>87,370</td>\n",
       "      <td>89,798</td>\n",
       "      <td>89,474</td>\n",
       "      <td>93,335</td>\n",
       "      <td>93,741</td>\n",
       "      <td>93,038</td>\n",
       "      <td>95,494</td>\n",
       "      <td>96,123</td>\n",
       "      <td>...</td>\n",
       "      <td>582,022</td>\n",
       "      <td>575,343</td>\n",
       "      <td>574,328</td>\n",
       "      <td>581,359</td>\n",
       "      <td>582,850</td>\n",
       "      <td>580,854</td>\n",
       "      <td>585,192</td>\n",
       "      <td>585,983</td>\n",
       "      <td>585,072</td>\n",
       "      <td>591,179</td>\n",
       "    </tr>\n",
       "    <tr>\n",
       "      <th>3</th>\n",
       "      <td>Durable goods</td>\n",
       "      <td>7,744</td>\n",
       "      <td>8,190</td>\n",
       "      <td>8,933</td>\n",
       "      <td>8,723</td>\n",
       "      <td>9,497</td>\n",
       "      <td>9,479</td>\n",
       "      <td>9,200</td>\n",
       "      <td>9,843</td>\n",
       "      <td>9,882</td>\n",
       "      <td>...</td>\n",
       "      <td>168,924</td>\n",
       "      <td>165,925</td>\n",
       "      <td>166,084</td>\n",
       "      <td>171,012</td>\n",
       "      <td>170,332</td>\n",
       "      <td>173,431</td>\n",
       "      <td>178,530</td>\n",
       "      <td>178,030</td>\n",
       "      <td>174,014</td>\n",
       "      <td>178,930</td>\n",
       "    </tr>\n",
       "    <tr>\n",
       "      <th>4</th>\n",
       "      <td>Semi-durable goods</td>\n",
       "      <td>10,318</td>\n",
       "      <td>10,230</td>\n",
       "      <td>10,398</td>\n",
       "      <td>10,728</td>\n",
       "      <td>10,985</td>\n",
       "      <td>11,288</td>\n",
       "      <td>11,158</td>\n",
       "      <td>11,288</td>\n",
       "      <td>11,213</td>\n",
       "      <td>...</td>\n",
       "      <td>103,856</td>\n",
       "      <td>101,578</td>\n",
       "      <td>101,633</td>\n",
       "      <td>104,592</td>\n",
       "      <td>104,664</td>\n",
       "      <td>100,787</td>\n",
       "      <td>100,725</td>\n",
       "      <td>103,013</td>\n",
       "      <td>103,514</td>\n",
       "      <td>103,935</td>\n",
       "    </tr>\n",
       "  </tbody>\n",
       "</table>\n",
       "<p>5 rows × 256 columns</p>\n",
       "</div>"
      ],
      "text/plain": [
       "                                 Estimates  Q1 1961  Q2 1961  Q3 1961  \\\n",
       "0            Final consumption expenditure  293,535  298,239  306,533   \n",
       "1  Household final consumption expenditure  193,805  197,421  202,241   \n",
       "2                                    Goods   85,028   87,370   89,798   \n",
       "3                            Durable goods    7,744    8,190    8,933   \n",
       "4                       Semi-durable goods   10,318   10,230   10,398   \n",
       "\n",
       "   Q4 1961  Q1 1962  Q2 1962  Q3 1962  Q4 1962  Q1 1963  ...    Q2 2022  \\\n",
       "0  307,087  313,327  317,314  315,469  321,086  324,140  ...  1,865,180   \n",
       "1  203,009  207,687  208,873  207,986  211,777  213,212  ...  1,323,013   \n",
       "2   89,474   93,335   93,741   93,038   95,494   96,123  ...    582,022   \n",
       "3    8,723    9,497    9,479    9,200    9,843    9,882  ...    168,924   \n",
       "4   10,728   10,985   11,288   11,158   11,288   11,213  ...    103,856   \n",
       "\n",
       "     Q3 2022    Q4 2022    Q1 2023    Q2 2023    Q3 2023    Q4 2023  \\\n",
       "0  1,872,169  1,877,726  1,891,011  1,895,415  1,905,538  1,907,336   \n",
       "1  1,323,525  1,324,084  1,336,434  1,339,046  1,341,928  1,346,226   \n",
       "2    575,343    574,328    581,359    582,850    580,854    585,192   \n",
       "3    165,925    166,084    171,012    170,332    173,431    178,530   \n",
       "4    101,578    101,633    104,592    104,664    100,787    100,725   \n",
       "\n",
       "     Q1 2024    Q2 2024    Q3 2024  \n",
       "0  1,922,829  1,931,073  1,948,849  \n",
       "1  1,356,639  1,359,823  1,371,495  \n",
       "2    585,983    585,072    591,179  \n",
       "3    178,030    174,014    178,930  \n",
       "4    103,013    103,514    103,935  \n",
       "\n",
       "[5 rows x 256 columns]"
      ]
     },
     "execution_count": 41,
     "metadata": {},
     "output_type": "execute_result"
    }
   ],
   "source": [
    "real_expenditure_GDP = pd.read_csv(\"https://raw.githubusercontent.com/MgSO477/Econ323_GDP_prediction/refs/heads/main/data/Expenditure_based_GDP_detail.csv\", skiprows=11)\n",
    "real_expenditure_GDP = real_expenditure_GDP.head(31)\n",
    "\n",
    "real_expenditure_GDP.head()"
   ]
  },
  {
   "cell_type": "markdown",
   "id": "db9efd33-f493-4f12-9fed-da59e3f1a8a4",
   "metadata": {},
   "source": [
    "*Statistics Canada. Table 36-10-0104-01  Gross domestic product, expenditure-based, Canada, quarterly (x 1,000,000)\n",
    "DOI: https://doi.org/10.25318/3610010401-eng*"
   ]
  },
  {
   "cell_type": "code",
   "execution_count": 42,
   "id": "9ac2ec5d-ec7c-4827-a5a8-e0b334f8f054",
   "metadata": {},
   "outputs": [],
   "source": [
    "Real_GDP = real_expenditure_GDP.melt(\n",
    "    id_vars=[\"Estimates\"], \n",
    "    var_name=\"Time\",       \n",
    "    value_name=\"Value\"    )"
   ]
  },
  {
   "cell_type": "markdown",
   "id": "467e38e6-396e-4d16-ae11-ae5dc1ea5910",
   "metadata": {},
   "source": [
    "By systematically categorizing and indexing the dataset according to standardized GDP classifications, we enable precise computation of individual expenditure components aligned with national accounting frameworks."
   ]
  },
  {
   "cell_type": "code",
   "execution_count": 43,
   "id": "f2a849a4-f020-4d28-993d-f9d550d05f00",
   "metadata": {},
   "outputs": [
    {
     "data": {
      "text/html": [
       "<div>\n",
       "<style scoped>\n",
       "    .dataframe tbody tr th:only-of-type {\n",
       "        vertical-align: middle;\n",
       "    }\n",
       "\n",
       "    .dataframe tbody tr th {\n",
       "        vertical-align: top;\n",
       "    }\n",
       "\n",
       "    .dataframe thead th {\n",
       "        text-align: right;\n",
       "    }\n",
       "</style>\n",
       "<table border=\"1\" class=\"dataframe\">\n",
       "  <thead>\n",
       "    <tr style=\"text-align: right;\">\n",
       "      <th></th>\n",
       "      <th>Estimates</th>\n",
       "      <th>Time</th>\n",
       "      <th>Value</th>\n",
       "      <th>Group</th>\n",
       "    </tr>\n",
       "  </thead>\n",
       "  <tbody>\n",
       "    <tr>\n",
       "      <th>0</th>\n",
       "      <td>Final consumption expenditure</td>\n",
       "      <td>Q1 1961</td>\n",
       "      <td>293535.0</td>\n",
       "      <td>Consumption</td>\n",
       "    </tr>\n",
       "    <tr>\n",
       "      <th>1</th>\n",
       "      <td>Household final consumption expenditure</td>\n",
       "      <td>Q1 1961</td>\n",
       "      <td>193805.0</td>\n",
       "      <td>Consumption</td>\n",
       "    </tr>\n",
       "    <tr>\n",
       "      <th>2</th>\n",
       "      <td>Goods</td>\n",
       "      <td>Q1 1961</td>\n",
       "      <td>85028.0</td>\n",
       "      <td>Consumption</td>\n",
       "    </tr>\n",
       "    <tr>\n",
       "      <th>3</th>\n",
       "      <td>Durable goods</td>\n",
       "      <td>Q1 1961</td>\n",
       "      <td>7744.0</td>\n",
       "      <td>Consumption</td>\n",
       "    </tr>\n",
       "    <tr>\n",
       "      <th>4</th>\n",
       "      <td>Semi-durable goods</td>\n",
       "      <td>Q1 1961</td>\n",
       "      <td>10318.0</td>\n",
       "      <td>Consumption</td>\n",
       "    </tr>\n",
       "  </tbody>\n",
       "</table>\n",
       "</div>"
      ],
      "text/plain": [
       "                                 Estimates     Time     Value        Group\n",
       "0            Final consumption expenditure  Q1 1961  293535.0  Consumption\n",
       "1  Household final consumption expenditure  Q1 1961  193805.0  Consumption\n",
       "2                                    Goods  Q1 1961   85028.0  Consumption\n",
       "3                            Durable goods  Q1 1961    7744.0  Consumption\n",
       "4                       Semi-durable goods  Q1 1961   10318.0  Consumption"
      ]
     },
     "execution_count": 43,
     "metadata": {},
     "output_type": "execute_result"
    }
   ],
   "source": [
    "# group the estimates\n",
    "group_map = {\n",
    "    # consumption\n",
    "    \"Final consumption expenditure\": \"Consumption\",\n",
    "    \"Household final consumption expenditure\": \"Consumption\",\n",
    "    \"Goods\": \"Consumption\",\n",
    "    \"Durable goods\": \"Consumption\",\n",
    "    \"Semi-durable goods\": \"Consumption\",\n",
    "    \"Non-durable goods\": \"Consumption\",\n",
    "    \"Services\": \"Consumption\",\n",
    "    \"Non-profit institutions serving households' final consumption expenditure\": \"Consumption\",\n",
    "    \"General governments final consumption expenditure\": \"Consumption\",\n",
    "    \n",
    "    # investment\n",
    "    \"Gross fixed capital formation\": \"Investment\",\n",
    "    \"Business gross fixed capital formation\": \"Investment\",\n",
    "    \"Residential structures\": \"Investment\",\n",
    "    \"Non-residential structures, machinery and equipment\": \"Investment\",\n",
    "    \"Non-residential structures\": \"Investment\",\n",
    "    \"Machinery and equipment\": \"Investment\",\n",
    "    \"Intellectual property products\": \"Investment\",\n",
    "    \"Non-profit institutions serving households' gross fixed capital formation\": \"Investment\",\n",
    "    \"General governments gross fixed capital formation\": \"Investment\",\n",
    "    \"Investment in inventories\": \"Investment\",\n",
    "    \"Of which: business investment in inventories\": \"Investment\",\n",
    "    \"Non-farm\": \"Investment\",\n",
    "    \"Farm\": \"Investment\",\n",
    "\n",
    "    # NE\n",
    "    \"Exports of goods and services\": \"Net Exports\",\n",
    "    \"Exports of goods\": \"Net Exports\",\n",
    "    \"Exports of services\": \"Net Exports\",\n",
    "    \"Less: imports of goods and services\": \"Net Exports\",\n",
    "    \"Imports of goods\": \"Net Exports\",\n",
    "    \"Imports of services\": \"Net Exports\",\n",
    "    \n",
    "    # Others\n",
    "    \"Statistical discrepancy\": \"Others\",\n",
    "    \"Gross domestic product at market prices\": \"Others\",\n",
    "    \"Final domestic demand\": \"Others\"\n",
    "}\n",
    "\n",
    "Real_GDP['Group'] = Real_GDP['Estimates'].map(group_map)\n",
    "Real_GDP['Value'] = Real_GDP['Value'].astype(str).str.replace(',', '').astype(float)\n",
    "Real_GDP.head()"
   ]
  },
  {
   "cell_type": "markdown",
   "id": "61b18761-dd14-4a2d-bb2a-57bb6ccd1c3c",
   "metadata": {},
   "source": [
    "Total consumption is calculated by summing two components: `Household Final Consumption Expenditure` and `Non-Profit Institutions Serving Households' Final Consumption Expenditure`. The quarterly data are aggregated, and the Time column is converted into a datetime-indexed series for time series analysis, by defining the custom function `convert_quarter_to_date`. "
   ]
  },
  {
   "cell_type": "code",
   "execution_count": 44,
   "id": "1d20accc-7519-4ea5-878a-0abdc73d7247",
   "metadata": {},
   "outputs": [
    {
     "data": {
      "text/html": [
       "<div>\n",
       "<style scoped>\n",
       "    .dataframe tbody tr th:only-of-type {\n",
       "        vertical-align: middle;\n",
       "    }\n",
       "\n",
       "    .dataframe tbody tr th {\n",
       "        vertical-align: top;\n",
       "    }\n",
       "\n",
       "    .dataframe thead th {\n",
       "        text-align: right;\n",
       "    }\n",
       "</style>\n",
       "<table border=\"1\" class=\"dataframe\">\n",
       "  <thead>\n",
       "    <tr style=\"text-align: right;\">\n",
       "      <th></th>\n",
       "      <th>consumption</th>\n",
       "    </tr>\n",
       "    <tr>\n",
       "      <th>time</th>\n",
       "      <th></th>\n",
       "    </tr>\n",
       "  </thead>\n",
       "  <tbody>\n",
       "    <tr>\n",
       "      <th>1961-01-01</th>\n",
       "      <td>196797.0</td>\n",
       "    </tr>\n",
       "    <tr>\n",
       "      <th>1961-04-01</th>\n",
       "      <td>200550.0</td>\n",
       "    </tr>\n",
       "    <tr>\n",
       "      <th>1961-07-01</th>\n",
       "      <td>205473.0</td>\n",
       "    </tr>\n",
       "    <tr>\n",
       "      <th>1961-10-01</th>\n",
       "      <td>206271.0</td>\n",
       "    </tr>\n",
       "    <tr>\n",
       "      <th>1962-01-01</th>\n",
       "      <td>211052.0</td>\n",
       "    </tr>\n",
       "  </tbody>\n",
       "</table>\n",
       "</div>"
      ],
      "text/plain": [
       "            consumption\n",
       "time                   \n",
       "1961-01-01     196797.0\n",
       "1961-04-01     200550.0\n",
       "1961-07-01     205473.0\n",
       "1961-10-01     206271.0\n",
       "1962-01-01     211052.0"
      ]
     },
     "execution_count": 44,
     "metadata": {},
     "output_type": "execute_result"
    }
   ],
   "source": [
    "# create the total consumption table\n",
    "mask = real_expenditure_GDP['Estimates'].isin([\n",
    "    \"Household final consumption expenditure\", \n",
    "    \"Non-profit institutions serving households' final consumption expenditure\"\n",
    "])\n",
    "subset = real_expenditure_GDP[mask].copy()\n",
    "\n",
    "time_cols = [col for col in subset.columns if col.startswith(\"Q\")]\n",
    "for col in time_cols:\n",
    "    subset[col] = subset[col].astype(str).str.replace(',', '').astype(float)\n",
    "\n",
    "clean_consumption = subset.melt(\n",
    "    id_vars=[\"Estimates\"],\n",
    "    value_vars=time_cols,\n",
    "    var_name=\"time\",\n",
    "    value_name=\"consumption\"\n",
    ")\n",
    "\n",
    "def convert_quarter_to_date(q_str):\n",
    "    parts = q_str.split()\n",
    "    quarter = parts[0] \n",
    "    year = parts[1]  \n",
    "    quarter_to_month = {\"Q1\": 1, \"Q2\": 4, \"Q3\": 7, \"Q4\": 10}\n",
    "    month = quarter_to_month.get(quarter, 1)\n",
    "    return datetime.strptime(f\"{year}-{month:02d}-01\", \"%Y-%m-%d\")\n",
    "\n",
    "clean_consumption['time'] = clean_consumption['time'].apply(convert_quarter_to_date)\n",
    "clean_consumption = clean_consumption.drop(columns=['Estimates']).groupby(\"time\").sum()\n",
    "clean_consumption.head()"
   ]
  },
  {
   "cell_type": "markdown",
   "id": "77a16b24-9d05-4bcf-979c-514fd991662d",
   "metadata": {},
   "source": [
    "Similarly, we add up `Business gross fixed capital formation` and `Non-profit institutions serving households' gross fixed capital formation` to obtain Total Investment. Also convert the Time column into datatime-indexed series. "
   ]
  },
  {
   "cell_type": "code",
   "execution_count": 45,
   "id": "8c4f97b2-8d4b-4405-a83e-e05a3005ca39",
   "metadata": {},
   "outputs": [
    {
     "data": {
      "text/html": [
       "<div>\n",
       "<style scoped>\n",
       "    .dataframe tbody tr th:only-of-type {\n",
       "        vertical-align: middle;\n",
       "    }\n",
       "\n",
       "    .dataframe tbody tr th {\n",
       "        vertical-align: top;\n",
       "    }\n",
       "\n",
       "    .dataframe thead th {\n",
       "        text-align: right;\n",
       "    }\n",
       "</style>\n",
       "<table border=\"1\" class=\"dataframe\">\n",
       "  <thead>\n",
       "    <tr style=\"text-align: right;\">\n",
       "      <th></th>\n",
       "      <th>investment</th>\n",
       "    </tr>\n",
       "    <tr>\n",
       "      <th>time</th>\n",
       "      <th></th>\n",
       "    </tr>\n",
       "  </thead>\n",
       "  <tbody>\n",
       "    <tr>\n",
       "      <th>1961-01-01</th>\n",
       "      <td>50342.0</td>\n",
       "    </tr>\n",
       "    <tr>\n",
       "      <th>1961-04-01</th>\n",
       "      <td>50486.0</td>\n",
       "    </tr>\n",
       "    <tr>\n",
       "      <th>1961-07-01</th>\n",
       "      <td>52168.0</td>\n",
       "    </tr>\n",
       "    <tr>\n",
       "      <th>1961-10-01</th>\n",
       "      <td>51834.0</td>\n",
       "    </tr>\n",
       "    <tr>\n",
       "      <th>1962-01-01</th>\n",
       "      <td>51595.0</td>\n",
       "    </tr>\n",
       "  </tbody>\n",
       "</table>\n",
       "</div>"
      ],
      "text/plain": [
       "            investment\n",
       "time                  \n",
       "1961-01-01     50342.0\n",
       "1961-04-01     50486.0\n",
       "1961-07-01     52168.0\n",
       "1961-10-01     51834.0\n",
       "1962-01-01     51595.0"
      ]
     },
     "execution_count": 45,
     "metadata": {},
     "output_type": "execute_result"
    }
   ],
   "source": [
    "# Total investment table\n",
    "investment_mask = real_expenditure_GDP['Estimates'].isin([\n",
    "    \"Business gross fixed capital formation\",\n",
    "    \"Non-profit institutions serving households' gross fixed capital formation\"\n",
    "])\n",
    "subset_investment = real_expenditure_GDP[investment_mask].copy()\n",
    "\n",
    "time_cols = [col for col in subset_investment.columns if col.startswith(\"Q\")]\n",
    "for col in time_cols:\n",
    "    subset_investment[col] = subset_investment[col].astype(str).str.replace(',', '').astype(float)\n",
    "\n",
    "clean_investment = subset_investment.melt(\n",
    "    id_vars=[\"Estimates\"],\n",
    "    value_vars=time_cols,\n",
    "    var_name=\"time\",\n",
    "    value_name=\"investment\"\n",
    ")\n",
    "\n",
    "clean_investment['time'] = clean_investment['time'].apply(convert_quarter_to_date)\n",
    "clean_investment = clean_investment.drop(columns=['Estimates']).groupby(\"time\").sum()\n",
    "clean_investment.head()"
   ]
  },
  {
   "cell_type": "markdown",
   "id": "34167f19-47a0-46e7-8879-d715fad4a8c3",
   "metadata": {},
   "source": [
    "Total Government Spending is the sum of `General governments final consumption expenditure` and `General governments gross fixed capital formation`. "
   ]
  },
  {
   "cell_type": "code",
   "execution_count": 46,
   "id": "ea9ba31e-484a-4601-a40f-fdf131bf6bb8",
   "metadata": {},
   "outputs": [
    {
     "data": {
      "text/html": [
       "<div>\n",
       "<style scoped>\n",
       "    .dataframe tbody tr th:only-of-type {\n",
       "        vertical-align: middle;\n",
       "    }\n",
       "\n",
       "    .dataframe tbody tr th {\n",
       "        vertical-align: top;\n",
       "    }\n",
       "\n",
       "    .dataframe thead th {\n",
       "        text-align: right;\n",
       "    }\n",
       "</style>\n",
       "<table border=\"1\" class=\"dataframe\">\n",
       "  <thead>\n",
       "    <tr style=\"text-align: right;\">\n",
       "      <th></th>\n",
       "      <th>gov_spending</th>\n",
       "    </tr>\n",
       "    <tr>\n",
       "      <th>time</th>\n",
       "      <th></th>\n",
       "    </tr>\n",
       "  </thead>\n",
       "  <tbody>\n",
       "    <tr>\n",
       "      <th>1961-01-01</th>\n",
       "      <td>112816.0</td>\n",
       "    </tr>\n",
       "    <tr>\n",
       "      <th>1961-04-01</th>\n",
       "      <td>114737.0</td>\n",
       "    </tr>\n",
       "    <tr>\n",
       "      <th>1961-07-01</th>\n",
       "      <td>119348.0</td>\n",
       "    </tr>\n",
       "    <tr>\n",
       "      <th>1961-10-01</th>\n",
       "      <td>119115.0</td>\n",
       "    </tr>\n",
       "    <tr>\n",
       "      <th>1962-01-01</th>\n",
       "      <td>121328.0</td>\n",
       "    </tr>\n",
       "  </tbody>\n",
       "</table>\n",
       "</div>"
      ],
      "text/plain": [
       "            gov_spending\n",
       "time                    \n",
       "1961-01-01      112816.0\n",
       "1961-04-01      114737.0\n",
       "1961-07-01      119348.0\n",
       "1961-10-01      119115.0\n",
       "1962-01-01      121328.0"
      ]
     },
     "execution_count": 46,
     "metadata": {},
     "output_type": "execute_result"
    }
   ],
   "source": [
    "# Total government spending table\n",
    "gov_mask = real_expenditure_GDP['Estimates'].isin([\n",
    "    \"General governments final consumption expenditure\",\n",
    "    \"General governments gross fixed capital formation\"\n",
    "])\n",
    "subset_gov = real_expenditure_GDP[gov_mask].copy()\n",
    "\n",
    "time_cols = [col for col in subset_gov.columns if col.startswith(\"Q\")]\n",
    "for col in time_cols:\n",
    "    subset_gov[col] = subset_gov[col].astype(str).str.replace(',', '').astype(float)\n",
    "\n",
    "clean_gov = subset_gov.melt(\n",
    "    id_vars=[\"Estimates\"],\n",
    "    value_vars=time_cols,\n",
    "    var_name=\"time\",\n",
    "    value_name=\"gov_spending\"\n",
    ")\n",
    "\n",
    "clean_gov['time'] = clean_gov['time'].apply(convert_quarter_to_date)\n",
    "clean_gov= clean_gov.drop(columns=['Estimates']).groupby(\"time\").sum()\n",
    "clean_gov.head()"
   ]
  },
  {
   "cell_type": "markdown",
   "id": "2ff16ecd-bf2d-46d9-ad0b-6775710d3352",
   "metadata": {},
   "source": [
    "## Visualization"
   ]
  },
  {
   "cell_type": "markdown",
   "id": "e60018eb-2816-4e88-960f-094991ca46c3",
   "metadata": {},
   "source": [
    "This section constructs an interactive line plot of Canada’s GDP components (1961–2024), focusing on Consumption, Investment, and Government Spending. The visualization enables comparative analysis of long-term trends, compositional shifts, and growth trajectories, empowering readers to interrogate how each expenditure category evolved over six decades of economic cycles.\n",
    "\n",
    "First, we combine all the separate data tables into a single dataset for analysis."
   ]
  },
  {
   "cell_type": "code",
   "execution_count": 47,
   "id": "2e1f225a-ac75-42f0-ac4f-174bb42dc1bc",
   "metadata": {},
   "outputs": [
    {
     "data": {
      "text/html": [
       "<div>\n",
       "<style scoped>\n",
       "    .dataframe tbody tr th:only-of-type {\n",
       "        vertical-align: middle;\n",
       "    }\n",
       "\n",
       "    .dataframe tbody tr th {\n",
       "        vertical-align: top;\n",
       "    }\n",
       "\n",
       "    .dataframe thead th {\n",
       "        text-align: right;\n",
       "    }\n",
       "</style>\n",
       "<table border=\"1\" class=\"dataframe\">\n",
       "  <thead>\n",
       "    <tr style=\"text-align: right;\">\n",
       "      <th></th>\n",
       "      <th>time</th>\n",
       "      <th>Category</th>\n",
       "      <th>Value</th>\n",
       "    </tr>\n",
       "  </thead>\n",
       "  <tbody>\n",
       "    <tr>\n",
       "      <th>0</th>\n",
       "      <td>1961-01-01</td>\n",
       "      <td>consumption</td>\n",
       "      <td>196797.0</td>\n",
       "    </tr>\n",
       "    <tr>\n",
       "      <th>1</th>\n",
       "      <td>1961-04-01</td>\n",
       "      <td>consumption</td>\n",
       "      <td>200550.0</td>\n",
       "    </tr>\n",
       "    <tr>\n",
       "      <th>2</th>\n",
       "      <td>1961-07-01</td>\n",
       "      <td>consumption</td>\n",
       "      <td>205473.0</td>\n",
       "    </tr>\n",
       "    <tr>\n",
       "      <th>3</th>\n",
       "      <td>1961-10-01</td>\n",
       "      <td>consumption</td>\n",
       "      <td>206271.0</td>\n",
       "    </tr>\n",
       "    <tr>\n",
       "      <th>4</th>\n",
       "      <td>1962-01-01</td>\n",
       "      <td>consumption</td>\n",
       "      <td>211052.0</td>\n",
       "    </tr>\n",
       "  </tbody>\n",
       "</table>\n",
       "</div>"
      ],
      "text/plain": [
       "        time     Category     Value\n",
       "0 1961-01-01  consumption  196797.0\n",
       "1 1961-04-01  consumption  200550.0\n",
       "2 1961-07-01  consumption  205473.0\n",
       "3 1961-10-01  consumption  206271.0\n",
       "4 1962-01-01  consumption  211052.0"
      ]
     },
     "execution_count": 47,
     "metadata": {},
     "output_type": "execute_result"
    }
   ],
   "source": [
    "component_GDP = clean_consumption.merge(clean_investment, on=\"time\").merge(clean_gov, on = \"time\")\n",
    "\n",
    "component_GDP = component_GDP.reset_index() \n",
    "component_GDP[\"time\"] = pd.to_datetime(component_GDP[\"time\"])\n",
    "GDP_long = component_GDP.melt(id_vars=[\"time\"], var_name=\"Category\", value_name=\"Value\")\n",
    "GDP_long.head()"
   ]
  },
  {
   "cell_type": "markdown",
   "id": "c81c6841-5ac3-4ff8-8e20-03f58d01af46",
   "metadata": {},
   "source": [
    "Then we build an interactive line chart to visualize Canada’s GDP components (1961–2024). The dropdown menu allows users to toggle between Consumption, Investment, or Government Spending. Native Plotly tools (zoom, pan, hover) allow users inspect quarterly values by hovering or zooming into specific timeframes (such as 2008 financial crisis). The hover tooltip (auto-generated by Plotly) displays exact dates and expenditure values. "
   ]
  },
  {
   "cell_type": "code",
   "execution_count": 48,
   "id": "9a1adc3a-82ad-42d7-8444-7097eedfb988",
   "metadata": {},
   "outputs": [
    {
     "data": {
      "application/vnd.plotly.v1+json": {
       "config": {
        "plotlyServerURL": "https://plot.ly"
       },
       "data": [
        {
         "hovertemplate": "Category=consumption<br>Year=%{x}<br>Real Expenditure=%{y}<extra></extra>",
         "legendgroup": "consumption",
         "line": {
          "color": "#636efa",
          "dash": "solid"
         },
         "marker": {
          "symbol": "circle"
         },
         "mode": "lines",
         "name": "consumption",
         "orientation": "v",
         "showlegend": true,
         "type": "scatter",
         "x": [
          "1961-01-01T00:00:00",
          "1961-04-01T00:00:00",
          "1961-07-01T00:00:00",
          "1961-10-01T00:00:00",
          "1962-01-01T00:00:00",
          "1962-04-01T00:00:00",
          "1962-07-01T00:00:00",
          "1962-10-01T00:00:00",
          "1963-01-01T00:00:00",
          "1963-04-01T00:00:00",
          "1963-07-01T00:00:00",
          "1963-10-01T00:00:00",
          "1964-01-01T00:00:00",
          "1964-04-01T00:00:00",
          "1964-07-01T00:00:00",
          "1964-10-01T00:00:00",
          "1965-01-01T00:00:00",
          "1965-04-01T00:00:00",
          "1965-07-01T00:00:00",
          "1965-10-01T00:00:00",
          "1966-01-01T00:00:00",
          "1966-04-01T00:00:00",
          "1966-07-01T00:00:00",
          "1966-10-01T00:00:00",
          "1967-01-01T00:00:00",
          "1967-04-01T00:00:00",
          "1967-07-01T00:00:00",
          "1967-10-01T00:00:00",
          "1968-01-01T00:00:00",
          "1968-04-01T00:00:00",
          "1968-07-01T00:00:00",
          "1968-10-01T00:00:00",
          "1969-01-01T00:00:00",
          "1969-04-01T00:00:00",
          "1969-07-01T00:00:00",
          "1969-10-01T00:00:00",
          "1970-01-01T00:00:00",
          "1970-04-01T00:00:00",
          "1970-07-01T00:00:00",
          "1970-10-01T00:00:00",
          "1971-01-01T00:00:00",
          "1971-04-01T00:00:00",
          "1971-07-01T00:00:00",
          "1971-10-01T00:00:00",
          "1972-01-01T00:00:00",
          "1972-04-01T00:00:00",
          "1972-07-01T00:00:00",
          "1972-10-01T00:00:00",
          "1973-01-01T00:00:00",
          "1973-04-01T00:00:00",
          "1973-07-01T00:00:00",
          "1973-10-01T00:00:00",
          "1974-01-01T00:00:00",
          "1974-04-01T00:00:00",
          "1974-07-01T00:00:00",
          "1974-10-01T00:00:00",
          "1975-01-01T00:00:00",
          "1975-04-01T00:00:00",
          "1975-07-01T00:00:00",
          "1975-10-01T00:00:00",
          "1976-01-01T00:00:00",
          "1976-04-01T00:00:00",
          "1976-07-01T00:00:00",
          "1976-10-01T00:00:00",
          "1977-01-01T00:00:00",
          "1977-04-01T00:00:00",
          "1977-07-01T00:00:00",
          "1977-10-01T00:00:00",
          "1978-01-01T00:00:00",
          "1978-04-01T00:00:00",
          "1978-07-01T00:00:00",
          "1978-10-01T00:00:00",
          "1979-01-01T00:00:00",
          "1979-04-01T00:00:00",
          "1979-07-01T00:00:00",
          "1979-10-01T00:00:00",
          "1980-01-01T00:00:00",
          "1980-04-01T00:00:00",
          "1980-07-01T00:00:00",
          "1980-10-01T00:00:00",
          "1981-01-01T00:00:00",
          "1981-04-01T00:00:00",
          "1981-07-01T00:00:00",
          "1981-10-01T00:00:00",
          "1982-01-01T00:00:00",
          "1982-04-01T00:00:00",
          "1982-07-01T00:00:00",
          "1982-10-01T00:00:00",
          "1983-01-01T00:00:00",
          "1983-04-01T00:00:00",
          "1983-07-01T00:00:00",
          "1983-10-01T00:00:00",
          "1984-01-01T00:00:00",
          "1984-04-01T00:00:00",
          "1984-07-01T00:00:00",
          "1984-10-01T00:00:00",
          "1985-01-01T00:00:00",
          "1985-04-01T00:00:00",
          "1985-07-01T00:00:00",
          "1985-10-01T00:00:00",
          "1986-01-01T00:00:00",
          "1986-04-01T00:00:00",
          "1986-07-01T00:00:00",
          "1986-10-01T00:00:00",
          "1987-01-01T00:00:00",
          "1987-04-01T00:00:00",
          "1987-07-01T00:00:00",
          "1987-10-01T00:00:00",
          "1988-01-01T00:00:00",
          "1988-04-01T00:00:00",
          "1988-07-01T00:00:00",
          "1988-10-01T00:00:00",
          "1989-01-01T00:00:00",
          "1989-04-01T00:00:00",
          "1989-07-01T00:00:00",
          "1989-10-01T00:00:00",
          "1990-01-01T00:00:00",
          "1990-04-01T00:00:00",
          "1990-07-01T00:00:00",
          "1990-10-01T00:00:00",
          "1991-01-01T00:00:00",
          "1991-04-01T00:00:00",
          "1991-07-01T00:00:00",
          "1991-10-01T00:00:00",
          "1992-01-01T00:00:00",
          "1992-04-01T00:00:00",
          "1992-07-01T00:00:00",
          "1992-10-01T00:00:00",
          "1993-01-01T00:00:00",
          "1993-04-01T00:00:00",
          "1993-07-01T00:00:00",
          "1993-10-01T00:00:00",
          "1994-01-01T00:00:00",
          "1994-04-01T00:00:00",
          "1994-07-01T00:00:00",
          "1994-10-01T00:00:00",
          "1995-01-01T00:00:00",
          "1995-04-01T00:00:00",
          "1995-07-01T00:00:00",
          "1995-10-01T00:00:00",
          "1996-01-01T00:00:00",
          "1996-04-01T00:00:00",
          "1996-07-01T00:00:00",
          "1996-10-01T00:00:00",
          "1997-01-01T00:00:00",
          "1997-04-01T00:00:00",
          "1997-07-01T00:00:00",
          "1997-10-01T00:00:00",
          "1998-01-01T00:00:00",
          "1998-04-01T00:00:00",
          "1998-07-01T00:00:00",
          "1998-10-01T00:00:00",
          "1999-01-01T00:00:00",
          "1999-04-01T00:00:00",
          "1999-07-01T00:00:00",
          "1999-10-01T00:00:00",
          "2000-01-01T00:00:00",
          "2000-04-01T00:00:00",
          "2000-07-01T00:00:00",
          "2000-10-01T00:00:00",
          "2001-01-01T00:00:00",
          "2001-04-01T00:00:00",
          "2001-07-01T00:00:00",
          "2001-10-01T00:00:00",
          "2002-01-01T00:00:00",
          "2002-04-01T00:00:00",
          "2002-07-01T00:00:00",
          "2002-10-01T00:00:00",
          "2003-01-01T00:00:00",
          "2003-04-01T00:00:00",
          "2003-07-01T00:00:00",
          "2003-10-01T00:00:00",
          "2004-01-01T00:00:00",
          "2004-04-01T00:00:00",
          "2004-07-01T00:00:00",
          "2004-10-01T00:00:00",
          "2005-01-01T00:00:00",
          "2005-04-01T00:00:00",
          "2005-07-01T00:00:00",
          "2005-10-01T00:00:00",
          "2006-01-01T00:00:00",
          "2006-04-01T00:00:00",
          "2006-07-01T00:00:00",
          "2006-10-01T00:00:00",
          "2007-01-01T00:00:00",
          "2007-04-01T00:00:00",
          "2007-07-01T00:00:00",
          "2007-10-01T00:00:00",
          "2008-01-01T00:00:00",
          "2008-04-01T00:00:00",
          "2008-07-01T00:00:00",
          "2008-10-01T00:00:00",
          "2009-01-01T00:00:00",
          "2009-04-01T00:00:00",
          "2009-07-01T00:00:00",
          "2009-10-01T00:00:00",
          "2010-01-01T00:00:00",
          "2010-04-01T00:00:00",
          "2010-07-01T00:00:00",
          "2010-10-01T00:00:00",
          "2011-01-01T00:00:00",
          "2011-04-01T00:00:00",
          "2011-07-01T00:00:00",
          "2011-10-01T00:00:00",
          "2012-01-01T00:00:00",
          "2012-04-01T00:00:00",
          "2012-07-01T00:00:00",
          "2012-10-01T00:00:00",
          "2013-01-01T00:00:00",
          "2013-04-01T00:00:00",
          "2013-07-01T00:00:00",
          "2013-10-01T00:00:00",
          "2014-01-01T00:00:00",
          "2014-04-01T00:00:00",
          "2014-07-01T00:00:00",
          "2014-10-01T00:00:00",
          "2015-01-01T00:00:00",
          "2015-04-01T00:00:00",
          "2015-07-01T00:00:00",
          "2015-10-01T00:00:00",
          "2016-01-01T00:00:00",
          "2016-04-01T00:00:00",
          "2016-07-01T00:00:00",
          "2016-10-01T00:00:00",
          "2017-01-01T00:00:00",
          "2017-04-01T00:00:00",
          "2017-07-01T00:00:00",
          "2017-10-01T00:00:00",
          "2018-01-01T00:00:00",
          "2018-04-01T00:00:00",
          "2018-07-01T00:00:00",
          "2018-10-01T00:00:00",
          "2019-01-01T00:00:00",
          "2019-04-01T00:00:00",
          "2019-07-01T00:00:00",
          "2019-10-01T00:00:00",
          "2020-01-01T00:00:00",
          "2020-04-01T00:00:00",
          "2020-07-01T00:00:00",
          "2020-10-01T00:00:00",
          "2021-01-01T00:00:00",
          "2021-04-01T00:00:00",
          "2021-07-01T00:00:00",
          "2021-10-01T00:00:00",
          "2022-01-01T00:00:00",
          "2022-04-01T00:00:00",
          "2022-07-01T00:00:00",
          "2022-10-01T00:00:00",
          "2023-01-01T00:00:00",
          "2023-04-01T00:00:00",
          "2023-07-01T00:00:00",
          "2023-10-01T00:00:00",
          "2024-01-01T00:00:00",
          "2024-04-01T00:00:00",
          "2024-07-01T00:00:00"
         ],
         "xaxis": "x",
         "y": [
          196797,
          200550,
          205473,
          206271,
          211052,
          212405,
          211689,
          215617,
          217091,
          221064,
          222328,
          226119,
          230294,
          230938,
          235493,
          237313,
          239506,
          245177,
          249172,
          254309,
          256035,
          257329,
          262137,
          262257,
          264522,
          269393,
          268997,
          274233,
          276970,
          278097,
          283415,
          287160,
          293698,
          292456,
          295355,
          298925,
          296202,
          298372,
          303986,
          306857,
          304799,
          315361,
          322413,
          329202,
          330648,
          338729,
          341504,
          349285,
          358336,
          360782,
          363629,
          370245,
          380396,
          382691,
          384125,
          379666,
          387925,
          392731,
          399815,
          406584,
          406487,
          417040,
          418639,
          427217,
          425695,
          424787,
          431143,
          435105,
          438309,
          441252,
          443522,
          444922,
          451287,
          451709,
          452744,
          454059,
          457136,
          455283,
          463028,
          466075,
          467166,
          466539,
          463932,
          464861,
          457779,
          454069,
          452348,
          450805,
          457063,
          462522,
          467972,
          472992,
          477039,
          482020,
          482602,
          490988,
          497225,
          501745,
          511313,
          516632,
          516024,
          521949,
          529219,
          529260,
          534272,
          542865,
          547461,
          553844,
          557461,
          565337,
          568835,
          576191,
          580391,
          587989,
          586290,
          590090,
          599337,
          592638,
          592941,
          591024,
          579203,
          588951,
          588667,
          592096,
          592278,
          594721,
          597899,
          600089,
          603297,
          605496,
          609497,
          611041,
          621028,
          622000,
          624718,
          632022,
          631780,
          636625,
          643556,
          643788,
          652580,
          653817,
          656569,
          668593,
          680192,
          686054,
          695004,
          699756,
          700183,
          708665,
          712685,
          714820,
          725308,
          732694,
          741774,
          748920,
          756902,
          763450,
          773237,
          775053,
          781053,
          782490,
          784690,
          794433,
          806536,
          816959,
          818711,
          826790,
          830409,
          837374,
          844647,
          845597,
          856317,
          860074,
          868266,
          875507,
          887965,
          895731,
          901899,
          910590,
          923347,
          931539,
          941377,
          950854,
          958265,
          972601,
          981647,
          999789,
          1008261,
          1010328,
          1011277,
          999443,
          996095,
          1003693,
          1013294,
          1019616,
          1030980,
          1039844,
          1048220,
          1058255,
          1060572,
          1065437,
          1070027,
          1076431,
          1082466,
          1083962,
          1090584,
          1096468,
          1103810,
          1113932,
          1121717,
          1128399,
          1131596,
          1141918,
          1150420,
          1159052,
          1161015,
          1167255,
          1176066,
          1185031,
          1186604,
          1192264,
          1200383,
          1208852,
          1221601,
          1237234,
          1249103,
          1256314,
          1264740,
          1272149,
          1279159,
          1279338,
          1286257,
          1289397,
          1295559,
          1304846,
          1277779,
          1097087,
          1235259,
          1241944,
          1247007,
          1246328,
          1312201,
          1325757,
          1332511,
          1359017,
          1359773,
          1360444,
          1373422,
          1376434,
          1379400,
          1383902,
          1394627,
          1397915,
          1409699
         ],
         "yaxis": "y"
        },
        {
         "hovertemplate": "Category=investment<br>Year=%{x}<br>Real Expenditure=%{y}<extra></extra>",
         "legendgroup": "investment",
         "line": {
          "color": "#EF553B",
          "dash": "solid"
         },
         "marker": {
          "symbol": "circle"
         },
         "mode": "lines",
         "name": "investment",
         "orientation": "v",
         "showlegend": true,
         "type": "scatter",
         "x": [
          "1961-01-01T00:00:00",
          "1961-04-01T00:00:00",
          "1961-07-01T00:00:00",
          "1961-10-01T00:00:00",
          "1962-01-01T00:00:00",
          "1962-04-01T00:00:00",
          "1962-07-01T00:00:00",
          "1962-10-01T00:00:00",
          "1963-01-01T00:00:00",
          "1963-04-01T00:00:00",
          "1963-07-01T00:00:00",
          "1963-10-01T00:00:00",
          "1964-01-01T00:00:00",
          "1964-04-01T00:00:00",
          "1964-07-01T00:00:00",
          "1964-10-01T00:00:00",
          "1965-01-01T00:00:00",
          "1965-04-01T00:00:00",
          "1965-07-01T00:00:00",
          "1965-10-01T00:00:00",
          "1966-01-01T00:00:00",
          "1966-04-01T00:00:00",
          "1966-07-01T00:00:00",
          "1966-10-01T00:00:00",
          "1967-01-01T00:00:00",
          "1967-04-01T00:00:00",
          "1967-07-01T00:00:00",
          "1967-10-01T00:00:00",
          "1968-01-01T00:00:00",
          "1968-04-01T00:00:00",
          "1968-07-01T00:00:00",
          "1968-10-01T00:00:00",
          "1969-01-01T00:00:00",
          "1969-04-01T00:00:00",
          "1969-07-01T00:00:00",
          "1969-10-01T00:00:00",
          "1970-01-01T00:00:00",
          "1970-04-01T00:00:00",
          "1970-07-01T00:00:00",
          "1970-10-01T00:00:00",
          "1971-01-01T00:00:00",
          "1971-04-01T00:00:00",
          "1971-07-01T00:00:00",
          "1971-10-01T00:00:00",
          "1972-01-01T00:00:00",
          "1972-04-01T00:00:00",
          "1972-07-01T00:00:00",
          "1972-10-01T00:00:00",
          "1973-01-01T00:00:00",
          "1973-04-01T00:00:00",
          "1973-07-01T00:00:00",
          "1973-10-01T00:00:00",
          "1974-01-01T00:00:00",
          "1974-04-01T00:00:00",
          "1974-07-01T00:00:00",
          "1974-10-01T00:00:00",
          "1975-01-01T00:00:00",
          "1975-04-01T00:00:00",
          "1975-07-01T00:00:00",
          "1975-10-01T00:00:00",
          "1976-01-01T00:00:00",
          "1976-04-01T00:00:00",
          "1976-07-01T00:00:00",
          "1976-10-01T00:00:00",
          "1977-01-01T00:00:00",
          "1977-04-01T00:00:00",
          "1977-07-01T00:00:00",
          "1977-10-01T00:00:00",
          "1978-01-01T00:00:00",
          "1978-04-01T00:00:00",
          "1978-07-01T00:00:00",
          "1978-10-01T00:00:00",
          "1979-01-01T00:00:00",
          "1979-04-01T00:00:00",
          "1979-07-01T00:00:00",
          "1979-10-01T00:00:00",
          "1980-01-01T00:00:00",
          "1980-04-01T00:00:00",
          "1980-07-01T00:00:00",
          "1980-10-01T00:00:00",
          "1981-01-01T00:00:00",
          "1981-04-01T00:00:00",
          "1981-07-01T00:00:00",
          "1981-10-01T00:00:00",
          "1982-01-01T00:00:00",
          "1982-04-01T00:00:00",
          "1982-07-01T00:00:00",
          "1982-10-01T00:00:00",
          "1983-01-01T00:00:00",
          "1983-04-01T00:00:00",
          "1983-07-01T00:00:00",
          "1983-10-01T00:00:00",
          "1984-01-01T00:00:00",
          "1984-04-01T00:00:00",
          "1984-07-01T00:00:00",
          "1984-10-01T00:00:00",
          "1985-01-01T00:00:00",
          "1985-04-01T00:00:00",
          "1985-07-01T00:00:00",
          "1985-10-01T00:00:00",
          "1986-01-01T00:00:00",
          "1986-04-01T00:00:00",
          "1986-07-01T00:00:00",
          "1986-10-01T00:00:00",
          "1987-01-01T00:00:00",
          "1987-04-01T00:00:00",
          "1987-07-01T00:00:00",
          "1987-10-01T00:00:00",
          "1988-01-01T00:00:00",
          "1988-04-01T00:00:00",
          "1988-07-01T00:00:00",
          "1988-10-01T00:00:00",
          "1989-01-01T00:00:00",
          "1989-04-01T00:00:00",
          "1989-07-01T00:00:00",
          "1989-10-01T00:00:00",
          "1990-01-01T00:00:00",
          "1990-04-01T00:00:00",
          "1990-07-01T00:00:00",
          "1990-10-01T00:00:00",
          "1991-01-01T00:00:00",
          "1991-04-01T00:00:00",
          "1991-07-01T00:00:00",
          "1991-10-01T00:00:00",
          "1992-01-01T00:00:00",
          "1992-04-01T00:00:00",
          "1992-07-01T00:00:00",
          "1992-10-01T00:00:00",
          "1993-01-01T00:00:00",
          "1993-04-01T00:00:00",
          "1993-07-01T00:00:00",
          "1993-10-01T00:00:00",
          "1994-01-01T00:00:00",
          "1994-04-01T00:00:00",
          "1994-07-01T00:00:00",
          "1994-10-01T00:00:00",
          "1995-01-01T00:00:00",
          "1995-04-01T00:00:00",
          "1995-07-01T00:00:00",
          "1995-10-01T00:00:00",
          "1996-01-01T00:00:00",
          "1996-04-01T00:00:00",
          "1996-07-01T00:00:00",
          "1996-10-01T00:00:00",
          "1997-01-01T00:00:00",
          "1997-04-01T00:00:00",
          "1997-07-01T00:00:00",
          "1997-10-01T00:00:00",
          "1998-01-01T00:00:00",
          "1998-04-01T00:00:00",
          "1998-07-01T00:00:00",
          "1998-10-01T00:00:00",
          "1999-01-01T00:00:00",
          "1999-04-01T00:00:00",
          "1999-07-01T00:00:00",
          "1999-10-01T00:00:00",
          "2000-01-01T00:00:00",
          "2000-04-01T00:00:00",
          "2000-07-01T00:00:00",
          "2000-10-01T00:00:00",
          "2001-01-01T00:00:00",
          "2001-04-01T00:00:00",
          "2001-07-01T00:00:00",
          "2001-10-01T00:00:00",
          "2002-01-01T00:00:00",
          "2002-04-01T00:00:00",
          "2002-07-01T00:00:00",
          "2002-10-01T00:00:00",
          "2003-01-01T00:00:00",
          "2003-04-01T00:00:00",
          "2003-07-01T00:00:00",
          "2003-10-01T00:00:00",
          "2004-01-01T00:00:00",
          "2004-04-01T00:00:00",
          "2004-07-01T00:00:00",
          "2004-10-01T00:00:00",
          "2005-01-01T00:00:00",
          "2005-04-01T00:00:00",
          "2005-07-01T00:00:00",
          "2005-10-01T00:00:00",
          "2006-01-01T00:00:00",
          "2006-04-01T00:00:00",
          "2006-07-01T00:00:00",
          "2006-10-01T00:00:00",
          "2007-01-01T00:00:00",
          "2007-04-01T00:00:00",
          "2007-07-01T00:00:00",
          "2007-10-01T00:00:00",
          "2008-01-01T00:00:00",
          "2008-04-01T00:00:00",
          "2008-07-01T00:00:00",
          "2008-10-01T00:00:00",
          "2009-01-01T00:00:00",
          "2009-04-01T00:00:00",
          "2009-07-01T00:00:00",
          "2009-10-01T00:00:00",
          "2010-01-01T00:00:00",
          "2010-04-01T00:00:00",
          "2010-07-01T00:00:00",
          "2010-10-01T00:00:00",
          "2011-01-01T00:00:00",
          "2011-04-01T00:00:00",
          "2011-07-01T00:00:00",
          "2011-10-01T00:00:00",
          "2012-01-01T00:00:00",
          "2012-04-01T00:00:00",
          "2012-07-01T00:00:00",
          "2012-10-01T00:00:00",
          "2013-01-01T00:00:00",
          "2013-04-01T00:00:00",
          "2013-07-01T00:00:00",
          "2013-10-01T00:00:00",
          "2014-01-01T00:00:00",
          "2014-04-01T00:00:00",
          "2014-07-01T00:00:00",
          "2014-10-01T00:00:00",
          "2015-01-01T00:00:00",
          "2015-04-01T00:00:00",
          "2015-07-01T00:00:00",
          "2015-10-01T00:00:00",
          "2016-01-01T00:00:00",
          "2016-04-01T00:00:00",
          "2016-07-01T00:00:00",
          "2016-10-01T00:00:00",
          "2017-01-01T00:00:00",
          "2017-04-01T00:00:00",
          "2017-07-01T00:00:00",
          "2017-10-01T00:00:00",
          "2018-01-01T00:00:00",
          "2018-04-01T00:00:00",
          "2018-07-01T00:00:00",
          "2018-10-01T00:00:00",
          "2019-01-01T00:00:00",
          "2019-04-01T00:00:00",
          "2019-07-01T00:00:00",
          "2019-10-01T00:00:00",
          "2020-01-01T00:00:00",
          "2020-04-01T00:00:00",
          "2020-07-01T00:00:00",
          "2020-10-01T00:00:00",
          "2021-01-01T00:00:00",
          "2021-04-01T00:00:00",
          "2021-07-01T00:00:00",
          "2021-10-01T00:00:00",
          "2022-01-01T00:00:00",
          "2022-04-01T00:00:00",
          "2022-07-01T00:00:00",
          "2022-10-01T00:00:00",
          "2023-01-01T00:00:00",
          "2023-04-01T00:00:00",
          "2023-07-01T00:00:00",
          "2023-10-01T00:00:00",
          "2024-01-01T00:00:00",
          "2024-04-01T00:00:00",
          "2024-07-01T00:00:00"
         ],
         "xaxis": "x",
         "y": [
          50342,
          50486,
          52168,
          51834,
          51595,
          51759,
          54003,
          53425,
          52799,
          54271,
          55736,
          58604,
          62424,
          63192,
          64110,
          68555,
          67708,
          69206,
          72837,
          75417,
          77887,
          80337,
          79299,
          80024,
          80598,
          79568,
          78255,
          76631,
          78464,
          78834,
          78926,
          81102,
          83084,
          84404,
          85267,
          86201,
          87106,
          83489,
          85728,
          86633,
          86446,
          89820,
          91927,
          94316,
          95198,
          96586,
          96097,
          95650,
          102699,
          105416,
          107625,
          112586,
          117940,
          113055,
          111773,
          111056,
          112514,
          115835,
          121970,
          124260,
          125691,
          130863,
          127736,
          128511,
          130467,
          130844,
          132207,
          130657,
          130740,
          134364,
          134751,
          136463,
          138687,
          140713,
          149371,
          150350,
          151536,
          146681,
          153461,
          158364,
          167416,
          172070,
          166889,
          164439,
          158448,
          145550,
          137660,
          140641,
          140280,
          143921,
          145384,
          146465,
          146375,
          145887,
          146714,
          146326,
          149726,
          156841,
          161986,
          164107,
          166475,
          166474,
          165845,
          166738,
          171145,
          180158,
          190818,
          194356,
          197856,
          199578,
          206889,
          203766,
          212884,
          210635,
          208555,
          215311,
          211122,
          205117,
          197634,
          189135,
          190294,
          186774,
          187687,
          190062,
          189183,
          179860,
          184665,
          176439,
          172721,
          177490,
          182236,
          185753,
          188028,
          195038,
          193945,
          194796,
          190504,
          190174,
          189202,
          189888,
          195522,
          196608,
          206304,
          218903,
          225293,
          232706,
          240479,
          243132,
          242266,
          242938,
          243709,
          246392,
          247124,
          252590,
          254359,
          260789,
          263626,
          266180,
          269190,
          269937,
          275835,
          279470,
          282166,
          270743,
          272428,
          276632,
          281607,
          282888,
          285218,
          287372,
          297559,
          304804,
          311868,
          317220,
          322158,
          327462,
          335402,
          343461,
          353383,
          361069,
          368844,
          372125,
          371628,
          372648,
          377228,
          379432,
          380464,
          385897,
          393423,
          390880,
          387229,
          366885,
          322037,
          317388,
          323612,
          336844,
          351317,
          359818,
          365034,
          373867,
          380926,
          388110,
          393570,
          401154,
          412620,
          416970,
          416886,
          421326,
          425047,
          428699,
          429556,
          432888,
          434614,
          439704,
          446200,
          452724,
          428316,
          416284,
          409883,
          405474,
          394633,
          392884,
          394852,
          386062,
          398198,
          400299,
          400537,
          412059,
          414006,
          417065,
          410002,
          407213,
          416155,
          415033,
          423365,
          419637,
          411327,
          347876,
          409446,
          422495,
          439361,
          448728,
          430839,
          438216,
          448376,
          435318,
          427981,
          421383,
          419744,
          427006,
          422959,
          414947,
          414079,
          417421,
          413645
         ],
         "yaxis": "y"
        },
        {
         "hovertemplate": "Category=gov_spending<br>Year=%{x}<br>Real Expenditure=%{y}<extra></extra>",
         "legendgroup": "gov_spending",
         "line": {
          "color": "#00cc96",
          "dash": "solid"
         },
         "marker": {
          "symbol": "circle"
         },
         "mode": "lines",
         "name": "gov_spending",
         "orientation": "v",
         "showlegend": true,
         "type": "scatter",
         "x": [
          "1961-01-01T00:00:00",
          "1961-04-01T00:00:00",
          "1961-07-01T00:00:00",
          "1961-10-01T00:00:00",
          "1962-01-01T00:00:00",
          "1962-04-01T00:00:00",
          "1962-07-01T00:00:00",
          "1962-10-01T00:00:00",
          "1963-01-01T00:00:00",
          "1963-04-01T00:00:00",
          "1963-07-01T00:00:00",
          "1963-10-01T00:00:00",
          "1964-01-01T00:00:00",
          "1964-04-01T00:00:00",
          "1964-07-01T00:00:00",
          "1964-10-01T00:00:00",
          "1965-01-01T00:00:00",
          "1965-04-01T00:00:00",
          "1965-07-01T00:00:00",
          "1965-10-01T00:00:00",
          "1966-01-01T00:00:00",
          "1966-04-01T00:00:00",
          "1966-07-01T00:00:00",
          "1966-10-01T00:00:00",
          "1967-01-01T00:00:00",
          "1967-04-01T00:00:00",
          "1967-07-01T00:00:00",
          "1967-10-01T00:00:00",
          "1968-01-01T00:00:00",
          "1968-04-01T00:00:00",
          "1968-07-01T00:00:00",
          "1968-10-01T00:00:00",
          "1969-01-01T00:00:00",
          "1969-04-01T00:00:00",
          "1969-07-01T00:00:00",
          "1969-10-01T00:00:00",
          "1970-01-01T00:00:00",
          "1970-04-01T00:00:00",
          "1970-07-01T00:00:00",
          "1970-10-01T00:00:00",
          "1971-01-01T00:00:00",
          "1971-04-01T00:00:00",
          "1971-07-01T00:00:00",
          "1971-10-01T00:00:00",
          "1972-01-01T00:00:00",
          "1972-04-01T00:00:00",
          "1972-07-01T00:00:00",
          "1972-10-01T00:00:00",
          "1973-01-01T00:00:00",
          "1973-04-01T00:00:00",
          "1973-07-01T00:00:00",
          "1973-10-01T00:00:00",
          "1974-01-01T00:00:00",
          "1974-04-01T00:00:00",
          "1974-07-01T00:00:00",
          "1974-10-01T00:00:00",
          "1975-01-01T00:00:00",
          "1975-04-01T00:00:00",
          "1975-07-01T00:00:00",
          "1975-10-01T00:00:00",
          "1976-01-01T00:00:00",
          "1976-04-01T00:00:00",
          "1976-07-01T00:00:00",
          "1976-10-01T00:00:00",
          "1977-01-01T00:00:00",
          "1977-04-01T00:00:00",
          "1977-07-01T00:00:00",
          "1977-10-01T00:00:00",
          "1978-01-01T00:00:00",
          "1978-04-01T00:00:00",
          "1978-07-01T00:00:00",
          "1978-10-01T00:00:00",
          "1979-01-01T00:00:00",
          "1979-04-01T00:00:00",
          "1979-07-01T00:00:00",
          "1979-10-01T00:00:00",
          "1980-01-01T00:00:00",
          "1980-04-01T00:00:00",
          "1980-07-01T00:00:00",
          "1980-10-01T00:00:00",
          "1981-01-01T00:00:00",
          "1981-04-01T00:00:00",
          "1981-07-01T00:00:00",
          "1981-10-01T00:00:00",
          "1982-01-01T00:00:00",
          "1982-04-01T00:00:00",
          "1982-07-01T00:00:00",
          "1982-10-01T00:00:00",
          "1983-01-01T00:00:00",
          "1983-04-01T00:00:00",
          "1983-07-01T00:00:00",
          "1983-10-01T00:00:00",
          "1984-01-01T00:00:00",
          "1984-04-01T00:00:00",
          "1984-07-01T00:00:00",
          "1984-10-01T00:00:00",
          "1985-01-01T00:00:00",
          "1985-04-01T00:00:00",
          "1985-07-01T00:00:00",
          "1985-10-01T00:00:00",
          "1986-01-01T00:00:00",
          "1986-04-01T00:00:00",
          "1986-07-01T00:00:00",
          "1986-10-01T00:00:00",
          "1987-01-01T00:00:00",
          "1987-04-01T00:00:00",
          "1987-07-01T00:00:00",
          "1987-10-01T00:00:00",
          "1988-01-01T00:00:00",
          "1988-04-01T00:00:00",
          "1988-07-01T00:00:00",
          "1988-10-01T00:00:00",
          "1989-01-01T00:00:00",
          "1989-04-01T00:00:00",
          "1989-07-01T00:00:00",
          "1989-10-01T00:00:00",
          "1990-01-01T00:00:00",
          "1990-04-01T00:00:00",
          "1990-07-01T00:00:00",
          "1990-10-01T00:00:00",
          "1991-01-01T00:00:00",
          "1991-04-01T00:00:00",
          "1991-07-01T00:00:00",
          "1991-10-01T00:00:00",
          "1992-01-01T00:00:00",
          "1992-04-01T00:00:00",
          "1992-07-01T00:00:00",
          "1992-10-01T00:00:00",
          "1993-01-01T00:00:00",
          "1993-04-01T00:00:00",
          "1993-07-01T00:00:00",
          "1993-10-01T00:00:00",
          "1994-01-01T00:00:00",
          "1994-04-01T00:00:00",
          "1994-07-01T00:00:00",
          "1994-10-01T00:00:00",
          "1995-01-01T00:00:00",
          "1995-04-01T00:00:00",
          "1995-07-01T00:00:00",
          "1995-10-01T00:00:00",
          "1996-01-01T00:00:00",
          "1996-04-01T00:00:00",
          "1996-07-01T00:00:00",
          "1996-10-01T00:00:00",
          "1997-01-01T00:00:00",
          "1997-04-01T00:00:00",
          "1997-07-01T00:00:00",
          "1997-10-01T00:00:00",
          "1998-01-01T00:00:00",
          "1998-04-01T00:00:00",
          "1998-07-01T00:00:00",
          "1998-10-01T00:00:00",
          "1999-01-01T00:00:00",
          "1999-04-01T00:00:00",
          "1999-07-01T00:00:00",
          "1999-10-01T00:00:00",
          "2000-01-01T00:00:00",
          "2000-04-01T00:00:00",
          "2000-07-01T00:00:00",
          "2000-10-01T00:00:00",
          "2001-01-01T00:00:00",
          "2001-04-01T00:00:00",
          "2001-07-01T00:00:00",
          "2001-10-01T00:00:00",
          "2002-01-01T00:00:00",
          "2002-04-01T00:00:00",
          "2002-07-01T00:00:00",
          "2002-10-01T00:00:00",
          "2003-01-01T00:00:00",
          "2003-04-01T00:00:00",
          "2003-07-01T00:00:00",
          "2003-10-01T00:00:00",
          "2004-01-01T00:00:00",
          "2004-04-01T00:00:00",
          "2004-07-01T00:00:00",
          "2004-10-01T00:00:00",
          "2005-01-01T00:00:00",
          "2005-04-01T00:00:00",
          "2005-07-01T00:00:00",
          "2005-10-01T00:00:00",
          "2006-01-01T00:00:00",
          "2006-04-01T00:00:00",
          "2006-07-01T00:00:00",
          "2006-10-01T00:00:00",
          "2007-01-01T00:00:00",
          "2007-04-01T00:00:00",
          "2007-07-01T00:00:00",
          "2007-10-01T00:00:00",
          "2008-01-01T00:00:00",
          "2008-04-01T00:00:00",
          "2008-07-01T00:00:00",
          "2008-10-01T00:00:00",
          "2009-01-01T00:00:00",
          "2009-04-01T00:00:00",
          "2009-07-01T00:00:00",
          "2009-10-01T00:00:00",
          "2010-01-01T00:00:00",
          "2010-04-01T00:00:00",
          "2010-07-01T00:00:00",
          "2010-10-01T00:00:00",
          "2011-01-01T00:00:00",
          "2011-04-01T00:00:00",
          "2011-07-01T00:00:00",
          "2011-10-01T00:00:00",
          "2012-01-01T00:00:00",
          "2012-04-01T00:00:00",
          "2012-07-01T00:00:00",
          "2012-10-01T00:00:00",
          "2013-01-01T00:00:00",
          "2013-04-01T00:00:00",
          "2013-07-01T00:00:00",
          "2013-10-01T00:00:00",
          "2014-01-01T00:00:00",
          "2014-04-01T00:00:00",
          "2014-07-01T00:00:00",
          "2014-10-01T00:00:00",
          "2015-01-01T00:00:00",
          "2015-04-01T00:00:00",
          "2015-07-01T00:00:00",
          "2015-10-01T00:00:00",
          "2016-01-01T00:00:00",
          "2016-04-01T00:00:00",
          "2016-07-01T00:00:00",
          "2016-10-01T00:00:00",
          "2017-01-01T00:00:00",
          "2017-04-01T00:00:00",
          "2017-07-01T00:00:00",
          "2017-10-01T00:00:00",
          "2018-01-01T00:00:00",
          "2018-04-01T00:00:00",
          "2018-07-01T00:00:00",
          "2018-10-01T00:00:00",
          "2019-01-01T00:00:00",
          "2019-04-01T00:00:00",
          "2019-07-01T00:00:00",
          "2019-10-01T00:00:00",
          "2020-01-01T00:00:00",
          "2020-04-01T00:00:00",
          "2020-07-01T00:00:00",
          "2020-10-01T00:00:00",
          "2021-01-01T00:00:00",
          "2021-04-01T00:00:00",
          "2021-07-01T00:00:00",
          "2021-10-01T00:00:00",
          "2022-01-01T00:00:00",
          "2022-04-01T00:00:00",
          "2022-07-01T00:00:00",
          "2022-10-01T00:00:00",
          "2023-01-01T00:00:00",
          "2023-04-01T00:00:00",
          "2023-07-01T00:00:00",
          "2023-10-01T00:00:00",
          "2024-01-01T00:00:00",
          "2024-04-01T00:00:00",
          "2024-07-01T00:00:00"
         ],
         "xaxis": "x",
         "y": [
          112816,
          114737,
          119348,
          119115,
          121328,
          124675,
          123125,
          124747,
          126879,
          126862,
          128956,
          130003,
          135852,
          134028,
          133581,
          137798,
          140540,
          140756,
          143366,
          146476,
          149751,
          154123,
          157412,
          162127,
          161986,
          168619,
          169283,
          171004,
          172683,
          175414,
          179508,
          182612,
          181436,
          185017,
          185224,
          187726,
          193059,
          199196,
          195750,
          200247,
          198413,
          205890,
          209504,
          211891,
          207651,
          210624,
          214279,
          216619,
          215671,
          217820,
          219140,
          226538,
          225241,
          230764,
          235150,
          237998,
          239595,
          247335,
          249408,
          249359,
          248569,
          251079,
          249109,
          251730,
          256217,
          261765,
          260428,
          262560,
          261381,
          263039,
          262891,
          263660,
          262806,
          265667,
          263751,
          265258,
          267792,
          271266,
          275255,
          274462,
          275509,
          275613,
          278982,
          280060,
          277810,
          280452,
          282703,
          284367,
          279370,
          283888,
          286912,
          287263,
          288485,
          288755,
          292521,
          296293,
          301229,
          305038,
          303835,
          310140,
          309995,
          307707,
          309748,
          308441,
          311449,
          313820,
          312343,
          315834,
          320110,
          323481,
          325337,
          325239,
          327398,
          331648,
          336041,
          337232,
          343365,
          339691,
          347025,
          350351,
          349514,
          356179,
          353725,
          356980,
          356743,
          354717,
          354328,
          358178,
          356485,
          358144,
          354486,
          353773,
          349924,
          354000,
          355589,
          354828,
          352768,
          351632,
          349563,
          347207,
          346901,
          345808,
          341178,
          339681,
          340469,
          337974,
          339040,
          339055,
          347393,
          344216,
          345155,
          344828,
          350737,
          354684,
          360222,
          361549,
          365037,
          368101,
          370352,
          373007,
          379947,
          384780,
          387112,
          390034,
          391452,
          393020,
          396552,
          398765,
          403264,
          405755,
          407265,
          410844,
          414558,
          414422,
          417867,
          421021,
          421697,
          424514,
          427651,
          432938,
          434509,
          439021,
          440645,
          444429,
          447813,
          450699,
          456804,
          456940,
          463374,
          471405,
          470875,
          477739,
          477849,
          483743,
          492141,
          501590,
          505931,
          506431,
          507825,
          509953,
          508222,
          506730,
          505043,
          503112,
          505615,
          505319,
          507302,
          506223,
          500885,
          495558,
          497341,
          498447,
          499122,
          496918,
          497704,
          496851,
          504591,
          503072,
          505627,
          504929,
          509701,
          512604,
          511917,
          513866,
          519389,
          521597,
          528246,
          535800,
          540328,
          542539,
          543605,
          543069,
          541002,
          540636,
          546657,
          550613,
          550328,
          532550,
          560230,
          566600,
          574024,
          578185,
          580695,
          585009,
          591109,
          590688,
          595410,
          601146,
          605228,
          606421,
          614357,
          613120,
          617989,
          624870,
          632291
         ],
         "yaxis": "y"
        }
       ],
       "layout": {
        "legend": {
         "title": {
          "text": "Category"
         },
         "tracegroupgap": 0
        },
        "template": {
         "data": {
          "bar": [
           {
            "error_x": {
             "color": "#2a3f5f"
            },
            "error_y": {
             "color": "#2a3f5f"
            },
            "marker": {
             "line": {
              "color": "white",
              "width": 0.5
             },
             "pattern": {
              "fillmode": "overlay",
              "size": 10,
              "solidity": 0.2
             }
            },
            "type": "bar"
           }
          ],
          "barpolar": [
           {
            "marker": {
             "line": {
              "color": "white",
              "width": 0.5
             },
             "pattern": {
              "fillmode": "overlay",
              "size": 10,
              "solidity": 0.2
             }
            },
            "type": "barpolar"
           }
          ],
          "carpet": [
           {
            "aaxis": {
             "endlinecolor": "#2a3f5f",
             "gridcolor": "#C8D4E3",
             "linecolor": "#C8D4E3",
             "minorgridcolor": "#C8D4E3",
             "startlinecolor": "#2a3f5f"
            },
            "baxis": {
             "endlinecolor": "#2a3f5f",
             "gridcolor": "#C8D4E3",
             "linecolor": "#C8D4E3",
             "minorgridcolor": "#C8D4E3",
             "startlinecolor": "#2a3f5f"
            },
            "type": "carpet"
           }
          ],
          "choropleth": [
           {
            "colorbar": {
             "outlinewidth": 0,
             "ticks": ""
            },
            "type": "choropleth"
           }
          ],
          "contour": [
           {
            "colorbar": {
             "outlinewidth": 0,
             "ticks": ""
            },
            "colorscale": [
             [
              0,
              "#0d0887"
             ],
             [
              0.1111111111111111,
              "#46039f"
             ],
             [
              0.2222222222222222,
              "#7201a8"
             ],
             [
              0.3333333333333333,
              "#9c179e"
             ],
             [
              0.4444444444444444,
              "#bd3786"
             ],
             [
              0.5555555555555556,
              "#d8576b"
             ],
             [
              0.6666666666666666,
              "#ed7953"
             ],
             [
              0.7777777777777778,
              "#fb9f3a"
             ],
             [
              0.8888888888888888,
              "#fdca26"
             ],
             [
              1,
              "#f0f921"
             ]
            ],
            "type": "contour"
           }
          ],
          "contourcarpet": [
           {
            "colorbar": {
             "outlinewidth": 0,
             "ticks": ""
            },
            "type": "contourcarpet"
           }
          ],
          "heatmap": [
           {
            "colorbar": {
             "outlinewidth": 0,
             "ticks": ""
            },
            "colorscale": [
             [
              0,
              "#0d0887"
             ],
             [
              0.1111111111111111,
              "#46039f"
             ],
             [
              0.2222222222222222,
              "#7201a8"
             ],
             [
              0.3333333333333333,
              "#9c179e"
             ],
             [
              0.4444444444444444,
              "#bd3786"
             ],
             [
              0.5555555555555556,
              "#d8576b"
             ],
             [
              0.6666666666666666,
              "#ed7953"
             ],
             [
              0.7777777777777778,
              "#fb9f3a"
             ],
             [
              0.8888888888888888,
              "#fdca26"
             ],
             [
              1,
              "#f0f921"
             ]
            ],
            "type": "heatmap"
           }
          ],
          "heatmapgl": [
           {
            "colorbar": {
             "outlinewidth": 0,
             "ticks": ""
            },
            "colorscale": [
             [
              0,
              "#0d0887"
             ],
             [
              0.1111111111111111,
              "#46039f"
             ],
             [
              0.2222222222222222,
              "#7201a8"
             ],
             [
              0.3333333333333333,
              "#9c179e"
             ],
             [
              0.4444444444444444,
              "#bd3786"
             ],
             [
              0.5555555555555556,
              "#d8576b"
             ],
             [
              0.6666666666666666,
              "#ed7953"
             ],
             [
              0.7777777777777778,
              "#fb9f3a"
             ],
             [
              0.8888888888888888,
              "#fdca26"
             ],
             [
              1,
              "#f0f921"
             ]
            ],
            "type": "heatmapgl"
           }
          ],
          "histogram": [
           {
            "marker": {
             "pattern": {
              "fillmode": "overlay",
              "size": 10,
              "solidity": 0.2
             }
            },
            "type": "histogram"
           }
          ],
          "histogram2d": [
           {
            "colorbar": {
             "outlinewidth": 0,
             "ticks": ""
            },
            "colorscale": [
             [
              0,
              "#0d0887"
             ],
             [
              0.1111111111111111,
              "#46039f"
             ],
             [
              0.2222222222222222,
              "#7201a8"
             ],
             [
              0.3333333333333333,
              "#9c179e"
             ],
             [
              0.4444444444444444,
              "#bd3786"
             ],
             [
              0.5555555555555556,
              "#d8576b"
             ],
             [
              0.6666666666666666,
              "#ed7953"
             ],
             [
              0.7777777777777778,
              "#fb9f3a"
             ],
             [
              0.8888888888888888,
              "#fdca26"
             ],
             [
              1,
              "#f0f921"
             ]
            ],
            "type": "histogram2d"
           }
          ],
          "histogram2dcontour": [
           {
            "colorbar": {
             "outlinewidth": 0,
             "ticks": ""
            },
            "colorscale": [
             [
              0,
              "#0d0887"
             ],
             [
              0.1111111111111111,
              "#46039f"
             ],
             [
              0.2222222222222222,
              "#7201a8"
             ],
             [
              0.3333333333333333,
              "#9c179e"
             ],
             [
              0.4444444444444444,
              "#bd3786"
             ],
             [
              0.5555555555555556,
              "#d8576b"
             ],
             [
              0.6666666666666666,
              "#ed7953"
             ],
             [
              0.7777777777777778,
              "#fb9f3a"
             ],
             [
              0.8888888888888888,
              "#fdca26"
             ],
             [
              1,
              "#f0f921"
             ]
            ],
            "type": "histogram2dcontour"
           }
          ],
          "mesh3d": [
           {
            "colorbar": {
             "outlinewidth": 0,
             "ticks": ""
            },
            "type": "mesh3d"
           }
          ],
          "parcoords": [
           {
            "line": {
             "colorbar": {
              "outlinewidth": 0,
              "ticks": ""
             }
            },
            "type": "parcoords"
           }
          ],
          "pie": [
           {
            "automargin": true,
            "type": "pie"
           }
          ],
          "scatter": [
           {
            "fillpattern": {
             "fillmode": "overlay",
             "size": 10,
             "solidity": 0.2
            },
            "type": "scatter"
           }
          ],
          "scatter3d": [
           {
            "line": {
             "colorbar": {
              "outlinewidth": 0,
              "ticks": ""
             }
            },
            "marker": {
             "colorbar": {
              "outlinewidth": 0,
              "ticks": ""
             }
            },
            "type": "scatter3d"
           }
          ],
          "scattercarpet": [
           {
            "marker": {
             "colorbar": {
              "outlinewidth": 0,
              "ticks": ""
             }
            },
            "type": "scattercarpet"
           }
          ],
          "scattergeo": [
           {
            "marker": {
             "colorbar": {
              "outlinewidth": 0,
              "ticks": ""
             }
            },
            "type": "scattergeo"
           }
          ],
          "scattergl": [
           {
            "marker": {
             "colorbar": {
              "outlinewidth": 0,
              "ticks": ""
             }
            },
            "type": "scattergl"
           }
          ],
          "scattermapbox": [
           {
            "marker": {
             "colorbar": {
              "outlinewidth": 0,
              "ticks": ""
             }
            },
            "type": "scattermapbox"
           }
          ],
          "scatterpolar": [
           {
            "marker": {
             "colorbar": {
              "outlinewidth": 0,
              "ticks": ""
             }
            },
            "type": "scatterpolar"
           }
          ],
          "scatterpolargl": [
           {
            "marker": {
             "colorbar": {
              "outlinewidth": 0,
              "ticks": ""
             }
            },
            "type": "scatterpolargl"
           }
          ],
          "scatterternary": [
           {
            "marker": {
             "colorbar": {
              "outlinewidth": 0,
              "ticks": ""
             }
            },
            "type": "scatterternary"
           }
          ],
          "surface": [
           {
            "colorbar": {
             "outlinewidth": 0,
             "ticks": ""
            },
            "colorscale": [
             [
              0,
              "#0d0887"
             ],
             [
              0.1111111111111111,
              "#46039f"
             ],
             [
              0.2222222222222222,
              "#7201a8"
             ],
             [
              0.3333333333333333,
              "#9c179e"
             ],
             [
              0.4444444444444444,
              "#bd3786"
             ],
             [
              0.5555555555555556,
              "#d8576b"
             ],
             [
              0.6666666666666666,
              "#ed7953"
             ],
             [
              0.7777777777777778,
              "#fb9f3a"
             ],
             [
              0.8888888888888888,
              "#fdca26"
             ],
             [
              1,
              "#f0f921"
             ]
            ],
            "type": "surface"
           }
          ],
          "table": [
           {
            "cells": {
             "fill": {
              "color": "#EBF0F8"
             },
             "line": {
              "color": "white"
             }
            },
            "header": {
             "fill": {
              "color": "#C8D4E3"
             },
             "line": {
              "color": "white"
             }
            },
            "type": "table"
           }
          ]
         },
         "layout": {
          "annotationdefaults": {
           "arrowcolor": "#2a3f5f",
           "arrowhead": 0,
           "arrowwidth": 1
          },
          "autotypenumbers": "strict",
          "coloraxis": {
           "colorbar": {
            "outlinewidth": 0,
            "ticks": ""
           }
          },
          "colorscale": {
           "diverging": [
            [
             0,
             "#8e0152"
            ],
            [
             0.1,
             "#c51b7d"
            ],
            [
             0.2,
             "#de77ae"
            ],
            [
             0.3,
             "#f1b6da"
            ],
            [
             0.4,
             "#fde0ef"
            ],
            [
             0.5,
             "#f7f7f7"
            ],
            [
             0.6,
             "#e6f5d0"
            ],
            [
             0.7,
             "#b8e186"
            ],
            [
             0.8,
             "#7fbc41"
            ],
            [
             0.9,
             "#4d9221"
            ],
            [
             1,
             "#276419"
            ]
           ],
           "sequential": [
            [
             0,
             "#0d0887"
            ],
            [
             0.1111111111111111,
             "#46039f"
            ],
            [
             0.2222222222222222,
             "#7201a8"
            ],
            [
             0.3333333333333333,
             "#9c179e"
            ],
            [
             0.4444444444444444,
             "#bd3786"
            ],
            [
             0.5555555555555556,
             "#d8576b"
            ],
            [
             0.6666666666666666,
             "#ed7953"
            ],
            [
             0.7777777777777778,
             "#fb9f3a"
            ],
            [
             0.8888888888888888,
             "#fdca26"
            ],
            [
             1,
             "#f0f921"
            ]
           ],
           "sequentialminus": [
            [
             0,
             "#0d0887"
            ],
            [
             0.1111111111111111,
             "#46039f"
            ],
            [
             0.2222222222222222,
             "#7201a8"
            ],
            [
             0.3333333333333333,
             "#9c179e"
            ],
            [
             0.4444444444444444,
             "#bd3786"
            ],
            [
             0.5555555555555556,
             "#d8576b"
            ],
            [
             0.6666666666666666,
             "#ed7953"
            ],
            [
             0.7777777777777778,
             "#fb9f3a"
            ],
            [
             0.8888888888888888,
             "#fdca26"
            ],
            [
             1,
             "#f0f921"
            ]
           ]
          },
          "colorway": [
           "#636efa",
           "#EF553B",
           "#00cc96",
           "#ab63fa",
           "#FFA15A",
           "#19d3f3",
           "#FF6692",
           "#B6E880",
           "#FF97FF",
           "#FECB52"
          ],
          "font": {
           "color": "#2a3f5f"
          },
          "geo": {
           "bgcolor": "white",
           "lakecolor": "white",
           "landcolor": "white",
           "showlakes": true,
           "showland": true,
           "subunitcolor": "#C8D4E3"
          },
          "hoverlabel": {
           "align": "left"
          },
          "hovermode": "closest",
          "mapbox": {
           "style": "light"
          },
          "paper_bgcolor": "white",
          "plot_bgcolor": "white",
          "polar": {
           "angularaxis": {
            "gridcolor": "#EBF0F8",
            "linecolor": "#EBF0F8",
            "ticks": ""
           },
           "bgcolor": "white",
           "radialaxis": {
            "gridcolor": "#EBF0F8",
            "linecolor": "#EBF0F8",
            "ticks": ""
           }
          },
          "scene": {
           "xaxis": {
            "backgroundcolor": "white",
            "gridcolor": "#DFE8F3",
            "gridwidth": 2,
            "linecolor": "#EBF0F8",
            "showbackground": true,
            "ticks": "",
            "zerolinecolor": "#EBF0F8"
           },
           "yaxis": {
            "backgroundcolor": "white",
            "gridcolor": "#DFE8F3",
            "gridwidth": 2,
            "linecolor": "#EBF0F8",
            "showbackground": true,
            "ticks": "",
            "zerolinecolor": "#EBF0F8"
           },
           "zaxis": {
            "backgroundcolor": "white",
            "gridcolor": "#DFE8F3",
            "gridwidth": 2,
            "linecolor": "#EBF0F8",
            "showbackground": true,
            "ticks": "",
            "zerolinecolor": "#EBF0F8"
           }
          },
          "shapedefaults": {
           "line": {
            "color": "#2a3f5f"
           }
          },
          "ternary": {
           "aaxis": {
            "gridcolor": "#DFE8F3",
            "linecolor": "#A2B1C6",
            "ticks": ""
           },
           "baxis": {
            "gridcolor": "#DFE8F3",
            "linecolor": "#A2B1C6",
            "ticks": ""
           },
           "bgcolor": "white",
           "caxis": {
            "gridcolor": "#DFE8F3",
            "linecolor": "#A2B1C6",
            "ticks": ""
           }
          },
          "title": {
           "x": 0.05
          },
          "xaxis": {
           "automargin": true,
           "gridcolor": "#EBF0F8",
           "linecolor": "#EBF0F8",
           "ticks": "",
           "title": {
            "standoff": 15
           },
           "zerolinecolor": "#EBF0F8",
           "zerolinewidth": 2
          },
          "yaxis": {
           "automargin": true,
           "gridcolor": "#EBF0F8",
           "linecolor": "#EBF0F8",
           "ticks": "",
           "title": {
            "standoff": 15
           },
           "zerolinecolor": "#EBF0F8",
           "zerolinewidth": 2
          }
         }
        },
        "title": {
         "text": "Interactive GDP Component Visualization"
        },
        "updatemenus": [
         {
          "buttons": [
           {
            "args": [
             {
              "visible": [
               true,
               true,
               true
              ]
             },
             {
              "title": "All GDP Components"
             }
            ],
            "label": "All",
            "method": "update"
           },
           {
            "args": [
             {
              "visible": [
               true,
               false,
               false
              ]
             },
             {
              "title": "Household Consumption"
             }
            ],
            "label": "Consumption",
            "method": "update"
           },
           {
            "args": [
             {
              "visible": [
               false,
               true,
               false
              ]
             },
             {
              "title": "Business Investment"
             }
            ],
            "label": "Investment",
            "method": "update"
           },
           {
            "args": [
             {
              "visible": [
               false,
               false,
               true
              ]
             },
             {
              "title": "Government Spending"
             }
            ],
            "label": "Government Spending",
            "method": "update"
           }
          ],
          "direction": "down",
          "showactive": true,
          "x": 0.1,
          "xanchor": "left",
          "y": 1.15,
          "yanchor": "top"
         }
        ],
        "xaxis": {
         "anchor": "y",
         "domain": [
          0,
          1
         ],
         "title": {
          "text": "Year"
         }
        },
        "yaxis": {
         "anchor": "x",
         "domain": [
          0,
          1
         ],
         "title": {
          "text": "Real Expenditure"
         }
        }
       }
      },
      "text/html": [
       "<div>                            <div id=\"704eb1ab-1de0-4f89-bbcf-ae9d42c40e04\" class=\"plotly-graph-div\" style=\"height:525px; width:100%;\"></div>            <script type=\"text/javascript\">                require([\"plotly\"], function(Plotly) {                    window.PLOTLYENV=window.PLOTLYENV || {};                                    if (document.getElementById(\"704eb1ab-1de0-4f89-bbcf-ae9d42c40e04\")) {                    Plotly.newPlot(                        \"704eb1ab-1de0-4f89-bbcf-ae9d42c40e04\",                        [{\"hovertemplate\":\"Category=consumption\\u003cbr\\u003eYear=%{x}\\u003cbr\\u003eReal Expenditure=%{y}\\u003cextra\\u003e\\u003c\\u002fextra\\u003e\",\"legendgroup\":\"consumption\",\"line\":{\"color\":\"#636efa\",\"dash\":\"solid\"},\"marker\":{\"symbol\":\"circle\"},\"mode\":\"lines\",\"name\":\"consumption\",\"orientation\":\"v\",\"showlegend\":true,\"x\":[\"1961-01-01T00:00:00\",\"1961-04-01T00:00:00\",\"1961-07-01T00:00:00\",\"1961-10-01T00:00:00\",\"1962-01-01T00:00:00\",\"1962-04-01T00:00:00\",\"1962-07-01T00:00:00\",\"1962-10-01T00:00:00\",\"1963-01-01T00:00:00\",\"1963-04-01T00:00:00\",\"1963-07-01T00:00:00\",\"1963-10-01T00:00:00\",\"1964-01-01T00:00:00\",\"1964-04-01T00:00:00\",\"1964-07-01T00:00:00\",\"1964-10-01T00:00:00\",\"1965-01-01T00:00:00\",\"1965-04-01T00:00:00\",\"1965-07-01T00:00:00\",\"1965-10-01T00:00:00\",\"1966-01-01T00:00:00\",\"1966-04-01T00:00:00\",\"1966-07-01T00:00:00\",\"1966-10-01T00:00:00\",\"1967-01-01T00:00:00\",\"1967-04-01T00:00:00\",\"1967-07-01T00:00:00\",\"1967-10-01T00:00:00\",\"1968-01-01T00:00:00\",\"1968-04-01T00:00:00\",\"1968-07-01T00:00:00\",\"1968-10-01T00:00:00\",\"1969-01-01T00:00:00\",\"1969-04-01T00:00:00\",\"1969-07-01T00:00:00\",\"1969-10-01T00:00:00\",\"1970-01-01T00:00:00\",\"1970-04-01T00:00:00\",\"1970-07-01T00:00:00\",\"1970-10-01T00:00:00\",\"1971-01-01T00:00:00\",\"1971-04-01T00:00:00\",\"1971-07-01T00:00:00\",\"1971-10-01T00:00:00\",\"1972-01-01T00:00:00\",\"1972-04-01T00:00:00\",\"1972-07-01T00:00:00\",\"1972-10-01T00:00:00\",\"1973-01-01T00:00:00\",\"1973-04-01T00:00:00\",\"1973-07-01T00:00:00\",\"1973-10-01T00:00:00\",\"1974-01-01T00:00:00\",\"1974-04-01T00:00:00\",\"1974-07-01T00:00:00\",\"1974-10-01T00:00:00\",\"1975-01-01T00:00:00\",\"1975-04-01T00:00:00\",\"1975-07-01T00:00:00\",\"1975-10-01T00:00:00\",\"1976-01-01T00:00:00\",\"1976-04-01T00:00:00\",\"1976-07-01T00:00:00\",\"1976-10-01T00:00:00\",\"1977-01-01T00:00:00\",\"1977-04-01T00:00:00\",\"1977-07-01T00:00:00\",\"1977-10-01T00:00:00\",\"1978-01-01T00:00:00\",\"1978-04-01T00:00:00\",\"1978-07-01T00:00:00\",\"1978-10-01T00:00:00\",\"1979-01-01T00:00:00\",\"1979-04-01T00:00:00\",\"1979-07-01T00:00:00\",\"1979-10-01T00:00:00\",\"1980-01-01T00:00:00\",\"1980-04-01T00:00:00\",\"1980-07-01T00:00:00\",\"1980-10-01T00:00:00\",\"1981-01-01T00:00:00\",\"1981-04-01T00:00:00\",\"1981-07-01T00:00:00\",\"1981-10-01T00:00:00\",\"1982-01-01T00:00:00\",\"1982-04-01T00:00:00\",\"1982-07-01T00:00:00\",\"1982-10-01T00:00:00\",\"1983-01-01T00:00:00\",\"1983-04-01T00:00:00\",\"1983-07-01T00:00:00\",\"1983-10-01T00:00:00\",\"1984-01-01T00:00:00\",\"1984-04-01T00:00:00\",\"1984-07-01T00:00:00\",\"1984-10-01T00:00:00\",\"1985-01-01T00:00:00\",\"1985-04-01T00:00:00\",\"1985-07-01T00:00:00\",\"1985-10-01T00:00:00\",\"1986-01-01T00:00:00\",\"1986-04-01T00:00:00\",\"1986-07-01T00:00:00\",\"1986-10-01T00:00:00\",\"1987-01-01T00:00:00\",\"1987-04-01T00:00:00\",\"1987-07-01T00:00:00\",\"1987-10-01T00:00:00\",\"1988-01-01T00:00:00\",\"1988-04-01T00:00:00\",\"1988-07-01T00:00:00\",\"1988-10-01T00:00:00\",\"1989-01-01T00:00:00\",\"1989-04-01T00:00:00\",\"1989-07-01T00:00:00\",\"1989-10-01T00:00:00\",\"1990-01-01T00:00:00\",\"1990-04-01T00:00:00\",\"1990-07-01T00:00:00\",\"1990-10-01T00:00:00\",\"1991-01-01T00:00:00\",\"1991-04-01T00:00:00\",\"1991-07-01T00:00:00\",\"1991-10-01T00:00:00\",\"1992-01-01T00:00:00\",\"1992-04-01T00:00:00\",\"1992-07-01T00:00:00\",\"1992-10-01T00:00:00\",\"1993-01-01T00:00:00\",\"1993-04-01T00:00:00\",\"1993-07-01T00:00:00\",\"1993-10-01T00:00:00\",\"1994-01-01T00:00:00\",\"1994-04-01T00:00:00\",\"1994-07-01T00:00:00\",\"1994-10-01T00:00:00\",\"1995-01-01T00:00:00\",\"1995-04-01T00:00:00\",\"1995-07-01T00:00:00\",\"1995-10-01T00:00:00\",\"1996-01-01T00:00:00\",\"1996-04-01T00:00:00\",\"1996-07-01T00:00:00\",\"1996-10-01T00:00:00\",\"1997-01-01T00:00:00\",\"1997-04-01T00:00:00\",\"1997-07-01T00:00:00\",\"1997-10-01T00:00:00\",\"1998-01-01T00:00:00\",\"1998-04-01T00:00:00\",\"1998-07-01T00:00:00\",\"1998-10-01T00:00:00\",\"1999-01-01T00:00:00\",\"1999-04-01T00:00:00\",\"1999-07-01T00:00:00\",\"1999-10-01T00:00:00\",\"2000-01-01T00:00:00\",\"2000-04-01T00:00:00\",\"2000-07-01T00:00:00\",\"2000-10-01T00:00:00\",\"2001-01-01T00:00:00\",\"2001-04-01T00:00:00\",\"2001-07-01T00:00:00\",\"2001-10-01T00:00:00\",\"2002-01-01T00:00:00\",\"2002-04-01T00:00:00\",\"2002-07-01T00:00:00\",\"2002-10-01T00:00:00\",\"2003-01-01T00:00:00\",\"2003-04-01T00:00:00\",\"2003-07-01T00:00:00\",\"2003-10-01T00:00:00\",\"2004-01-01T00:00:00\",\"2004-04-01T00:00:00\",\"2004-07-01T00:00:00\",\"2004-10-01T00:00:00\",\"2005-01-01T00:00:00\",\"2005-04-01T00:00:00\",\"2005-07-01T00:00:00\",\"2005-10-01T00:00:00\",\"2006-01-01T00:00:00\",\"2006-04-01T00:00:00\",\"2006-07-01T00:00:00\",\"2006-10-01T00:00:00\",\"2007-01-01T00:00:00\",\"2007-04-01T00:00:00\",\"2007-07-01T00:00:00\",\"2007-10-01T00:00:00\",\"2008-01-01T00:00:00\",\"2008-04-01T00:00:00\",\"2008-07-01T00:00:00\",\"2008-10-01T00:00:00\",\"2009-01-01T00:00:00\",\"2009-04-01T00:00:00\",\"2009-07-01T00:00:00\",\"2009-10-01T00:00:00\",\"2010-01-01T00:00:00\",\"2010-04-01T00:00:00\",\"2010-07-01T00:00:00\",\"2010-10-01T00:00:00\",\"2011-01-01T00:00:00\",\"2011-04-01T00:00:00\",\"2011-07-01T00:00:00\",\"2011-10-01T00:00:00\",\"2012-01-01T00:00:00\",\"2012-04-01T00:00:00\",\"2012-07-01T00:00:00\",\"2012-10-01T00:00:00\",\"2013-01-01T00:00:00\",\"2013-04-01T00:00:00\",\"2013-07-01T00:00:00\",\"2013-10-01T00:00:00\",\"2014-01-01T00:00:00\",\"2014-04-01T00:00:00\",\"2014-07-01T00:00:00\",\"2014-10-01T00:00:00\",\"2015-01-01T00:00:00\",\"2015-04-01T00:00:00\",\"2015-07-01T00:00:00\",\"2015-10-01T00:00:00\",\"2016-01-01T00:00:00\",\"2016-04-01T00:00:00\",\"2016-07-01T00:00:00\",\"2016-10-01T00:00:00\",\"2017-01-01T00:00:00\",\"2017-04-01T00:00:00\",\"2017-07-01T00:00:00\",\"2017-10-01T00:00:00\",\"2018-01-01T00:00:00\",\"2018-04-01T00:00:00\",\"2018-07-01T00:00:00\",\"2018-10-01T00:00:00\",\"2019-01-01T00:00:00\",\"2019-04-01T00:00:00\",\"2019-07-01T00:00:00\",\"2019-10-01T00:00:00\",\"2020-01-01T00:00:00\",\"2020-04-01T00:00:00\",\"2020-07-01T00:00:00\",\"2020-10-01T00:00:00\",\"2021-01-01T00:00:00\",\"2021-04-01T00:00:00\",\"2021-07-01T00:00:00\",\"2021-10-01T00:00:00\",\"2022-01-01T00:00:00\",\"2022-04-01T00:00:00\",\"2022-07-01T00:00:00\",\"2022-10-01T00:00:00\",\"2023-01-01T00:00:00\",\"2023-04-01T00:00:00\",\"2023-07-01T00:00:00\",\"2023-10-01T00:00:00\",\"2024-01-01T00:00:00\",\"2024-04-01T00:00:00\",\"2024-07-01T00:00:00\"],\"xaxis\":\"x\",\"y\":[196797.0,200550.0,205473.0,206271.0,211052.0,212405.0,211689.0,215617.0,217091.0,221064.0,222328.0,226119.0,230294.0,230938.0,235493.0,237313.0,239506.0,245177.0,249172.0,254309.0,256035.0,257329.0,262137.0,262257.0,264522.0,269393.0,268997.0,274233.0,276970.0,278097.0,283415.0,287160.0,293698.0,292456.0,295355.0,298925.0,296202.0,298372.0,303986.0,306857.0,304799.0,315361.0,322413.0,329202.0,330648.0,338729.0,341504.0,349285.0,358336.0,360782.0,363629.0,370245.0,380396.0,382691.0,384125.0,379666.0,387925.0,392731.0,399815.0,406584.0,406487.0,417040.0,418639.0,427217.0,425695.0,424787.0,431143.0,435105.0,438309.0,441252.0,443522.0,444922.0,451287.0,451709.0,452744.0,454059.0,457136.0,455283.0,463028.0,466075.0,467166.0,466539.0,463932.0,464861.0,457779.0,454069.0,452348.0,450805.0,457063.0,462522.0,467972.0,472992.0,477039.0,482020.0,482602.0,490988.0,497225.0,501745.0,511313.0,516632.0,516024.0,521949.0,529219.0,529260.0,534272.0,542865.0,547461.0,553844.0,557461.0,565337.0,568835.0,576191.0,580391.0,587989.0,586290.0,590090.0,599337.0,592638.0,592941.0,591024.0,579203.0,588951.0,588667.0,592096.0,592278.0,594721.0,597899.0,600089.0,603297.0,605496.0,609497.0,611041.0,621028.0,622000.0,624718.0,632022.0,631780.0,636625.0,643556.0,643788.0,652580.0,653817.0,656569.0,668593.0,680192.0,686054.0,695004.0,699756.0,700183.0,708665.0,712685.0,714820.0,725308.0,732694.0,741774.0,748920.0,756902.0,763450.0,773237.0,775053.0,781053.0,782490.0,784690.0,794433.0,806536.0,816959.0,818711.0,826790.0,830409.0,837374.0,844647.0,845597.0,856317.0,860074.0,868266.0,875507.0,887965.0,895731.0,901899.0,910590.0,923347.0,931539.0,941377.0,950854.0,958265.0,972601.0,981647.0,999789.0,1008261.0,1010328.0,1011277.0,999443.0,996095.0,1003693.0,1013294.0,1019616.0,1030980.0,1039844.0,1048220.0,1058255.0,1060572.0,1065437.0,1070027.0,1076431.0,1082466.0,1083962.0,1090584.0,1096468.0,1103810.0,1113932.0,1121717.0,1128399.0,1131596.0,1141918.0,1150420.0,1159052.0,1161015.0,1167255.0,1176066.0,1185031.0,1186604.0,1192264.0,1200383.0,1208852.0,1221601.0,1237234.0,1249103.0,1256314.0,1264740.0,1272149.0,1279159.0,1279338.0,1286257.0,1289397.0,1295559.0,1304846.0,1277779.0,1097087.0,1235259.0,1241944.0,1247007.0,1246328.0,1312201.0,1325757.0,1332511.0,1359017.0,1359773.0,1360444.0,1373422.0,1376434.0,1379400.0,1383902.0,1394627.0,1397915.0,1409699.0],\"yaxis\":\"y\",\"type\":\"scatter\"},{\"hovertemplate\":\"Category=investment\\u003cbr\\u003eYear=%{x}\\u003cbr\\u003eReal Expenditure=%{y}\\u003cextra\\u003e\\u003c\\u002fextra\\u003e\",\"legendgroup\":\"investment\",\"line\":{\"color\":\"#EF553B\",\"dash\":\"solid\"},\"marker\":{\"symbol\":\"circle\"},\"mode\":\"lines\",\"name\":\"investment\",\"orientation\":\"v\",\"showlegend\":true,\"x\":[\"1961-01-01T00:00:00\",\"1961-04-01T00:00:00\",\"1961-07-01T00:00:00\",\"1961-10-01T00:00:00\",\"1962-01-01T00:00:00\",\"1962-04-01T00:00:00\",\"1962-07-01T00:00:00\",\"1962-10-01T00:00:00\",\"1963-01-01T00:00:00\",\"1963-04-01T00:00:00\",\"1963-07-01T00:00:00\",\"1963-10-01T00:00:00\",\"1964-01-01T00:00:00\",\"1964-04-01T00:00:00\",\"1964-07-01T00:00:00\",\"1964-10-01T00:00:00\",\"1965-01-01T00:00:00\",\"1965-04-01T00:00:00\",\"1965-07-01T00:00:00\",\"1965-10-01T00:00:00\",\"1966-01-01T00:00:00\",\"1966-04-01T00:00:00\",\"1966-07-01T00:00:00\",\"1966-10-01T00:00:00\",\"1967-01-01T00:00:00\",\"1967-04-01T00:00:00\",\"1967-07-01T00:00:00\",\"1967-10-01T00:00:00\",\"1968-01-01T00:00:00\",\"1968-04-01T00:00:00\",\"1968-07-01T00:00:00\",\"1968-10-01T00:00:00\",\"1969-01-01T00:00:00\",\"1969-04-01T00:00:00\",\"1969-07-01T00:00:00\",\"1969-10-01T00:00:00\",\"1970-01-01T00:00:00\",\"1970-04-01T00:00:00\",\"1970-07-01T00:00:00\",\"1970-10-01T00:00:00\",\"1971-01-01T00:00:00\",\"1971-04-01T00:00:00\",\"1971-07-01T00:00:00\",\"1971-10-01T00:00:00\",\"1972-01-01T00:00:00\",\"1972-04-01T00:00:00\",\"1972-07-01T00:00:00\",\"1972-10-01T00:00:00\",\"1973-01-01T00:00:00\",\"1973-04-01T00:00:00\",\"1973-07-01T00:00:00\",\"1973-10-01T00:00:00\",\"1974-01-01T00:00:00\",\"1974-04-01T00:00:00\",\"1974-07-01T00:00:00\",\"1974-10-01T00:00:00\",\"1975-01-01T00:00:00\",\"1975-04-01T00:00:00\",\"1975-07-01T00:00:00\",\"1975-10-01T00:00:00\",\"1976-01-01T00:00:00\",\"1976-04-01T00:00:00\",\"1976-07-01T00:00:00\",\"1976-10-01T00:00:00\",\"1977-01-01T00:00:00\",\"1977-04-01T00:00:00\",\"1977-07-01T00:00:00\",\"1977-10-01T00:00:00\",\"1978-01-01T00:00:00\",\"1978-04-01T00:00:00\",\"1978-07-01T00:00:00\",\"1978-10-01T00:00:00\",\"1979-01-01T00:00:00\",\"1979-04-01T00:00:00\",\"1979-07-01T00:00:00\",\"1979-10-01T00:00:00\",\"1980-01-01T00:00:00\",\"1980-04-01T00:00:00\",\"1980-07-01T00:00:00\",\"1980-10-01T00:00:00\",\"1981-01-01T00:00:00\",\"1981-04-01T00:00:00\",\"1981-07-01T00:00:00\",\"1981-10-01T00:00:00\",\"1982-01-01T00:00:00\",\"1982-04-01T00:00:00\",\"1982-07-01T00:00:00\",\"1982-10-01T00:00:00\",\"1983-01-01T00:00:00\",\"1983-04-01T00:00:00\",\"1983-07-01T00:00:00\",\"1983-10-01T00:00:00\",\"1984-01-01T00:00:00\",\"1984-04-01T00:00:00\",\"1984-07-01T00:00:00\",\"1984-10-01T00:00:00\",\"1985-01-01T00:00:00\",\"1985-04-01T00:00:00\",\"1985-07-01T00:00:00\",\"1985-10-01T00:00:00\",\"1986-01-01T00:00:00\",\"1986-04-01T00:00:00\",\"1986-07-01T00:00:00\",\"1986-10-01T00:00:00\",\"1987-01-01T00:00:00\",\"1987-04-01T00:00:00\",\"1987-07-01T00:00:00\",\"1987-10-01T00:00:00\",\"1988-01-01T00:00:00\",\"1988-04-01T00:00:00\",\"1988-07-01T00:00:00\",\"1988-10-01T00:00:00\",\"1989-01-01T00:00:00\",\"1989-04-01T00:00:00\",\"1989-07-01T00:00:00\",\"1989-10-01T00:00:00\",\"1990-01-01T00:00:00\",\"1990-04-01T00:00:00\",\"1990-07-01T00:00:00\",\"1990-10-01T00:00:00\",\"1991-01-01T00:00:00\",\"1991-04-01T00:00:00\",\"1991-07-01T00:00:00\",\"1991-10-01T00:00:00\",\"1992-01-01T00:00:00\",\"1992-04-01T00:00:00\",\"1992-07-01T00:00:00\",\"1992-10-01T00:00:00\",\"1993-01-01T00:00:00\",\"1993-04-01T00:00:00\",\"1993-07-01T00:00:00\",\"1993-10-01T00:00:00\",\"1994-01-01T00:00:00\",\"1994-04-01T00:00:00\",\"1994-07-01T00:00:00\",\"1994-10-01T00:00:00\",\"1995-01-01T00:00:00\",\"1995-04-01T00:00:00\",\"1995-07-01T00:00:00\",\"1995-10-01T00:00:00\",\"1996-01-01T00:00:00\",\"1996-04-01T00:00:00\",\"1996-07-01T00:00:00\",\"1996-10-01T00:00:00\",\"1997-01-01T00:00:00\",\"1997-04-01T00:00:00\",\"1997-07-01T00:00:00\",\"1997-10-01T00:00:00\",\"1998-01-01T00:00:00\",\"1998-04-01T00:00:00\",\"1998-07-01T00:00:00\",\"1998-10-01T00:00:00\",\"1999-01-01T00:00:00\",\"1999-04-01T00:00:00\",\"1999-07-01T00:00:00\",\"1999-10-01T00:00:00\",\"2000-01-01T00:00:00\",\"2000-04-01T00:00:00\",\"2000-07-01T00:00:00\",\"2000-10-01T00:00:00\",\"2001-01-01T00:00:00\",\"2001-04-01T00:00:00\",\"2001-07-01T00:00:00\",\"2001-10-01T00:00:00\",\"2002-01-01T00:00:00\",\"2002-04-01T00:00:00\",\"2002-07-01T00:00:00\",\"2002-10-01T00:00:00\",\"2003-01-01T00:00:00\",\"2003-04-01T00:00:00\",\"2003-07-01T00:00:00\",\"2003-10-01T00:00:00\",\"2004-01-01T00:00:00\",\"2004-04-01T00:00:00\",\"2004-07-01T00:00:00\",\"2004-10-01T00:00:00\",\"2005-01-01T00:00:00\",\"2005-04-01T00:00:00\",\"2005-07-01T00:00:00\",\"2005-10-01T00:00:00\",\"2006-01-01T00:00:00\",\"2006-04-01T00:00:00\",\"2006-07-01T00:00:00\",\"2006-10-01T00:00:00\",\"2007-01-01T00:00:00\",\"2007-04-01T00:00:00\",\"2007-07-01T00:00:00\",\"2007-10-01T00:00:00\",\"2008-01-01T00:00:00\",\"2008-04-01T00:00:00\",\"2008-07-01T00:00:00\",\"2008-10-01T00:00:00\",\"2009-01-01T00:00:00\",\"2009-04-01T00:00:00\",\"2009-07-01T00:00:00\",\"2009-10-01T00:00:00\",\"2010-01-01T00:00:00\",\"2010-04-01T00:00:00\",\"2010-07-01T00:00:00\",\"2010-10-01T00:00:00\",\"2011-01-01T00:00:00\",\"2011-04-01T00:00:00\",\"2011-07-01T00:00:00\",\"2011-10-01T00:00:00\",\"2012-01-01T00:00:00\",\"2012-04-01T00:00:00\",\"2012-07-01T00:00:00\",\"2012-10-01T00:00:00\",\"2013-01-01T00:00:00\",\"2013-04-01T00:00:00\",\"2013-07-01T00:00:00\",\"2013-10-01T00:00:00\",\"2014-01-01T00:00:00\",\"2014-04-01T00:00:00\",\"2014-07-01T00:00:00\",\"2014-10-01T00:00:00\",\"2015-01-01T00:00:00\",\"2015-04-01T00:00:00\",\"2015-07-01T00:00:00\",\"2015-10-01T00:00:00\",\"2016-01-01T00:00:00\",\"2016-04-01T00:00:00\",\"2016-07-01T00:00:00\",\"2016-10-01T00:00:00\",\"2017-01-01T00:00:00\",\"2017-04-01T00:00:00\",\"2017-07-01T00:00:00\",\"2017-10-01T00:00:00\",\"2018-01-01T00:00:00\",\"2018-04-01T00:00:00\",\"2018-07-01T00:00:00\",\"2018-10-01T00:00:00\",\"2019-01-01T00:00:00\",\"2019-04-01T00:00:00\",\"2019-07-01T00:00:00\",\"2019-10-01T00:00:00\",\"2020-01-01T00:00:00\",\"2020-04-01T00:00:00\",\"2020-07-01T00:00:00\",\"2020-10-01T00:00:00\",\"2021-01-01T00:00:00\",\"2021-04-01T00:00:00\",\"2021-07-01T00:00:00\",\"2021-10-01T00:00:00\",\"2022-01-01T00:00:00\",\"2022-04-01T00:00:00\",\"2022-07-01T00:00:00\",\"2022-10-01T00:00:00\",\"2023-01-01T00:00:00\",\"2023-04-01T00:00:00\",\"2023-07-01T00:00:00\",\"2023-10-01T00:00:00\",\"2024-01-01T00:00:00\",\"2024-04-01T00:00:00\",\"2024-07-01T00:00:00\"],\"xaxis\":\"x\",\"y\":[50342.0,50486.0,52168.0,51834.0,51595.0,51759.0,54003.0,53425.0,52799.0,54271.0,55736.0,58604.0,62424.0,63192.0,64110.0,68555.0,67708.0,69206.0,72837.0,75417.0,77887.0,80337.0,79299.0,80024.0,80598.0,79568.0,78255.0,76631.0,78464.0,78834.0,78926.0,81102.0,83084.0,84404.0,85267.0,86201.0,87106.0,83489.0,85728.0,86633.0,86446.0,89820.0,91927.0,94316.0,95198.0,96586.0,96097.0,95650.0,102699.0,105416.0,107625.0,112586.0,117940.0,113055.0,111773.0,111056.0,112514.0,115835.0,121970.0,124260.0,125691.0,130863.0,127736.0,128511.0,130467.0,130844.0,132207.0,130657.0,130740.0,134364.0,134751.0,136463.0,138687.0,140713.0,149371.0,150350.0,151536.0,146681.0,153461.0,158364.0,167416.0,172070.0,166889.0,164439.0,158448.0,145550.0,137660.0,140641.0,140280.0,143921.0,145384.0,146465.0,146375.0,145887.0,146714.0,146326.0,149726.0,156841.0,161986.0,164107.0,166475.0,166474.0,165845.0,166738.0,171145.0,180158.0,190818.0,194356.0,197856.0,199578.0,206889.0,203766.0,212884.0,210635.0,208555.0,215311.0,211122.0,205117.0,197634.0,189135.0,190294.0,186774.0,187687.0,190062.0,189183.0,179860.0,184665.0,176439.0,172721.0,177490.0,182236.0,185753.0,188028.0,195038.0,193945.0,194796.0,190504.0,190174.0,189202.0,189888.0,195522.0,196608.0,206304.0,218903.0,225293.0,232706.0,240479.0,243132.0,242266.0,242938.0,243709.0,246392.0,247124.0,252590.0,254359.0,260789.0,263626.0,266180.0,269190.0,269937.0,275835.0,279470.0,282166.0,270743.0,272428.0,276632.0,281607.0,282888.0,285218.0,287372.0,297559.0,304804.0,311868.0,317220.0,322158.0,327462.0,335402.0,343461.0,353383.0,361069.0,368844.0,372125.0,371628.0,372648.0,377228.0,379432.0,380464.0,385897.0,393423.0,390880.0,387229.0,366885.0,322037.0,317388.0,323612.0,336844.0,351317.0,359818.0,365034.0,373867.0,380926.0,388110.0,393570.0,401154.0,412620.0,416970.0,416886.0,421326.0,425047.0,428699.0,429556.0,432888.0,434614.0,439704.0,446200.0,452724.0,428316.0,416284.0,409883.0,405474.0,394633.0,392884.0,394852.0,386062.0,398198.0,400299.0,400537.0,412059.0,414006.0,417065.0,410002.0,407213.0,416155.0,415033.0,423365.0,419637.0,411327.0,347876.0,409446.0,422495.0,439361.0,448728.0,430839.0,438216.0,448376.0,435318.0,427981.0,421383.0,419744.0,427006.0,422959.0,414947.0,414079.0,417421.0,413645.0],\"yaxis\":\"y\",\"type\":\"scatter\"},{\"hovertemplate\":\"Category=gov_spending\\u003cbr\\u003eYear=%{x}\\u003cbr\\u003eReal Expenditure=%{y}\\u003cextra\\u003e\\u003c\\u002fextra\\u003e\",\"legendgroup\":\"gov_spending\",\"line\":{\"color\":\"#00cc96\",\"dash\":\"solid\"},\"marker\":{\"symbol\":\"circle\"},\"mode\":\"lines\",\"name\":\"gov_spending\",\"orientation\":\"v\",\"showlegend\":true,\"x\":[\"1961-01-01T00:00:00\",\"1961-04-01T00:00:00\",\"1961-07-01T00:00:00\",\"1961-10-01T00:00:00\",\"1962-01-01T00:00:00\",\"1962-04-01T00:00:00\",\"1962-07-01T00:00:00\",\"1962-10-01T00:00:00\",\"1963-01-01T00:00:00\",\"1963-04-01T00:00:00\",\"1963-07-01T00:00:00\",\"1963-10-01T00:00:00\",\"1964-01-01T00:00:00\",\"1964-04-01T00:00:00\",\"1964-07-01T00:00:00\",\"1964-10-01T00:00:00\",\"1965-01-01T00:00:00\",\"1965-04-01T00:00:00\",\"1965-07-01T00:00:00\",\"1965-10-01T00:00:00\",\"1966-01-01T00:00:00\",\"1966-04-01T00:00:00\",\"1966-07-01T00:00:00\",\"1966-10-01T00:00:00\",\"1967-01-01T00:00:00\",\"1967-04-01T00:00:00\",\"1967-07-01T00:00:00\",\"1967-10-01T00:00:00\",\"1968-01-01T00:00:00\",\"1968-04-01T00:00:00\",\"1968-07-01T00:00:00\",\"1968-10-01T00:00:00\",\"1969-01-01T00:00:00\",\"1969-04-01T00:00:00\",\"1969-07-01T00:00:00\",\"1969-10-01T00:00:00\",\"1970-01-01T00:00:00\",\"1970-04-01T00:00:00\",\"1970-07-01T00:00:00\",\"1970-10-01T00:00:00\",\"1971-01-01T00:00:00\",\"1971-04-01T00:00:00\",\"1971-07-01T00:00:00\",\"1971-10-01T00:00:00\",\"1972-01-01T00:00:00\",\"1972-04-01T00:00:00\",\"1972-07-01T00:00:00\",\"1972-10-01T00:00:00\",\"1973-01-01T00:00:00\",\"1973-04-01T00:00:00\",\"1973-07-01T00:00:00\",\"1973-10-01T00:00:00\",\"1974-01-01T00:00:00\",\"1974-04-01T00:00:00\",\"1974-07-01T00:00:00\",\"1974-10-01T00:00:00\",\"1975-01-01T00:00:00\",\"1975-04-01T00:00:00\",\"1975-07-01T00:00:00\",\"1975-10-01T00:00:00\",\"1976-01-01T00:00:00\",\"1976-04-01T00:00:00\",\"1976-07-01T00:00:00\",\"1976-10-01T00:00:00\",\"1977-01-01T00:00:00\",\"1977-04-01T00:00:00\",\"1977-07-01T00:00:00\",\"1977-10-01T00:00:00\",\"1978-01-01T00:00:00\",\"1978-04-01T00:00:00\",\"1978-07-01T00:00:00\",\"1978-10-01T00:00:00\",\"1979-01-01T00:00:00\",\"1979-04-01T00:00:00\",\"1979-07-01T00:00:00\",\"1979-10-01T00:00:00\",\"1980-01-01T00:00:00\",\"1980-04-01T00:00:00\",\"1980-07-01T00:00:00\",\"1980-10-01T00:00:00\",\"1981-01-01T00:00:00\",\"1981-04-01T00:00:00\",\"1981-07-01T00:00:00\",\"1981-10-01T00:00:00\",\"1982-01-01T00:00:00\",\"1982-04-01T00:00:00\",\"1982-07-01T00:00:00\",\"1982-10-01T00:00:00\",\"1983-01-01T00:00:00\",\"1983-04-01T00:00:00\",\"1983-07-01T00:00:00\",\"1983-10-01T00:00:00\",\"1984-01-01T00:00:00\",\"1984-04-01T00:00:00\",\"1984-07-01T00:00:00\",\"1984-10-01T00:00:00\",\"1985-01-01T00:00:00\",\"1985-04-01T00:00:00\",\"1985-07-01T00:00:00\",\"1985-10-01T00:00:00\",\"1986-01-01T00:00:00\",\"1986-04-01T00:00:00\",\"1986-07-01T00:00:00\",\"1986-10-01T00:00:00\",\"1987-01-01T00:00:00\",\"1987-04-01T00:00:00\",\"1987-07-01T00:00:00\",\"1987-10-01T00:00:00\",\"1988-01-01T00:00:00\",\"1988-04-01T00:00:00\",\"1988-07-01T00:00:00\",\"1988-10-01T00:00:00\",\"1989-01-01T00:00:00\",\"1989-04-01T00:00:00\",\"1989-07-01T00:00:00\",\"1989-10-01T00:00:00\",\"1990-01-01T00:00:00\",\"1990-04-01T00:00:00\",\"1990-07-01T00:00:00\",\"1990-10-01T00:00:00\",\"1991-01-01T00:00:00\",\"1991-04-01T00:00:00\",\"1991-07-01T00:00:00\",\"1991-10-01T00:00:00\",\"1992-01-01T00:00:00\",\"1992-04-01T00:00:00\",\"1992-07-01T00:00:00\",\"1992-10-01T00:00:00\",\"1993-01-01T00:00:00\",\"1993-04-01T00:00:00\",\"1993-07-01T00:00:00\",\"1993-10-01T00:00:00\",\"1994-01-01T00:00:00\",\"1994-04-01T00:00:00\",\"1994-07-01T00:00:00\",\"1994-10-01T00:00:00\",\"1995-01-01T00:00:00\",\"1995-04-01T00:00:00\",\"1995-07-01T00:00:00\",\"1995-10-01T00:00:00\",\"1996-01-01T00:00:00\",\"1996-04-01T00:00:00\",\"1996-07-01T00:00:00\",\"1996-10-01T00:00:00\",\"1997-01-01T00:00:00\",\"1997-04-01T00:00:00\",\"1997-07-01T00:00:00\",\"1997-10-01T00:00:00\",\"1998-01-01T00:00:00\",\"1998-04-01T00:00:00\",\"1998-07-01T00:00:00\",\"1998-10-01T00:00:00\",\"1999-01-01T00:00:00\",\"1999-04-01T00:00:00\",\"1999-07-01T00:00:00\",\"1999-10-01T00:00:00\",\"2000-01-01T00:00:00\",\"2000-04-01T00:00:00\",\"2000-07-01T00:00:00\",\"2000-10-01T00:00:00\",\"2001-01-01T00:00:00\",\"2001-04-01T00:00:00\",\"2001-07-01T00:00:00\",\"2001-10-01T00:00:00\",\"2002-01-01T00:00:00\",\"2002-04-01T00:00:00\",\"2002-07-01T00:00:00\",\"2002-10-01T00:00:00\",\"2003-01-01T00:00:00\",\"2003-04-01T00:00:00\",\"2003-07-01T00:00:00\",\"2003-10-01T00:00:00\",\"2004-01-01T00:00:00\",\"2004-04-01T00:00:00\",\"2004-07-01T00:00:00\",\"2004-10-01T00:00:00\",\"2005-01-01T00:00:00\",\"2005-04-01T00:00:00\",\"2005-07-01T00:00:00\",\"2005-10-01T00:00:00\",\"2006-01-01T00:00:00\",\"2006-04-01T00:00:00\",\"2006-07-01T00:00:00\",\"2006-10-01T00:00:00\",\"2007-01-01T00:00:00\",\"2007-04-01T00:00:00\",\"2007-07-01T00:00:00\",\"2007-10-01T00:00:00\",\"2008-01-01T00:00:00\",\"2008-04-01T00:00:00\",\"2008-07-01T00:00:00\",\"2008-10-01T00:00:00\",\"2009-01-01T00:00:00\",\"2009-04-01T00:00:00\",\"2009-07-01T00:00:00\",\"2009-10-01T00:00:00\",\"2010-01-01T00:00:00\",\"2010-04-01T00:00:00\",\"2010-07-01T00:00:00\",\"2010-10-01T00:00:00\",\"2011-01-01T00:00:00\",\"2011-04-01T00:00:00\",\"2011-07-01T00:00:00\",\"2011-10-01T00:00:00\",\"2012-01-01T00:00:00\",\"2012-04-01T00:00:00\",\"2012-07-01T00:00:00\",\"2012-10-01T00:00:00\",\"2013-01-01T00:00:00\",\"2013-04-01T00:00:00\",\"2013-07-01T00:00:00\",\"2013-10-01T00:00:00\",\"2014-01-01T00:00:00\",\"2014-04-01T00:00:00\",\"2014-07-01T00:00:00\",\"2014-10-01T00:00:00\",\"2015-01-01T00:00:00\",\"2015-04-01T00:00:00\",\"2015-07-01T00:00:00\",\"2015-10-01T00:00:00\",\"2016-01-01T00:00:00\",\"2016-04-01T00:00:00\",\"2016-07-01T00:00:00\",\"2016-10-01T00:00:00\",\"2017-01-01T00:00:00\",\"2017-04-01T00:00:00\",\"2017-07-01T00:00:00\",\"2017-10-01T00:00:00\",\"2018-01-01T00:00:00\",\"2018-04-01T00:00:00\",\"2018-07-01T00:00:00\",\"2018-10-01T00:00:00\",\"2019-01-01T00:00:00\",\"2019-04-01T00:00:00\",\"2019-07-01T00:00:00\",\"2019-10-01T00:00:00\",\"2020-01-01T00:00:00\",\"2020-04-01T00:00:00\",\"2020-07-01T00:00:00\",\"2020-10-01T00:00:00\",\"2021-01-01T00:00:00\",\"2021-04-01T00:00:00\",\"2021-07-01T00:00:00\",\"2021-10-01T00:00:00\",\"2022-01-01T00:00:00\",\"2022-04-01T00:00:00\",\"2022-07-01T00:00:00\",\"2022-10-01T00:00:00\",\"2023-01-01T00:00:00\",\"2023-04-01T00:00:00\",\"2023-07-01T00:00:00\",\"2023-10-01T00:00:00\",\"2024-01-01T00:00:00\",\"2024-04-01T00:00:00\",\"2024-07-01T00:00:00\"],\"xaxis\":\"x\",\"y\":[112816.0,114737.0,119348.0,119115.0,121328.0,124675.0,123125.0,124747.0,126879.0,126862.0,128956.0,130003.0,135852.0,134028.0,133581.0,137798.0,140540.0,140756.0,143366.0,146476.0,149751.0,154123.0,157412.0,162127.0,161986.0,168619.0,169283.0,171004.0,172683.0,175414.0,179508.0,182612.0,181436.0,185017.0,185224.0,187726.0,193059.0,199196.0,195750.0,200247.0,198413.0,205890.0,209504.0,211891.0,207651.0,210624.0,214279.0,216619.0,215671.0,217820.0,219140.0,226538.0,225241.0,230764.0,235150.0,237998.0,239595.0,247335.0,249408.0,249359.0,248569.0,251079.0,249109.0,251730.0,256217.0,261765.0,260428.0,262560.0,261381.0,263039.0,262891.0,263660.0,262806.0,265667.0,263751.0,265258.0,267792.0,271266.0,275255.0,274462.0,275509.0,275613.0,278982.0,280060.0,277810.0,280452.0,282703.0,284367.0,279370.0,283888.0,286912.0,287263.0,288485.0,288755.0,292521.0,296293.0,301229.0,305038.0,303835.0,310140.0,309995.0,307707.0,309748.0,308441.0,311449.0,313820.0,312343.0,315834.0,320110.0,323481.0,325337.0,325239.0,327398.0,331648.0,336041.0,337232.0,343365.0,339691.0,347025.0,350351.0,349514.0,356179.0,353725.0,356980.0,356743.0,354717.0,354328.0,358178.0,356485.0,358144.0,354486.0,353773.0,349924.0,354000.0,355589.0,354828.0,352768.0,351632.0,349563.0,347207.0,346901.0,345808.0,341178.0,339681.0,340469.0,337974.0,339040.0,339055.0,347393.0,344216.0,345155.0,344828.0,350737.0,354684.0,360222.0,361549.0,365037.0,368101.0,370352.0,373007.0,379947.0,384780.0,387112.0,390034.0,391452.0,393020.0,396552.0,398765.0,403264.0,405755.0,407265.0,410844.0,414558.0,414422.0,417867.0,421021.0,421697.0,424514.0,427651.0,432938.0,434509.0,439021.0,440645.0,444429.0,447813.0,450699.0,456804.0,456940.0,463374.0,471405.0,470875.0,477739.0,477849.0,483743.0,492141.0,501590.0,505931.0,506431.0,507825.0,509953.0,508222.0,506730.0,505043.0,503112.0,505615.0,505319.0,507302.0,506223.0,500885.0,495558.0,497341.0,498447.0,499122.0,496918.0,497704.0,496851.0,504591.0,503072.0,505627.0,504929.0,509701.0,512604.0,511917.0,513866.0,519389.0,521597.0,528246.0,535800.0,540328.0,542539.0,543605.0,543069.0,541002.0,540636.0,546657.0,550613.0,550328.0,532550.0,560230.0,566600.0,574024.0,578185.0,580695.0,585009.0,591109.0,590688.0,595410.0,601146.0,605228.0,606421.0,614357.0,613120.0,617989.0,624870.0,632291.0],\"yaxis\":\"y\",\"type\":\"scatter\"}],                        {\"template\":{\"data\":{\"barpolar\":[{\"marker\":{\"line\":{\"color\":\"white\",\"width\":0.5},\"pattern\":{\"fillmode\":\"overlay\",\"size\":10,\"solidity\":0.2}},\"type\":\"barpolar\"}],\"bar\":[{\"error_x\":{\"color\":\"#2a3f5f\"},\"error_y\":{\"color\":\"#2a3f5f\"},\"marker\":{\"line\":{\"color\":\"white\",\"width\":0.5},\"pattern\":{\"fillmode\":\"overlay\",\"size\":10,\"solidity\":0.2}},\"type\":\"bar\"}],\"carpet\":[{\"aaxis\":{\"endlinecolor\":\"#2a3f5f\",\"gridcolor\":\"#C8D4E3\",\"linecolor\":\"#C8D4E3\",\"minorgridcolor\":\"#C8D4E3\",\"startlinecolor\":\"#2a3f5f\"},\"baxis\":{\"endlinecolor\":\"#2a3f5f\",\"gridcolor\":\"#C8D4E3\",\"linecolor\":\"#C8D4E3\",\"minorgridcolor\":\"#C8D4E3\",\"startlinecolor\":\"#2a3f5f\"},\"type\":\"carpet\"}],\"choropleth\":[{\"colorbar\":{\"outlinewidth\":0,\"ticks\":\"\"},\"type\":\"choropleth\"}],\"contourcarpet\":[{\"colorbar\":{\"outlinewidth\":0,\"ticks\":\"\"},\"type\":\"contourcarpet\"}],\"contour\":[{\"colorbar\":{\"outlinewidth\":0,\"ticks\":\"\"},\"colorscale\":[[0.0,\"#0d0887\"],[0.1111111111111111,\"#46039f\"],[0.2222222222222222,\"#7201a8\"],[0.3333333333333333,\"#9c179e\"],[0.4444444444444444,\"#bd3786\"],[0.5555555555555556,\"#d8576b\"],[0.6666666666666666,\"#ed7953\"],[0.7777777777777778,\"#fb9f3a\"],[0.8888888888888888,\"#fdca26\"],[1.0,\"#f0f921\"]],\"type\":\"contour\"}],\"heatmapgl\":[{\"colorbar\":{\"outlinewidth\":0,\"ticks\":\"\"},\"colorscale\":[[0.0,\"#0d0887\"],[0.1111111111111111,\"#46039f\"],[0.2222222222222222,\"#7201a8\"],[0.3333333333333333,\"#9c179e\"],[0.4444444444444444,\"#bd3786\"],[0.5555555555555556,\"#d8576b\"],[0.6666666666666666,\"#ed7953\"],[0.7777777777777778,\"#fb9f3a\"],[0.8888888888888888,\"#fdca26\"],[1.0,\"#f0f921\"]],\"type\":\"heatmapgl\"}],\"heatmap\":[{\"colorbar\":{\"outlinewidth\":0,\"ticks\":\"\"},\"colorscale\":[[0.0,\"#0d0887\"],[0.1111111111111111,\"#46039f\"],[0.2222222222222222,\"#7201a8\"],[0.3333333333333333,\"#9c179e\"],[0.4444444444444444,\"#bd3786\"],[0.5555555555555556,\"#d8576b\"],[0.6666666666666666,\"#ed7953\"],[0.7777777777777778,\"#fb9f3a\"],[0.8888888888888888,\"#fdca26\"],[1.0,\"#f0f921\"]],\"type\":\"heatmap\"}],\"histogram2dcontour\":[{\"colorbar\":{\"outlinewidth\":0,\"ticks\":\"\"},\"colorscale\":[[0.0,\"#0d0887\"],[0.1111111111111111,\"#46039f\"],[0.2222222222222222,\"#7201a8\"],[0.3333333333333333,\"#9c179e\"],[0.4444444444444444,\"#bd3786\"],[0.5555555555555556,\"#d8576b\"],[0.6666666666666666,\"#ed7953\"],[0.7777777777777778,\"#fb9f3a\"],[0.8888888888888888,\"#fdca26\"],[1.0,\"#f0f921\"]],\"type\":\"histogram2dcontour\"}],\"histogram2d\":[{\"colorbar\":{\"outlinewidth\":0,\"ticks\":\"\"},\"colorscale\":[[0.0,\"#0d0887\"],[0.1111111111111111,\"#46039f\"],[0.2222222222222222,\"#7201a8\"],[0.3333333333333333,\"#9c179e\"],[0.4444444444444444,\"#bd3786\"],[0.5555555555555556,\"#d8576b\"],[0.6666666666666666,\"#ed7953\"],[0.7777777777777778,\"#fb9f3a\"],[0.8888888888888888,\"#fdca26\"],[1.0,\"#f0f921\"]],\"type\":\"histogram2d\"}],\"histogram\":[{\"marker\":{\"pattern\":{\"fillmode\":\"overlay\",\"size\":10,\"solidity\":0.2}},\"type\":\"histogram\"}],\"mesh3d\":[{\"colorbar\":{\"outlinewidth\":0,\"ticks\":\"\"},\"type\":\"mesh3d\"}],\"parcoords\":[{\"line\":{\"colorbar\":{\"outlinewidth\":0,\"ticks\":\"\"}},\"type\":\"parcoords\"}],\"pie\":[{\"automargin\":true,\"type\":\"pie\"}],\"scatter3d\":[{\"line\":{\"colorbar\":{\"outlinewidth\":0,\"ticks\":\"\"}},\"marker\":{\"colorbar\":{\"outlinewidth\":0,\"ticks\":\"\"}},\"type\":\"scatter3d\"}],\"scattercarpet\":[{\"marker\":{\"colorbar\":{\"outlinewidth\":0,\"ticks\":\"\"}},\"type\":\"scattercarpet\"}],\"scattergeo\":[{\"marker\":{\"colorbar\":{\"outlinewidth\":0,\"ticks\":\"\"}},\"type\":\"scattergeo\"}],\"scattergl\":[{\"marker\":{\"colorbar\":{\"outlinewidth\":0,\"ticks\":\"\"}},\"type\":\"scattergl\"}],\"scattermapbox\":[{\"marker\":{\"colorbar\":{\"outlinewidth\":0,\"ticks\":\"\"}},\"type\":\"scattermapbox\"}],\"scatterpolargl\":[{\"marker\":{\"colorbar\":{\"outlinewidth\":0,\"ticks\":\"\"}},\"type\":\"scatterpolargl\"}],\"scatterpolar\":[{\"marker\":{\"colorbar\":{\"outlinewidth\":0,\"ticks\":\"\"}},\"type\":\"scatterpolar\"}],\"scatter\":[{\"fillpattern\":{\"fillmode\":\"overlay\",\"size\":10,\"solidity\":0.2},\"type\":\"scatter\"}],\"scatterternary\":[{\"marker\":{\"colorbar\":{\"outlinewidth\":0,\"ticks\":\"\"}},\"type\":\"scatterternary\"}],\"surface\":[{\"colorbar\":{\"outlinewidth\":0,\"ticks\":\"\"},\"colorscale\":[[0.0,\"#0d0887\"],[0.1111111111111111,\"#46039f\"],[0.2222222222222222,\"#7201a8\"],[0.3333333333333333,\"#9c179e\"],[0.4444444444444444,\"#bd3786\"],[0.5555555555555556,\"#d8576b\"],[0.6666666666666666,\"#ed7953\"],[0.7777777777777778,\"#fb9f3a\"],[0.8888888888888888,\"#fdca26\"],[1.0,\"#f0f921\"]],\"type\":\"surface\"}],\"table\":[{\"cells\":{\"fill\":{\"color\":\"#EBF0F8\"},\"line\":{\"color\":\"white\"}},\"header\":{\"fill\":{\"color\":\"#C8D4E3\"},\"line\":{\"color\":\"white\"}},\"type\":\"table\"}]},\"layout\":{\"annotationdefaults\":{\"arrowcolor\":\"#2a3f5f\",\"arrowhead\":0,\"arrowwidth\":1},\"autotypenumbers\":\"strict\",\"coloraxis\":{\"colorbar\":{\"outlinewidth\":0,\"ticks\":\"\"}},\"colorscale\":{\"diverging\":[[0,\"#8e0152\"],[0.1,\"#c51b7d\"],[0.2,\"#de77ae\"],[0.3,\"#f1b6da\"],[0.4,\"#fde0ef\"],[0.5,\"#f7f7f7\"],[0.6,\"#e6f5d0\"],[0.7,\"#b8e186\"],[0.8,\"#7fbc41\"],[0.9,\"#4d9221\"],[1,\"#276419\"]],\"sequential\":[[0.0,\"#0d0887\"],[0.1111111111111111,\"#46039f\"],[0.2222222222222222,\"#7201a8\"],[0.3333333333333333,\"#9c179e\"],[0.4444444444444444,\"#bd3786\"],[0.5555555555555556,\"#d8576b\"],[0.6666666666666666,\"#ed7953\"],[0.7777777777777778,\"#fb9f3a\"],[0.8888888888888888,\"#fdca26\"],[1.0,\"#f0f921\"]],\"sequentialminus\":[[0.0,\"#0d0887\"],[0.1111111111111111,\"#46039f\"],[0.2222222222222222,\"#7201a8\"],[0.3333333333333333,\"#9c179e\"],[0.4444444444444444,\"#bd3786\"],[0.5555555555555556,\"#d8576b\"],[0.6666666666666666,\"#ed7953\"],[0.7777777777777778,\"#fb9f3a\"],[0.8888888888888888,\"#fdca26\"],[1.0,\"#f0f921\"]]},\"colorway\":[\"#636efa\",\"#EF553B\",\"#00cc96\",\"#ab63fa\",\"#FFA15A\",\"#19d3f3\",\"#FF6692\",\"#B6E880\",\"#FF97FF\",\"#FECB52\"],\"font\":{\"color\":\"#2a3f5f\"},\"geo\":{\"bgcolor\":\"white\",\"lakecolor\":\"white\",\"landcolor\":\"white\",\"showlakes\":true,\"showland\":true,\"subunitcolor\":\"#C8D4E3\"},\"hoverlabel\":{\"align\":\"left\"},\"hovermode\":\"closest\",\"mapbox\":{\"style\":\"light\"},\"paper_bgcolor\":\"white\",\"plot_bgcolor\":\"white\",\"polar\":{\"angularaxis\":{\"gridcolor\":\"#EBF0F8\",\"linecolor\":\"#EBF0F8\",\"ticks\":\"\"},\"bgcolor\":\"white\",\"radialaxis\":{\"gridcolor\":\"#EBF0F8\",\"linecolor\":\"#EBF0F8\",\"ticks\":\"\"}},\"scene\":{\"xaxis\":{\"backgroundcolor\":\"white\",\"gridcolor\":\"#DFE8F3\",\"gridwidth\":2,\"linecolor\":\"#EBF0F8\",\"showbackground\":true,\"ticks\":\"\",\"zerolinecolor\":\"#EBF0F8\"},\"yaxis\":{\"backgroundcolor\":\"white\",\"gridcolor\":\"#DFE8F3\",\"gridwidth\":2,\"linecolor\":\"#EBF0F8\",\"showbackground\":true,\"ticks\":\"\",\"zerolinecolor\":\"#EBF0F8\"},\"zaxis\":{\"backgroundcolor\":\"white\",\"gridcolor\":\"#DFE8F3\",\"gridwidth\":2,\"linecolor\":\"#EBF0F8\",\"showbackground\":true,\"ticks\":\"\",\"zerolinecolor\":\"#EBF0F8\"}},\"shapedefaults\":{\"line\":{\"color\":\"#2a3f5f\"}},\"ternary\":{\"aaxis\":{\"gridcolor\":\"#DFE8F3\",\"linecolor\":\"#A2B1C6\",\"ticks\":\"\"},\"baxis\":{\"gridcolor\":\"#DFE8F3\",\"linecolor\":\"#A2B1C6\",\"ticks\":\"\"},\"bgcolor\":\"white\",\"caxis\":{\"gridcolor\":\"#DFE8F3\",\"linecolor\":\"#A2B1C6\",\"ticks\":\"\"}},\"title\":{\"x\":0.05},\"xaxis\":{\"automargin\":true,\"gridcolor\":\"#EBF0F8\",\"linecolor\":\"#EBF0F8\",\"ticks\":\"\",\"title\":{\"standoff\":15},\"zerolinecolor\":\"#EBF0F8\",\"zerolinewidth\":2},\"yaxis\":{\"automargin\":true,\"gridcolor\":\"#EBF0F8\",\"linecolor\":\"#EBF0F8\",\"ticks\":\"\",\"title\":{\"standoff\":15},\"zerolinecolor\":\"#EBF0F8\",\"zerolinewidth\":2}}},\"xaxis\":{\"anchor\":\"y\",\"domain\":[0.0,1.0],\"title\":{\"text\":\"Year\"}},\"yaxis\":{\"anchor\":\"x\",\"domain\":[0.0,1.0],\"title\":{\"text\":\"Real Expenditure\"}},\"legend\":{\"title\":{\"text\":\"Category\"},\"tracegroupgap\":0},\"title\":{\"text\":\"Interactive GDP Component Visualization\"},\"updatemenus\":[{\"buttons\":[{\"args\":[{\"visible\":[true,true,true]},{\"title\":\"All GDP Components\"}],\"label\":\"All\",\"method\":\"update\"},{\"args\":[{\"visible\":[true,false,false]},{\"title\":\"Household Consumption\"}],\"label\":\"Consumption\",\"method\":\"update\"},{\"args\":[{\"visible\":[false,true,false]},{\"title\":\"Business Investment\"}],\"label\":\"Investment\",\"method\":\"update\"},{\"args\":[{\"visible\":[false,false,true]},{\"title\":\"Government Spending\"}],\"label\":\"Government Spending\",\"method\":\"update\"}],\"direction\":\"down\",\"showactive\":true,\"x\":0.1,\"xanchor\":\"left\",\"y\":1.15,\"yanchor\":\"top\"}]},                        {\"responsive\": true}                    ).then(function(){\n",
       "                            \n",
       "var gd = document.getElementById('704eb1ab-1de0-4f89-bbcf-ae9d42c40e04');\n",
       "var x = new MutationObserver(function (mutations, observer) {{\n",
       "        var display = window.getComputedStyle(gd).display;\n",
       "        if (!display || display === 'none') {{\n",
       "            console.log([gd, 'removed!']);\n",
       "            Plotly.purge(gd);\n",
       "            observer.disconnect();\n",
       "        }}\n",
       "}});\n",
       "\n",
       "// Listen for the removal of the full notebook cells\n",
       "var notebookContainer = gd.closest('#notebook-container');\n",
       "if (notebookContainer) {{\n",
       "    x.observe(notebookContainer, {childList: true});\n",
       "}}\n",
       "\n",
       "// Listen for the clearing of the current output cell\n",
       "var outputEl = gd.closest('.output');\n",
       "if (outputEl) {{\n",
       "    x.observe(outputEl, {childList: true});\n",
       "}}\n",
       "\n",
       "                        })                };                });            </script>        </div>"
      ]
     },
     "metadata": {},
     "output_type": "display_data"
    }
   ],
   "source": [
    "fig = px.line(GDP_long, \n",
    "              x=\"time\", \n",
    "              y=\"Value\", \n",
    "              color=\"Category\", \n",
    "              title=\"Interactive GDP Component Visualization\",\n",
    "              labels={\"Value\": \"Real Expenditure\", \"time\": \"Year\"},\n",
    "              template=\"plotly_white\")\n",
    "\n",
    "\n",
    "fig.update_layout(\n",
    "    updatemenus=[{\n",
    "        \"buttons\": [\n",
    "            {\n",
    "                \"label\": \"All\",\n",
    "                \"method\": \"update\",\n",
    "                \"args\": [\n",
    "                    {\"visible\": [True, True, True]},\n",
    "                    {\"title\": \"All GDP Components\"}\n",
    "                ]\n",
    "            },\n",
    "            {\n",
    "                \"label\": \"Consumption\",\n",
    "                \"method\": \"update\",\n",
    "                \"args\": [\n",
    "                    {\"visible\": [True, False, False]},\n",
    "                    {\"title\": \"Household Consumption\"}\n",
    "                ]\n",
    "            },\n",
    "            {\n",
    "                \"label\": \"Investment\",\n",
    "                \"method\": \"update\",\n",
    "                \"args\": [\n",
    "                    {\"visible\": [False, True, False]},\n",
    "                    {\"title\": \"Business Investment\"}\n",
    "                ]\n",
    "            },\n",
    "            {\n",
    "                \"label\": \"Government Spending\",\n",
    "                \"method\": \"update\",\n",
    "                \"args\": [\n",
    "                    {\"visible\": [False, False, True]},\n",
    "                    {\"title\": \"Government Spending\"}\n",
    "                ]\n",
    "            }\n",
    "        ],\n",
    "        \"direction\": \"down\",\n",
    "        \"showactive\": True,\n",
    "        \"x\": 0.1,\n",
    "        \"xanchor\": \"left\",\n",
    "        \"y\": 1.15,\n",
    "        \"yanchor\": \"top\"\n",
    "    }]\n",
    ")\n",
    "\n",
    "\n",
    "fig.show()"
   ]
  },
  {
   "cell_type": "markdown",
   "id": "1364a926-6c8b-492e-ba56-f11d61fab3c1",
   "metadata": {},
   "source": [
    "## Prediction"
   ]
  },
  {
   "cell_type": "markdown",
   "id": "1a4ba6e9-63f3-4d29-9d21-5539277ffac5",
   "metadata": {},
   "source": [
    "As the plot of consumption and government spending shows obvious trend without obvious seasonal effects, it is suitable to to use Holt's method."
   ]
  },
  {
   "cell_type": "code",
   "execution_count": 49,
   "id": "68ba9b9d-7f25-4c45-8327-964861bad4b1",
   "metadata": {},
   "outputs": [
    {
     "name": "stdout",
     "output_type": "stream",
     "text": [
      "            consumption\n",
      "time                   \n",
      "1961-01-01     196797.0\n",
      "1961-04-01     200550.0\n",
      "1961-07-01     205473.0\n",
      "1961-10-01     206271.0\n",
      "1962-01-01     211052.0\n",
      "            consumption\n",
      "time                   \n",
      "2023-01-01    1373422.0\n",
      "2023-04-01    1376434.0\n",
      "2023-07-01    1379400.0\n",
      "2023-10-01    1383902.0\n",
      "2024-01-01    1394627.0\n"
     ]
    }
   ],
   "source": [
    "consumption = clean_consumption.copy()\n",
    "consumption = consumption.asfreq(\"QS\")\n",
    "train_cons = consumption.loc[:'2022-12-31']\n",
    "test_cons = consumption.loc['2023-01-01':]\n",
    "print(train_cons.head())\n",
    "print(test_cons.head())"
   ]
  },
  {
   "cell_type": "code",
   "execution_count": 50,
   "id": "6414cfbc-ff6a-4ff0-8a13-94bf086e382a",
   "metadata": {},
   "outputs": [
    {
     "name": "stdout",
     "output_type": "stream",
     "text": [
      "               estimates\n",
      "2023-01-01  1.368296e+06\n",
      "2023-04-01  1.374543e+06\n",
      "2023-07-01  1.380791e+06\n",
      "2023-10-01  1.387038e+06\n",
      "2024-01-01  1.393285e+06\n",
      "2024-04-01  1.399532e+06\n",
      "2024-07-01  1.405779e+06\n"
     ]
    },
    {
     "name": "stderr",
     "output_type": "stream",
     "text": [
      "/opt/conda/lib/python3.12/site-packages/statsmodels/tsa/holtwinters/model.py:918: ConvergenceWarning:\n",
      "\n",
      "Optimization failed to converge. Check mle_retvals.\n",
      "\n"
     ]
    }
   ],
   "source": [
    "holt_model_cons = Holt(\n",
    "    train_cons['consumption'],\n",
    "    initialization_method='estimated'\n",
    ").fit(optimized=True)\n",
    "steps_ahead = len(test_cons)\n",
    "forecast_cons = holt_model_cons.forecast(steps=steps_ahead)\n",
    "forecast_cons = forecast_cons.to_frame(name = \"estimates\")\n",
    "print(forecast_cons)"
   ]
  },
  {
   "cell_type": "code",
   "execution_count": 51,
   "id": "6c0d0294-dfe0-4c08-aa9f-f39b00ef5960",
   "metadata": {},
   "outputs": [
    {
     "data": {
      "image/png": "[encoded data removed]",
      "text/plain": [
       "<Figure size 1000x600 with 1 Axes>"
      ]
     },
     "metadata": {},
     "output_type": "display_data"
    }
   ],
   "source": [
    "plt.figure(figsize=(10, 6))\n",
    "plt.plot(train_cons.index, train_cons['consumption'], label='Train')\n",
    "plt.plot(test_cons.index, test_cons['consumption'], label='Test', color='orange')\n",
    "plt.plot(forecast_cons.index, forecast_cons, label='Holt Forecast', color='green')\n",
    "plt.title(\"Holt’s Method Forecast of Consumption\")\n",
    "plt.xlabel(\"Time\")\n",
    "plt.ylabel(\"Consumption\")\n",
    "plt.legend()\n",
    "plt.show()"
   ]
  },
  {
   "cell_type": "code",
   "execution_count": 52,
   "id": "487d28b1-5cd6-42cd-8c81-4a545326393e",
   "metadata": {},
   "outputs": [
    {
     "name": "stdout",
     "output_type": "stream",
     "text": [
      "            investment\n",
      "time                  \n",
      "1961-01-01     50342.0\n",
      "1961-04-01     50486.0\n",
      "1961-07-01     52168.0\n",
      "1961-10-01     51834.0\n",
      "1962-01-01     51595.0\n",
      "            investment\n",
      "time                  \n",
      "2023-01-01    419744.0\n",
      "2023-04-01    427006.0\n",
      "2023-07-01    422959.0\n",
      "2023-10-01    414947.0\n",
      "2024-01-01    414079.0\n"
     ]
    }
   ],
   "source": [
    "investment = clean_investment.copy()\n",
    "investment = investment.asfreq(\"QS\")\n",
    "train_inv = investment.loc[:'2022-12-31']\n",
    "test_inv = investment.loc['2023-01-01':]\n",
    "print(train_inv.head())\n",
    "print(test_inv.head())"
   ]
  },
  {
   "cell_type": "code",
   "execution_count": 53,
   "id": "bb0b1a34-954e-431c-b985-a37c786dd9df",
   "metadata": {},
   "outputs": [
    {
     "name": "stdout",
     "output_type": "stream",
     "text": [
      "                estimates\n",
      "2023-01-01  421468.027097\n",
      "2023-04-01  421791.774160\n",
      "2023-07-01  423180.976037\n",
      "2023-10-01  424392.585699\n",
      "2024-01-01  424438.345385\n",
      "2024-04-01  424762.092448\n",
      "2024-07-01  426151.294326\n"
     ]
    },
    {
     "name": "stderr",
     "output_type": "stream",
     "text": [
      "/opt/conda/lib/python3.12/site-packages/statsmodels/tsa/holtwinters/model.py:918: ConvergenceWarning:\n",
      "\n",
      "Optimization failed to converge. Check mle_retvals.\n",
      "\n"
     ]
    }
   ],
   "source": [
    "model = ExponentialSmoothing(\n",
    "    train_inv,             \n",
    "    trend='add',           \n",
    "    seasonal='add',        \n",
    "    seasonal_periods=4    \n",
    ")\n",
    "model_fit = model.fit()\n",
    "steps_to_forecast_inv = len(test_inv)\n",
    "forecast_inv = model_fit.forecast(steps=steps_to_forecast_inv)\n",
    "forecast_inv = forecast_inv.to_frame(name = \"estimates\")\n",
    "print(forecast_inv)"
   ]
  },
  {
   "cell_type": "code",
   "execution_count": 54,
   "id": "593528ad-1e33-443b-8bad-84daefcc06fc",
   "metadata": {},
   "outputs": [
    {
     "data": {
      "image/png": "[encoded data removed]",
      "text/plain": [
       "<Figure size 1000x600 with 1 Axes>"
      ]
     },
     "metadata": {},
     "output_type": "display_data"
    }
   ],
   "source": [
    "plt.figure(figsize=(10, 6))\n",
    "plt.plot(train_inv.index, train_inv['investment'], label='Train')\n",
    "plt.plot(test_inv.index, test_inv['investment'], label='Test', color='orange')\n",
    "plt.plot(forecast_inv.index, forecast_inv, label='Holt Forecast', color='green')\n",
    "plt.title(\"Holt’s Method Forecast of Investment\")\n",
    "plt.xlabel(\"Time\")\n",
    "plt.ylabel(\"Investment\")\n",
    "plt.legend()\n",
    "plt.show()"
   ]
  },
  {
   "cell_type": "code",
   "execution_count": 55,
   "id": "34236cb2-3bc1-476e-a977-7a260047bdde",
   "metadata": {},
   "outputs": [
    {
     "name": "stdout",
     "output_type": "stream",
     "text": [
      "            gov_spending\n",
      "time                    \n",
      "1961-01-01      112816.0\n",
      "1961-04-01      114737.0\n",
      "1961-07-01      119348.0\n",
      "1961-10-01      119115.0\n",
      "1962-01-01      121328.0\n",
      "            gov_spending\n",
      "time                    \n",
      "2023-01-01      605228.0\n",
      "2023-04-01      606421.0\n",
      "2023-07-01      614357.0\n",
      "2023-10-01      613120.0\n",
      "2024-01-01      617989.0\n"
     ]
    }
   ],
   "source": [
    "gov = clean_gov.copy()\n",
    "gov = gov.asfreq(\"QS\")\n",
    "train_gov = gov.loc[:'2022-12-31']\n",
    "test_gov = gov.loc['2023-01-01':]\n",
    "print(train_gov.head())\n",
    "print(test_gov.head())"
   ]
  },
  {
   "cell_type": "code",
   "execution_count": 56,
   "id": "1dc98d50-a178-42c9-b0e8-7a7f8ea69c28",
   "metadata": {},
   "outputs": [
    {
     "name": "stdout",
     "output_type": "stream",
     "text": [
      "                estimates\n",
      "2023-01-01  604843.284889\n",
      "2023-04-01  608909.329721\n",
      "2023-07-01  612975.374552\n",
      "2023-10-01  617041.419384\n",
      "2024-01-01  621107.464215\n",
      "2024-04-01  625173.509047\n",
      "2024-07-01  629239.553878\n"
     ]
    },
    {
     "name": "stderr",
     "output_type": "stream",
     "text": [
      "/opt/conda/lib/python3.12/site-packages/statsmodels/tsa/holtwinters/model.py:918: ConvergenceWarning:\n",
      "\n",
      "Optimization failed to converge. Check mle_retvals.\n",
      "\n"
     ]
    }
   ],
   "source": [
    "holt_model_gov = Holt(\n",
    "    train_gov['gov_spending'],\n",
    "    initialization_method='estimated'\n",
    ").fit(optimized=True)\n",
    "steps_ahead_gov = len(test_gov)\n",
    "forecast_gov = holt_model_gov.forecast(steps=steps_ahead_gov)\n",
    "forecast_gov = forecast_gov.to_frame(name = \"estimates\")\n",
    "print(forecast_gov)"
   ]
  },
  {
   "cell_type": "code",
   "execution_count": 57,
   "id": "84055d0f-8c17-4296-8717-8512aba71f22",
   "metadata": {},
   "outputs": [
    {
     "data": {
      "image/png": "[encoded data removed]",
      "text/plain": [
       "<Figure size 1000x600 with 1 Axes>"
      ]
     },
     "metadata": {},
     "output_type": "display_data"
    }
   ],
   "source": [
    "plt.figure(figsize=(10, 6))\n",
    "plt.plot(train_gov.index, train_gov['gov_spending'], label='Train')\n",
    "plt.plot(test_gov.index, test_gov['gov_spending'], label='Test', color='orange')\n",
    "plt.plot(forecast_gov.index, forecast_gov, label='Holt Forecast', color='green')\n",
    "plt.title(\"Holt’s Method Forecast of Government Spending\")\n",
    "plt.xlabel(\"Time\")\n",
    "plt.ylabel(\"Government Spending\")\n",
    "plt.legend()\n",
    "plt.show()"
   ]
  },
  {
   "cell_type": "markdown",
   "id": "6eddb65f-ffdc-4771-8f43-114b7e6b3753",
   "metadata": {},
   "source": [
    "## Interactive visualization for prediction model"
   ]
  },
  {
   "cell_type": "markdown",
   "id": "caa8497f-b5c1-4d4d-8533-6db03bac5aaa",
   "metadata": {},
   "source": [
    "We prepare our data by defining a helper function called `prepare_series()` that resets the DataFrame index so that the time information becomes a column. In this function, we also rename the value column to \"Value\" and add labels for both the series type (Train, Test, or Forecast) and the category (for example, \"Consumption\"). For our forecast DataFrames, we explicitly reset the index to ensure that the time information is stored in a column named `time`.\n",
    "\n",
    "Next, we merge the processed DataFrames for Consumption, Investment, and Government Spending into a single DataFrame called `combined_df`. We sort the data so that all data points are in the correct chronological order, ensuring that our visualization will accurately reflect the temporal progression of the data."
   ]
  },
  {
   "cell_type": "code",
   "execution_count": 58,
   "id": "8c7ff4ac-6fdf-4edf-b503-96e843f4d9ac",
   "metadata": {},
   "outputs": [],
   "source": [
    "def prepare_series(df, value_col, series_label, category_label):\n",
    "    df = df.copy()\n",
    "    df = df.reset_index()  # Make 'time' a column\n",
    "    return df.rename(columns={value_col: \"Value\"}).assign(Series=series_label, Category=category_label)\n",
    "\n",
    "cons_train_df = prepare_series(train_cons, \"consumption\", \"Train\", \"Consumption\")\n",
    "cons_test_df = prepare_series(test_cons, \"consumption\", \"Test\", \"Consumption\")\n",
    "forecast_cons = forecast_cons.reset_index().rename(columns={\"index\": \"time\"})\n",
    "cons_forecast_df = prepare_series(forecast_cons, \"estimates\", \"Forecast\", \"Consumption\")\n",
    "\n",
    "inv_train_df = prepare_series(train_inv, \"investment\", \"Train\", \"Investment\")\n",
    "inv_test_df = prepare_series(test_inv, \"investment\", \"Test\", \"Investment\")\n",
    "forecast_inv = forecast_inv.reset_index().rename(columns={\"index\": \"time\"})\n",
    "inv_forecast_df = prepare_series(forecast_inv, \"estimates\", \"Forecast\", \"Investment\")\n",
    "\n",
    "gov_train_df = prepare_series(train_gov, \"gov_spending\", \"Train\", \"Government Spending\")\n",
    "gov_test_df = prepare_series(test_gov, \"gov_spending\", \"Test\", \"Government Spending\")\n",
    "forecast_gov = forecast_gov.reset_index().rename(columns={\"index\": \"time\"})\n",
    "gov_forecast_df = prepare_series(forecast_gov, \"estimates\", \"Forecast\", \"Government Spending\")\n",
    "\n",
    "combined_df = pd.concat([\n",
    "    cons_train_df, cons_test_df, cons_forecast_df,\n",
    "    inv_train_df, inv_test_df, inv_forecast_df,\n",
    "    gov_train_df, gov_test_df, gov_forecast_df\n",
    "])\n",
    "\n",
    "\n",
    "combined_df[\"time\"] = pd.to_datetime(combined_df[\"time\"])\n",
    "\n",
    "combined_df = combined_df.sort_values(by=\"time\")"
   ]
  },
  {
   "cell_type": "markdown",
   "id": "3cab29f3-4d84-4266-a0d5-11e51763ed67",
   "metadata": {},
   "source": [
    "Finally, we create an interactive visualization using Plotly’s `go.Figure()`. We add a trace for each combination of GDP component and data series (Train, Test, Forecast). To make the visualization interactive, we define visibility arrays and incorporate a dropdown menu via the updatemenus option. This allows users to toggle between viewing all components or a specific component (Consumption, Investment, or Government Spending) interactively. Through these steps, we enable dynamic comparison of historical data and forecasts for each GDP component."
   ]
  },
  {
   "cell_type": "code",
   "execution_count": 59,
   "id": "9af16737-d5c3-4c9e-9ebf-702e4946ad1d",
   "metadata": {},
   "outputs": [],
   "source": [
    "# interactive visualization\n",
    "fig = go.Figure()\n",
    "\n",
    "\n",
    "categories = [\"Consumption\", \"Investment\", \"Government Spending\"]\n",
    "series_order = [\"Train\", \"Test\", \"Forecast\"]\n",
    "\n",
    "for cat in categories:\n",
    "    for series in series_order:\n",
    "        df_sub = combined_df[(combined_df[\"Category\"] == cat) & (combined_df[\"Series\"] == series)]\n",
    "        # Add a trace only if data exists for that combination.\n",
    "        if not df_sub.empty:\n",
    "            fig.add_trace(\n",
    "                go.Scatter(\n",
    "                    x=df_sub[\"time\"],\n",
    "                    y=df_sub[\"Value\"],\n",
    "                    mode='lines+markers',\n",
    "                    name=f\"{cat} {series}\"\n",
    "                )\n",
    "            )\n"
   ]
  },
  {
   "cell_type": "code",
   "execution_count": 60,
   "id": "aea603c0-00f7-46de-add6-2ff8da546523",
   "metadata": {},
   "outputs": [
    {
     "data": {
      "application/vnd.plotly.v1+json": {
       "config": {
        "plotlyServerURL": "https://plot.ly"
       },
       "data": [
        {
         "mode": "lines+markers",
         "name": "Consumption Train",
         "type": "scatter",
         "x": [
          "1961-01-01T00:00:00",
          "1961-04-01T00:00:00",
          "1961-07-01T00:00:00",
          "1961-10-01T00:00:00",
          "1962-01-01T00:00:00",
          "1962-04-01T00:00:00",
          "1962-07-01T00:00:00",
          "1962-10-01T00:00:00",
          "1963-01-01T00:00:00",
          "1963-04-01T00:00:00",
          "1963-07-01T00:00:00",
          "1963-10-01T00:00:00",
          "1964-01-01T00:00:00",
          "1964-04-01T00:00:00",
          "1964-07-01T00:00:00",
          "1964-10-01T00:00:00",
          "1965-01-01T00:00:00",
          "1965-04-01T00:00:00",
          "1965-07-01T00:00:00",
          "1965-10-01T00:00:00",
          "1966-01-01T00:00:00",
          "1966-04-01T00:00:00",
          "1966-07-01T00:00:00",
          "1966-10-01T00:00:00",
          "1967-01-01T00:00:00",
          "1967-04-01T00:00:00",
          "1967-07-01T00:00:00",
          "1967-10-01T00:00:00",
          "1968-01-01T00:00:00",
          "1968-04-01T00:00:00",
          "1968-07-01T00:00:00",
          "1968-10-01T00:00:00",
          "1969-01-01T00:00:00",
          "1969-04-01T00:00:00",
          "1969-07-01T00:00:00",
          "1969-10-01T00:00:00",
          "1970-01-01T00:00:00",
          "1970-04-01T00:00:00",
          "1970-07-01T00:00:00",
          "1970-10-01T00:00:00",
          "1971-01-01T00:00:00",
          "1971-04-01T00:00:00",
          "1971-07-01T00:00:00",
          "1971-10-01T00:00:00",
          "1972-01-01T00:00:00",
          "1972-04-01T00:00:00",
          "1972-07-01T00:00:00",
          "1972-10-01T00:00:00",
          "1973-01-01T00:00:00",
          "1973-04-01T00:00:00",
          "1973-07-01T00:00:00",
          "1973-10-01T00:00:00",
          "1974-01-01T00:00:00",
          "1974-04-01T00:00:00",
          "1974-07-01T00:00:00",
          "1974-10-01T00:00:00",
          "1975-01-01T00:00:00",
          "1975-04-01T00:00:00",
          "1975-07-01T00:00:00",
          "1975-10-01T00:00:00",
          "1976-01-01T00:00:00",
          "1976-04-01T00:00:00",
          "1976-07-01T00:00:00",
          "1976-10-01T00:00:00",
          "1977-01-01T00:00:00",
          "1977-04-01T00:00:00",
          "1977-07-01T00:00:00",
          "1977-10-01T00:00:00",
          "1978-01-01T00:00:00",
          "1978-04-01T00:00:00",
          "1978-07-01T00:00:00",
          "1978-10-01T00:00:00",
          "1979-01-01T00:00:00",
          "1979-04-01T00:00:00",
          "1979-07-01T00:00:00",
          "1979-10-01T00:00:00",
          "1980-01-01T00:00:00",
          "1980-04-01T00:00:00",
          "1980-07-01T00:00:00",
          "1980-10-01T00:00:00",
          "1981-01-01T00:00:00",
          "1981-04-01T00:00:00",
          "1981-07-01T00:00:00",
          "1981-10-01T00:00:00",
          "1982-01-01T00:00:00",
          "1982-04-01T00:00:00",
          "1982-07-01T00:00:00",
          "1982-10-01T00:00:00",
          "1983-01-01T00:00:00",
          "1983-04-01T00:00:00",
          "1983-07-01T00:00:00",
          "1983-10-01T00:00:00",
          "1984-01-01T00:00:00",
          "1984-04-01T00:00:00",
          "1984-07-01T00:00:00",
          "1984-10-01T00:00:00",
          "1985-01-01T00:00:00",
          "1985-04-01T00:00:00",
          "1985-07-01T00:00:00",
          "1985-10-01T00:00:00",
          "1986-01-01T00:00:00",
          "1986-04-01T00:00:00",
          "1986-07-01T00:00:00",
          "1986-10-01T00:00:00",
          "1987-01-01T00:00:00",
          "1987-04-01T00:00:00",
          "1987-07-01T00:00:00",
          "1987-10-01T00:00:00",
          "1988-01-01T00:00:00",
          "1988-04-01T00:00:00",
          "1988-07-01T00:00:00",
          "1988-10-01T00:00:00",
          "1989-01-01T00:00:00",
          "1989-04-01T00:00:00",
          "1989-07-01T00:00:00",
          "1989-10-01T00:00:00",
          "1990-01-01T00:00:00",
          "1990-04-01T00:00:00",
          "1990-07-01T00:00:00",
          "1990-10-01T00:00:00",
          "1991-01-01T00:00:00",
          "1991-04-01T00:00:00",
          "1991-07-01T00:00:00",
          "1991-10-01T00:00:00",
          "1992-01-01T00:00:00",
          "1992-04-01T00:00:00",
          "1992-07-01T00:00:00",
          "1992-10-01T00:00:00",
          "1993-01-01T00:00:00",
          "1993-04-01T00:00:00",
          "1993-07-01T00:00:00",
          "1993-10-01T00:00:00",
          "1994-01-01T00:00:00",
          "1994-04-01T00:00:00",
          "1994-07-01T00:00:00",
          "1994-10-01T00:00:00",
          "1995-01-01T00:00:00",
          "1995-04-01T00:00:00",
          "1995-07-01T00:00:00",
          "1995-10-01T00:00:00",
          "1996-01-01T00:00:00",
          "1996-04-01T00:00:00",
          "1996-07-01T00:00:00",
          "1996-10-01T00:00:00",
          "1997-01-01T00:00:00",
          "1997-04-01T00:00:00",
          "1997-07-01T00:00:00",
          "1997-10-01T00:00:00",
          "1998-01-01T00:00:00",
          "1998-04-01T00:00:00",
          "1998-07-01T00:00:00",
          "1998-10-01T00:00:00",
          "1999-01-01T00:00:00",
          "1999-04-01T00:00:00",
          "1999-07-01T00:00:00",
          "1999-10-01T00:00:00",
          "2000-01-01T00:00:00",
          "2000-04-01T00:00:00",
          "2000-07-01T00:00:00",
          "2000-10-01T00:00:00",
          "2001-01-01T00:00:00",
          "2001-04-01T00:00:00",
          "2001-07-01T00:00:00",
          "2001-10-01T00:00:00",
          "2002-01-01T00:00:00",
          "2002-04-01T00:00:00",
          "2002-07-01T00:00:00",
          "2002-10-01T00:00:00",
          "2003-01-01T00:00:00",
          "2003-04-01T00:00:00",
          "2003-07-01T00:00:00",
          "2003-10-01T00:00:00",
          "2004-01-01T00:00:00",
          "2004-04-01T00:00:00",
          "2004-07-01T00:00:00",
          "2004-10-01T00:00:00",
          "2005-01-01T00:00:00",
          "2005-04-01T00:00:00",
          "2005-07-01T00:00:00",
          "2005-10-01T00:00:00",
          "2006-01-01T00:00:00",
          "2006-04-01T00:00:00",
          "2006-07-01T00:00:00",
          "2006-10-01T00:00:00",
          "2007-01-01T00:00:00",
          "2007-04-01T00:00:00",
          "2007-07-01T00:00:00",
          "2007-10-01T00:00:00",
          "2008-01-01T00:00:00",
          "2008-04-01T00:00:00",
          "2008-07-01T00:00:00",
          "2008-10-01T00:00:00",
          "2009-01-01T00:00:00",
          "2009-04-01T00:00:00",
          "2009-07-01T00:00:00",
          "2009-10-01T00:00:00",
          "2010-01-01T00:00:00",
          "2010-04-01T00:00:00",
          "2010-07-01T00:00:00",
          "2010-10-01T00:00:00",
          "2011-01-01T00:00:00",
          "2011-04-01T00:00:00",
          "2011-07-01T00:00:00",
          "2011-10-01T00:00:00",
          "2012-01-01T00:00:00",
          "2012-04-01T00:00:00",
          "2012-07-01T00:00:00",
          "2012-10-01T00:00:00",
          "2013-01-01T00:00:00",
          "2013-04-01T00:00:00",
          "2013-07-01T00:00:00",
          "2013-10-01T00:00:00",
          "2014-01-01T00:00:00",
          "2014-04-01T00:00:00",
          "2014-07-01T00:00:00",
          "2014-10-01T00:00:00",
          "2015-01-01T00:00:00",
          "2015-04-01T00:00:00",
          "2015-07-01T00:00:00",
          "2015-10-01T00:00:00",
          "2016-01-01T00:00:00",
          "2016-04-01T00:00:00",
          "2016-07-01T00:00:00",
          "2016-10-01T00:00:00",
          "2017-01-01T00:00:00",
          "2017-04-01T00:00:00",
          "2017-07-01T00:00:00",
          "2017-10-01T00:00:00",
          "2018-01-01T00:00:00",
          "2018-04-01T00:00:00",
          "2018-07-01T00:00:00",
          "2018-10-01T00:00:00",
          "2019-01-01T00:00:00",
          "2019-04-01T00:00:00",
          "2019-07-01T00:00:00",
          "2019-10-01T00:00:00",
          "2020-01-01T00:00:00",
          "2020-04-01T00:00:00",
          "2020-07-01T00:00:00",
          "2020-10-01T00:00:00",
          "2021-01-01T00:00:00",
          "2021-04-01T00:00:00",
          "2021-07-01T00:00:00",
          "2021-10-01T00:00:00",
          "2022-01-01T00:00:00",
          "2022-04-01T00:00:00",
          "2022-07-01T00:00:00",
          "2022-10-01T00:00:00"
         ],
         "y": [
          196797,
          200550,
          205473,
          206271,
          211052,
          212405,
          211689,
          215617,
          217091,
          221064,
          222328,
          226119,
          230294,
          230938,
          235493,
          237313,
          239506,
          245177,
          249172,
          254309,
          256035,
          257329,
          262137,
          262257,
          264522,
          269393,
          268997,
          274233,
          276970,
          278097,
          283415,
          287160,
          293698,
          292456,
          295355,
          298925,
          296202,
          298372,
          303986,
          306857,
          304799,
          315361,
          322413,
          329202,
          330648,
          338729,
          341504,
          349285,
          358336,
          360782,
          363629,
          370245,
          380396,
          382691,
          384125,
          379666,
          387925,
          392731,
          399815,
          406584,
          406487,
          417040,
          418639,
          427217,
          425695,
          424787,
          431143,
          435105,
          438309,
          441252,
          443522,
          444922,
          451287,
          451709,
          452744,
          454059,
          457136,
          455283,
          463028,
          466075,
          467166,
          466539,
          463932,
          464861,
          457779,
          454069,
          452348,
          450805,
          457063,
          462522,
          467972,
          472992,
          477039,
          482020,
          482602,
          490988,
          497225,
          501745,
          511313,
          516632,
          516024,
          521949,
          529219,
          529260,
          534272,
          542865,
          547461,
          553844,
          557461,
          565337,
          568835,
          576191,
          580391,
          587989,
          586290,
          590090,
          599337,
          592638,
          592941,
          591024,
          579203,
          588951,
          588667,
          592096,
          592278,
          594721,
          597899,
          600089,
          603297,
          605496,
          609497,
          611041,
          621028,
          622000,
          624718,
          632022,
          631780,
          636625,
          643556,
          643788,
          652580,
          653817,
          656569,
          668593,
          680192,
          686054,
          695004,
          699756,
          700183,
          708665,
          712685,
          714820,
          725308,
          732694,
          741774,
          748920,
          756902,
          763450,
          773237,
          775053,
          781053,
          782490,
          784690,
          794433,
          806536,
          816959,
          818711,
          826790,
          830409,
          837374,
          844647,
          845597,
          856317,
          860074,
          868266,
          875507,
          887965,
          895731,
          901899,
          910590,
          923347,
          931539,
          941377,
          950854,
          958265,
          972601,
          981647,
          999789,
          1008261,
          1010328,
          1011277,
          999443,
          996095,
          1003693,
          1013294,
          1019616,
          1030980,
          1039844,
          1048220,
          1058255,
          1060572,
          1065437,
          1070027,
          1076431,
          1082466,
          1083962,
          1090584,
          1096468,
          1103810,
          1113932,
          1121717,
          1128399,
          1131596,
          1141918,
          1150420,
          1159052,
          1161015,
          1167255,
          1176066,
          1185031,
          1186604,
          1192264,
          1200383,
          1208852,
          1221601,
          1237234,
          1249103,
          1256314,
          1264740,
          1272149,
          1279159,
          1279338,
          1286257,
          1289397,
          1295559,
          1304846,
          1277779,
          1097087,
          1235259,
          1241944,
          1247007,
          1246328,
          1312201,
          1325757,
          1332511,
          1359017,
          1359773,
          1360444
         ]
        },
        {
         "mode": "lines+markers",
         "name": "Consumption Test",
         "type": "scatter",
         "x": [
          "2023-01-01T00:00:00",
          "2023-04-01T00:00:00",
          "2023-07-01T00:00:00",
          "2023-10-01T00:00:00",
          "2024-01-01T00:00:00",
          "2024-04-01T00:00:00",
          "2024-07-01T00:00:00"
         ],
         "y": [
          1373422,
          1376434,
          1379400,
          1383902,
          1394627,
          1397915,
          1409699
         ]
        },
        {
         "mode": "lines+markers",
         "name": "Consumption Forecast",
         "type": "scatter",
         "x": [
          "2023-01-01T00:00:00",
          "2023-04-01T00:00:00",
          "2023-07-01T00:00:00",
          "2023-10-01T00:00:00",
          "2024-01-01T00:00:00",
          "2024-04-01T00:00:00",
          "2024-07-01T00:00:00"
         ],
         "y": [
          1368296.1789342896,
          1374543.381930511,
          1380790.5849267324,
          1387037.7879229537,
          1393284.990919175,
          1399532.1939153965,
          1405779.3969116178
         ]
        },
        {
         "mode": "lines+markers",
         "name": "Investment Train",
         "type": "scatter",
         "x": [
          "1961-01-01T00:00:00",
          "1961-04-01T00:00:00",
          "1961-07-01T00:00:00",
          "1961-10-01T00:00:00",
          "1962-01-01T00:00:00",
          "1962-04-01T00:00:00",
          "1962-07-01T00:00:00",
          "1962-10-01T00:00:00",
          "1963-01-01T00:00:00",
          "1963-04-01T00:00:00",
          "1963-07-01T00:00:00",
          "1963-10-01T00:00:00",
          "1964-01-01T00:00:00",
          "1964-04-01T00:00:00",
          "1964-07-01T00:00:00",
          "1964-10-01T00:00:00",
          "1965-01-01T00:00:00",
          "1965-04-01T00:00:00",
          "1965-07-01T00:00:00",
          "1965-10-01T00:00:00",
          "1966-01-01T00:00:00",
          "1966-04-01T00:00:00",
          "1966-07-01T00:00:00",
          "1966-10-01T00:00:00",
          "1967-01-01T00:00:00",
          "1967-04-01T00:00:00",
          "1967-07-01T00:00:00",
          "1967-10-01T00:00:00",
          "1968-01-01T00:00:00",
          "1968-04-01T00:00:00",
          "1968-07-01T00:00:00",
          "1968-10-01T00:00:00",
          "1969-01-01T00:00:00",
          "1969-04-01T00:00:00",
          "1969-07-01T00:00:00",
          "1969-10-01T00:00:00",
          "1970-01-01T00:00:00",
          "1970-04-01T00:00:00",
          "1970-07-01T00:00:00",
          "1970-10-01T00:00:00",
          "1971-01-01T00:00:00",
          "1971-04-01T00:00:00",
          "1971-07-01T00:00:00",
          "1971-10-01T00:00:00",
          "1972-01-01T00:00:00",
          "1972-04-01T00:00:00",
          "1972-07-01T00:00:00",
          "1972-10-01T00:00:00",
          "1973-01-01T00:00:00",
          "1973-04-01T00:00:00",
          "1973-07-01T00:00:00",
          "1973-10-01T00:00:00",
          "1974-01-01T00:00:00",
          "1974-04-01T00:00:00",
          "1974-07-01T00:00:00",
          "1974-10-01T00:00:00",
          "1975-01-01T00:00:00",
          "1975-04-01T00:00:00",
          "1975-07-01T00:00:00",
          "1975-10-01T00:00:00",
          "1976-01-01T00:00:00",
          "1976-04-01T00:00:00",
          "1976-07-01T00:00:00",
          "1976-10-01T00:00:00",
          "1977-01-01T00:00:00",
          "1977-04-01T00:00:00",
          "1977-07-01T00:00:00",
          "1977-10-01T00:00:00",
          "1978-01-01T00:00:00",
          "1978-04-01T00:00:00",
          "1978-07-01T00:00:00",
          "1978-10-01T00:00:00",
          "1979-01-01T00:00:00",
          "1979-04-01T00:00:00",
          "1979-07-01T00:00:00",
          "1979-10-01T00:00:00",
          "1980-01-01T00:00:00",
          "1980-04-01T00:00:00",
          "1980-07-01T00:00:00",
          "1980-10-01T00:00:00",
          "1981-01-01T00:00:00",
          "1981-04-01T00:00:00",
          "1981-07-01T00:00:00",
          "1981-10-01T00:00:00",
          "1982-01-01T00:00:00",
          "1982-04-01T00:00:00",
          "1982-07-01T00:00:00",
          "1982-10-01T00:00:00",
          "1983-01-01T00:00:00",
          "1983-04-01T00:00:00",
          "1983-07-01T00:00:00",
          "1983-10-01T00:00:00",
          "1984-01-01T00:00:00",
          "1984-04-01T00:00:00",
          "1984-07-01T00:00:00",
          "1984-10-01T00:00:00",
          "1985-01-01T00:00:00",
          "1985-04-01T00:00:00",
          "1985-07-01T00:00:00",
          "1985-10-01T00:00:00",
          "1986-01-01T00:00:00",
          "1986-04-01T00:00:00",
          "1986-07-01T00:00:00",
          "1986-10-01T00:00:00",
          "1987-01-01T00:00:00",
          "1987-04-01T00:00:00",
          "1987-07-01T00:00:00",
          "1987-10-01T00:00:00",
          "1988-01-01T00:00:00",
          "1988-04-01T00:00:00",
          "1988-07-01T00:00:00",
          "1988-10-01T00:00:00",
          "1989-01-01T00:00:00",
          "1989-04-01T00:00:00",
          "1989-07-01T00:00:00",
          "1989-10-01T00:00:00",
          "1990-01-01T00:00:00",
          "1990-04-01T00:00:00",
          "1990-07-01T00:00:00",
          "1990-10-01T00:00:00",
          "1991-01-01T00:00:00",
          "1991-04-01T00:00:00",
          "1991-07-01T00:00:00",
          "1991-10-01T00:00:00",
          "1992-01-01T00:00:00",
          "1992-04-01T00:00:00",
          "1992-07-01T00:00:00",
          "1992-10-01T00:00:00",
          "1993-01-01T00:00:00",
          "1993-04-01T00:00:00",
          "1993-07-01T00:00:00",
          "1993-10-01T00:00:00",
          "1994-01-01T00:00:00",
          "1994-04-01T00:00:00",
          "1994-07-01T00:00:00",
          "1994-10-01T00:00:00",
          "1995-01-01T00:00:00",
          "1995-04-01T00:00:00",
          "1995-07-01T00:00:00",
          "1995-10-01T00:00:00",
          "1996-01-01T00:00:00",
          "1996-04-01T00:00:00",
          "1996-07-01T00:00:00",
          "1996-10-01T00:00:00",
          "1997-01-01T00:00:00",
          "1997-04-01T00:00:00",
          "1997-07-01T00:00:00",
          "1997-10-01T00:00:00",
          "1998-01-01T00:00:00",
          "1998-04-01T00:00:00",
          "1998-07-01T00:00:00",
          "1998-10-01T00:00:00",
          "1999-01-01T00:00:00",
          "1999-04-01T00:00:00",
          "1999-07-01T00:00:00",
          "1999-10-01T00:00:00",
          "2000-01-01T00:00:00",
          "2000-04-01T00:00:00",
          "2000-07-01T00:00:00",
          "2000-10-01T00:00:00",
          "2001-01-01T00:00:00",
          "2001-04-01T00:00:00",
          "2001-07-01T00:00:00",
          "2001-10-01T00:00:00",
          "2002-01-01T00:00:00",
          "2002-04-01T00:00:00",
          "2002-07-01T00:00:00",
          "2002-10-01T00:00:00",
          "2003-01-01T00:00:00",
          "2003-04-01T00:00:00",
          "2003-07-01T00:00:00",
          "2003-10-01T00:00:00",
          "2004-01-01T00:00:00",
          "2004-04-01T00:00:00",
          "2004-07-01T00:00:00",
          "2004-10-01T00:00:00",
          "2005-01-01T00:00:00",
          "2005-04-01T00:00:00",
          "2005-07-01T00:00:00",
          "2005-10-01T00:00:00",
          "2006-01-01T00:00:00",
          "2006-04-01T00:00:00",
          "2006-07-01T00:00:00",
          "2006-10-01T00:00:00",
          "2007-01-01T00:00:00",
          "2007-04-01T00:00:00",
          "2007-07-01T00:00:00",
          "2007-10-01T00:00:00",
          "2008-01-01T00:00:00",
          "2008-04-01T00:00:00",
          "2008-07-01T00:00:00",
          "2008-10-01T00:00:00",
          "2009-01-01T00:00:00",
          "2009-04-01T00:00:00",
          "2009-07-01T00:00:00",
          "2009-10-01T00:00:00",
          "2010-01-01T00:00:00",
          "2010-04-01T00:00:00",
          "2010-07-01T00:00:00",
          "2010-10-01T00:00:00",
          "2011-01-01T00:00:00",
          "2011-04-01T00:00:00",
          "2011-07-01T00:00:00",
          "2011-10-01T00:00:00",
          "2012-01-01T00:00:00",
          "2012-04-01T00:00:00",
          "2012-07-01T00:00:00",
          "2012-10-01T00:00:00",
          "2013-01-01T00:00:00",
          "2013-04-01T00:00:00",
          "2013-07-01T00:00:00",
          "2013-10-01T00:00:00",
          "2014-01-01T00:00:00",
          "2014-04-01T00:00:00",
          "2014-07-01T00:00:00",
          "2014-10-01T00:00:00",
          "2015-01-01T00:00:00",
          "2015-04-01T00:00:00",
          "2015-07-01T00:00:00",
          "2015-10-01T00:00:00",
          "2016-01-01T00:00:00",
          "2016-04-01T00:00:00",
          "2016-07-01T00:00:00",
          "2016-10-01T00:00:00",
          "2017-01-01T00:00:00",
          "2017-04-01T00:00:00",
          "2017-07-01T00:00:00",
          "2017-10-01T00:00:00",
          "2018-01-01T00:00:00",
          "2018-04-01T00:00:00",
          "2018-07-01T00:00:00",
          "2018-10-01T00:00:00",
          "2019-01-01T00:00:00",
          "2019-04-01T00:00:00",
          "2019-07-01T00:00:00",
          "2019-10-01T00:00:00",
          "2020-01-01T00:00:00",
          "2020-04-01T00:00:00",
          "2020-07-01T00:00:00",
          "2020-10-01T00:00:00",
          "2021-01-01T00:00:00",
          "2021-04-01T00:00:00",
          "2021-07-01T00:00:00",
          "2021-10-01T00:00:00",
          "2022-01-01T00:00:00",
          "2022-04-01T00:00:00",
          "2022-07-01T00:00:00",
          "2022-10-01T00:00:00"
         ],
         "y": [
          50342,
          50486,
          52168,
          51834,
          51595,
          51759,
          54003,
          53425,
          52799,
          54271,
          55736,
          58604,
          62424,
          63192,
          64110,
          68555,
          67708,
          69206,
          72837,
          75417,
          77887,
          80337,
          79299,
          80024,
          80598,
          79568,
          78255,
          76631,
          78464,
          78834,
          78926,
          81102,
          83084,
          84404,
          85267,
          86201,
          87106,
          83489,
          85728,
          86633,
          86446,
          89820,
          91927,
          94316,
          95198,
          96586,
          96097,
          95650,
          102699,
          105416,
          107625,
          112586,
          117940,
          113055,
          111773,
          111056,
          112514,
          115835,
          121970,
          124260,
          125691,
          130863,
          127736,
          128511,
          130467,
          130844,
          132207,
          130657,
          130740,
          134364,
          134751,
          136463,
          138687,
          140713,
          149371,
          150350,
          151536,
          146681,
          153461,
          158364,
          167416,
          172070,
          166889,
          164439,
          158448,
          145550,
          137660,
          140641,
          140280,
          143921,
          145384,
          146465,
          146375,
          145887,
          146714,
          146326,
          149726,
          156841,
          161986,
          164107,
          166475,
          166474,
          165845,
          166738,
          171145,
          180158,
          190818,
          194356,
          197856,
          199578,
          206889,
          203766,
          212884,
          210635,
          208555,
          215311,
          211122,
          205117,
          197634,
          189135,
          190294,
          186774,
          187687,
          190062,
          189183,
          179860,
          184665,
          176439,
          172721,
          177490,
          182236,
          185753,
          188028,
          195038,
          193945,
          194796,
          190504,
          190174,
          189202,
          189888,
          195522,
          196608,
          206304,
          218903,
          225293,
          232706,
          240479,
          243132,
          242266,
          242938,
          243709,
          246392,
          247124,
          252590,
          254359,
          260789,
          263626,
          266180,
          269190,
          269937,
          275835,
          279470,
          282166,
          270743,
          272428,
          276632,
          281607,
          282888,
          285218,
          287372,
          297559,
          304804,
          311868,
          317220,
          322158,
          327462,
          335402,
          343461,
          353383,
          361069,
          368844,
          372125,
          371628,
          372648,
          377228,
          379432,
          380464,
          385897,
          393423,
          390880,
          387229,
          366885,
          322037,
          317388,
          323612,
          336844,
          351317,
          359818,
          365034,
          373867,
          380926,
          388110,
          393570,
          401154,
          412620,
          416970,
          416886,
          421326,
          425047,
          428699,
          429556,
          432888,
          434614,
          439704,
          446200,
          452724,
          428316,
          416284,
          409883,
          405474,
          394633,
          392884,
          394852,
          386062,
          398198,
          400299,
          400537,
          412059,
          414006,
          417065,
          410002,
          407213,
          416155,
          415033,
          423365,
          419637,
          411327,
          347876,
          409446,
          422495,
          439361,
          448728,
          430839,
          438216,
          448376,
          435318,
          427981,
          421383
         ]
        },
        {
         "mode": "lines+markers",
         "name": "Investment Test",
         "type": "scatter",
         "x": [
          "2023-01-01T00:00:00",
          "2023-04-01T00:00:00",
          "2023-07-01T00:00:00",
          "2023-10-01T00:00:00",
          "2024-01-01T00:00:00",
          "2024-04-01T00:00:00",
          "2024-07-01T00:00:00"
         ],
         "y": [
          419744,
          427006,
          422959,
          414947,
          414079,
          417421,
          413645
         ]
        },
        {
         "mode": "lines+markers",
         "name": "Investment Forecast",
         "type": "scatter",
         "x": [
          "2023-01-01T00:00:00",
          "2023-04-01T00:00:00",
          "2023-07-01T00:00:00",
          "2023-10-01T00:00:00",
          "2024-01-01T00:00:00",
          "2024-04-01T00:00:00",
          "2024-07-01T00:00:00"
         ],
         "y": [
          421468.0270965355,
          421791.7741603053,
          423180.97603744885,
          424392.58569862193,
          424438.3453846396,
          424762.09244840936,
          426151.29432555294
         ]
        },
        {
         "mode": "lines+markers",
         "name": "Government Spending Train",
         "type": "scatter",
         "x": [
          "1961-01-01T00:00:00",
          "1961-04-01T00:00:00",
          "1961-07-01T00:00:00",
          "1961-10-01T00:00:00",
          "1962-01-01T00:00:00",
          "1962-04-01T00:00:00",
          "1962-07-01T00:00:00",
          "1962-10-01T00:00:00",
          "1963-01-01T00:00:00",
          "1963-04-01T00:00:00",
          "1963-07-01T00:00:00",
          "1963-10-01T00:00:00",
          "1964-01-01T00:00:00",
          "1964-04-01T00:00:00",
          "1964-07-01T00:00:00",
          "1964-10-01T00:00:00",
          "1965-01-01T00:00:00",
          "1965-04-01T00:00:00",
          "1965-07-01T00:00:00",
          "1965-10-01T00:00:00",
          "1966-01-01T00:00:00",
          "1966-04-01T00:00:00",
          "1966-07-01T00:00:00",
          "1966-10-01T00:00:00",
          "1967-01-01T00:00:00",
          "1967-04-01T00:00:00",
          "1967-07-01T00:00:00",
          "1967-10-01T00:00:00",
          "1968-01-01T00:00:00",
          "1968-04-01T00:00:00",
          "1968-07-01T00:00:00",
          "1968-10-01T00:00:00",
          "1969-01-01T00:00:00",
          "1969-04-01T00:00:00",
          "1969-07-01T00:00:00",
          "1969-10-01T00:00:00",
          "1970-01-01T00:00:00",
          "1970-04-01T00:00:00",
          "1970-07-01T00:00:00",
          "1970-10-01T00:00:00",
          "1971-01-01T00:00:00",
          "1971-04-01T00:00:00",
          "1971-07-01T00:00:00",
          "1971-10-01T00:00:00",
          "1972-01-01T00:00:00",
          "1972-04-01T00:00:00",
          "1972-07-01T00:00:00",
          "1972-10-01T00:00:00",
          "1973-01-01T00:00:00",
          "1973-04-01T00:00:00",
          "1973-07-01T00:00:00",
          "1973-10-01T00:00:00",
          "1974-01-01T00:00:00",
          "1974-04-01T00:00:00",
          "1974-07-01T00:00:00",
          "1974-10-01T00:00:00",
          "1975-01-01T00:00:00",
          "1975-04-01T00:00:00",
          "1975-07-01T00:00:00",
          "1975-10-01T00:00:00",
          "1976-01-01T00:00:00",
          "1976-04-01T00:00:00",
          "1976-07-01T00:00:00",
          "1976-10-01T00:00:00",
          "1977-01-01T00:00:00",
          "1977-04-01T00:00:00",
          "1977-07-01T00:00:00",
          "1977-10-01T00:00:00",
          "1978-01-01T00:00:00",
          "1978-04-01T00:00:00",
          "1978-07-01T00:00:00",
          "1978-10-01T00:00:00",
          "1979-01-01T00:00:00",
          "1979-04-01T00:00:00",
          "1979-07-01T00:00:00",
          "1979-10-01T00:00:00",
          "1980-01-01T00:00:00",
          "1980-04-01T00:00:00",
          "1980-07-01T00:00:00",
          "1980-10-01T00:00:00",
          "1981-01-01T00:00:00",
          "1981-04-01T00:00:00",
          "1981-07-01T00:00:00",
          "1981-10-01T00:00:00",
          "1982-01-01T00:00:00",
          "1982-04-01T00:00:00",
          "1982-07-01T00:00:00",
          "1982-10-01T00:00:00",
          "1983-01-01T00:00:00",
          "1983-04-01T00:00:00",
          "1983-07-01T00:00:00",
          "1983-10-01T00:00:00",
          "1984-01-01T00:00:00",
          "1984-04-01T00:00:00",
          "1984-07-01T00:00:00",
          "1984-10-01T00:00:00",
          "1985-01-01T00:00:00",
          "1985-04-01T00:00:00",
          "1985-07-01T00:00:00",
          "1985-10-01T00:00:00",
          "1986-01-01T00:00:00",
          "1986-04-01T00:00:00",
          "1986-07-01T00:00:00",
          "1986-10-01T00:00:00",
          "1987-01-01T00:00:00",
          "1987-04-01T00:00:00",
          "1987-07-01T00:00:00",
          "1987-10-01T00:00:00",
          "1988-01-01T00:00:00",
          "1988-04-01T00:00:00",
          "1988-07-01T00:00:00",
          "1988-10-01T00:00:00",
          "1989-01-01T00:00:00",
          "1989-04-01T00:00:00",
          "1989-07-01T00:00:00",
          "1989-10-01T00:00:00",
          "1990-01-01T00:00:00",
          "1990-04-01T00:00:00",
          "1990-07-01T00:00:00",
          "1990-10-01T00:00:00",
          "1991-01-01T00:00:00",
          "1991-04-01T00:00:00",
          "1991-07-01T00:00:00",
          "1991-10-01T00:00:00",
          "1992-01-01T00:00:00",
          "1992-04-01T00:00:00",
          "1992-07-01T00:00:00",
          "1992-10-01T00:00:00",
          "1993-01-01T00:00:00",
          "1993-04-01T00:00:00",
          "1993-07-01T00:00:00",
          "1993-10-01T00:00:00",
          "1994-01-01T00:00:00",
          "1994-04-01T00:00:00",
          "1994-07-01T00:00:00",
          "1994-10-01T00:00:00",
          "1995-01-01T00:00:00",
          "1995-04-01T00:00:00",
          "1995-07-01T00:00:00",
          "1995-10-01T00:00:00",
          "1996-01-01T00:00:00",
          "1996-04-01T00:00:00",
          "1996-07-01T00:00:00",
          "1996-10-01T00:00:00",
          "1997-01-01T00:00:00",
          "1997-04-01T00:00:00",
          "1997-07-01T00:00:00",
          "1997-10-01T00:00:00",
          "1998-01-01T00:00:00",
          "1998-04-01T00:00:00",
          "1998-07-01T00:00:00",
          "1998-10-01T00:00:00",
          "1999-01-01T00:00:00",
          "1999-04-01T00:00:00",
          "1999-07-01T00:00:00",
          "1999-10-01T00:00:00",
          "2000-01-01T00:00:00",
          "2000-04-01T00:00:00",
          "2000-07-01T00:00:00",
          "2000-10-01T00:00:00",
          "2001-01-01T00:00:00",
          "2001-04-01T00:00:00",
          "2001-07-01T00:00:00",
          "2001-10-01T00:00:00",
          "2002-01-01T00:00:00",
          "2002-04-01T00:00:00",
          "2002-07-01T00:00:00",
          "2002-10-01T00:00:00",
          "2003-01-01T00:00:00",
          "2003-04-01T00:00:00",
          "2003-07-01T00:00:00",
          "2003-10-01T00:00:00",
          "2004-01-01T00:00:00",
          "2004-04-01T00:00:00",
          "2004-07-01T00:00:00",
          "2004-10-01T00:00:00",
          "2005-01-01T00:00:00",
          "2005-04-01T00:00:00",
          "2005-07-01T00:00:00",
          "2005-10-01T00:00:00",
          "2006-01-01T00:00:00",
          "2006-04-01T00:00:00",
          "2006-07-01T00:00:00",
          "2006-10-01T00:00:00",
          "2007-01-01T00:00:00",
          "2007-04-01T00:00:00",
          "2007-07-01T00:00:00",
          "2007-10-01T00:00:00",
          "2008-01-01T00:00:00",
          "2008-04-01T00:00:00",
          "2008-07-01T00:00:00",
          "2008-10-01T00:00:00",
          "2009-01-01T00:00:00",
          "2009-04-01T00:00:00",
          "2009-07-01T00:00:00",
          "2009-10-01T00:00:00",
          "2010-01-01T00:00:00",
          "2010-04-01T00:00:00",
          "2010-07-01T00:00:00",
          "2010-10-01T00:00:00",
          "2011-01-01T00:00:00",
          "2011-04-01T00:00:00",
          "2011-07-01T00:00:00",
          "2011-10-01T00:00:00",
          "2012-01-01T00:00:00",
          "2012-04-01T00:00:00",
          "2012-07-01T00:00:00",
          "2012-10-01T00:00:00",
          "2013-01-01T00:00:00",
          "2013-04-01T00:00:00",
          "2013-07-01T00:00:00",
          "2013-10-01T00:00:00",
          "2014-01-01T00:00:00",
          "2014-04-01T00:00:00",
          "2014-07-01T00:00:00",
          "2014-10-01T00:00:00",
          "2015-01-01T00:00:00",
          "2015-04-01T00:00:00",
          "2015-07-01T00:00:00",
          "2015-10-01T00:00:00",
          "2016-01-01T00:00:00",
          "2016-04-01T00:00:00",
          "2016-07-01T00:00:00",
          "2016-10-01T00:00:00",
          "2017-01-01T00:00:00",
          "2017-04-01T00:00:00",
          "2017-07-01T00:00:00",
          "2017-10-01T00:00:00",
          "2018-01-01T00:00:00",
          "2018-04-01T00:00:00",
          "2018-07-01T00:00:00",
          "2018-10-01T00:00:00",
          "2019-01-01T00:00:00",
          "2019-04-01T00:00:00",
          "2019-07-01T00:00:00",
          "2019-10-01T00:00:00",
          "2020-01-01T00:00:00",
          "2020-04-01T00:00:00",
          "2020-07-01T00:00:00",
          "2020-10-01T00:00:00",
          "2021-01-01T00:00:00",
          "2021-04-01T00:00:00",
          "2021-07-01T00:00:00",
          "2021-10-01T00:00:00",
          "2022-01-01T00:00:00",
          "2022-04-01T00:00:00",
          "2022-07-01T00:00:00",
          "2022-10-01T00:00:00"
         ],
         "y": [
          112816,
          114737,
          119348,
          119115,
          121328,
          124675,
          123125,
          124747,
          126879,
          126862,
          128956,
          130003,
          135852,
          134028,
          133581,
          137798,
          140540,
          140756,
          143366,
          146476,
          149751,
          154123,
          157412,
          162127,
          161986,
          168619,
          169283,
          171004,
          172683,
          175414,
          179508,
          182612,
          181436,
          185017,
          185224,
          187726,
          193059,
          199196,
          195750,
          200247,
          198413,
          205890,
          209504,
          211891,
          207651,
          210624,
          214279,
          216619,
          215671,
          217820,
          219140,
          226538,
          225241,
          230764,
          235150,
          237998,
          239595,
          247335,
          249408,
          249359,
          248569,
          251079,
          249109,
          251730,
          256217,
          261765,
          260428,
          262560,
          261381,
          263039,
          262891,
          263660,
          262806,
          265667,
          263751,
          265258,
          267792,
          271266,
          275255,
          274462,
          275509,
          275613,
          278982,
          280060,
          277810,
          280452,
          282703,
          284367,
          279370,
          283888,
          286912,
          287263,
          288485,
          288755,
          292521,
          296293,
          301229,
          305038,
          303835,
          310140,
          309995,
          307707,
          309748,
          308441,
          311449,
          313820,
          312343,
          315834,
          320110,
          323481,
          325337,
          325239,
          327398,
          331648,
          336041,
          337232,
          343365,
          339691,
          347025,
          350351,
          349514,
          356179,
          353725,
          356980,
          356743,
          354717,
          354328,
          358178,
          356485,
          358144,
          354486,
          353773,
          349924,
          354000,
          355589,
          354828,
          352768,
          351632,
          349563,
          347207,
          346901,
          345808,
          341178,
          339681,
          340469,
          337974,
          339040,
          339055,
          347393,
          344216,
          345155,
          344828,
          350737,
          354684,
          360222,
          361549,
          365037,
          368101,
          370352,
          373007,
          379947,
          384780,
          387112,
          390034,
          391452,
          393020,
          396552,
          398765,
          403264,
          405755,
          407265,
          410844,
          414558,
          414422,
          417867,
          421021,
          421697,
          424514,
          427651,
          432938,
          434509,
          439021,
          440645,
          444429,
          447813,
          450699,
          456804,
          456940,
          463374,
          471405,
          470875,
          477739,
          477849,
          483743,
          492141,
          501590,
          505931,
          506431,
          507825,
          509953,
          508222,
          506730,
          505043,
          503112,
          505615,
          505319,
          507302,
          506223,
          500885,
          495558,
          497341,
          498447,
          499122,
          496918,
          497704,
          496851,
          504591,
          503072,
          505627,
          504929,
          509701,
          512604,
          511917,
          513866,
          519389,
          521597,
          528246,
          535800,
          540328,
          542539,
          543605,
          543069,
          541002,
          540636,
          546657,
          550613,
          550328,
          532550,
          560230,
          566600,
          574024,
          578185,
          580695,
          585009,
          591109,
          590688,
          595410,
          601146
         ]
        },
        {
         "mode": "lines+markers",
         "name": "Government Spending Test",
         "type": "scatter",
         "x": [
          "2023-01-01T00:00:00",
          "2023-04-01T00:00:00",
          "2023-07-01T00:00:00",
          "2023-10-01T00:00:00",
          "2024-01-01T00:00:00",
          "2024-04-01T00:00:00",
          "2024-07-01T00:00:00"
         ],
         "y": [
          605228,
          606421,
          614357,
          613120,
          617989,
          624870,
          632291
         ]
        },
        {
         "mode": "lines+markers",
         "name": "Government Spending Forecast",
         "type": "scatter",
         "x": [
          "2023-01-01T00:00:00",
          "2023-04-01T00:00:00",
          "2023-07-01T00:00:00",
          "2023-10-01T00:00:00",
          "2024-01-01T00:00:00",
          "2024-04-01T00:00:00",
          "2024-07-01T00:00:00"
         ],
         "y": [
          604843.2848890648,
          608909.3297205783,
          612975.3745520918,
          617041.4193836052,
          621107.4642151187,
          625173.5090466321,
          629239.5538781456
         ]
        }
       ],
       "layout": {
        "template": {
         "data": {
          "bar": [
           {
            "error_x": {
             "color": "#2a3f5f"
            },
            "error_y": {
             "color": "#2a3f5f"
            },
            "marker": {
             "line": {
              "color": "white",
              "width": 0.5
             },
             "pattern": {
              "fillmode": "overlay",
              "size": 10,
              "solidity": 0.2
             }
            },
            "type": "bar"
           }
          ],
          "barpolar": [
           {
            "marker": {
             "line": {
              "color": "white",
              "width": 0.5
             },
             "pattern": {
              "fillmode": "overlay",
              "size": 10,
              "solidity": 0.2
             }
            },
            "type": "barpolar"
           }
          ],
          "carpet": [
           {
            "aaxis": {
             "endlinecolor": "#2a3f5f",
             "gridcolor": "#C8D4E3",
             "linecolor": "#C8D4E3",
             "minorgridcolor": "#C8D4E3",
             "startlinecolor": "#2a3f5f"
            },
            "baxis": {
             "endlinecolor": "#2a3f5f",
             "gridcolor": "#C8D4E3",
             "linecolor": "#C8D4E3",
             "minorgridcolor": "#C8D4E3",
             "startlinecolor": "#2a3f5f"
            },
            "type": "carpet"
           }
          ],
          "choropleth": [
           {
            "colorbar": {
             "outlinewidth": 0,
             "ticks": ""
            },
            "type": "choropleth"
           }
          ],
          "contour": [
           {
            "colorbar": {
             "outlinewidth": 0,
             "ticks": ""
            },
            "colorscale": [
             [
              0,
              "#0d0887"
             ],
             [
              0.1111111111111111,
              "#46039f"
             ],
             [
              0.2222222222222222,
              "#7201a8"
             ],
             [
              0.3333333333333333,
              "#9c179e"
             ],
             [
              0.4444444444444444,
              "#bd3786"
             ],
             [
              0.5555555555555556,
              "#d8576b"
             ],
             [
              0.6666666666666666,
              "#ed7953"
             ],
             [
              0.7777777777777778,
              "#fb9f3a"
             ],
             [
              0.8888888888888888,
              "#fdca26"
             ],
             [
              1,
              "#f0f921"
             ]
            ],
            "type": "contour"
           }
          ],
          "contourcarpet": [
           {
            "colorbar": {
             "outlinewidth": 0,
             "ticks": ""
            },
            "type": "contourcarpet"
           }
          ],
          "heatmap": [
           {
            "colorbar": {
             "outlinewidth": 0,
             "ticks": ""
            },
            "colorscale": [
             [
              0,
              "#0d0887"
             ],
             [
              0.1111111111111111,
              "#46039f"
             ],
             [
              0.2222222222222222,
              "#7201a8"
             ],
             [
              0.3333333333333333,
              "#9c179e"
             ],
             [
              0.4444444444444444,
              "#bd3786"
             ],
             [
              0.5555555555555556,
              "#d8576b"
             ],
             [
              0.6666666666666666,
              "#ed7953"
             ],
             [
              0.7777777777777778,
              "#fb9f3a"
             ],
             [
              0.8888888888888888,
              "#fdca26"
             ],
             [
              1,
              "#f0f921"
             ]
            ],
            "type": "heatmap"
           }
          ],
          "heatmapgl": [
           {
            "colorbar": {
             "outlinewidth": 0,
             "ticks": ""
            },
            "colorscale": [
             [
              0,
              "#0d0887"
             ],
             [
              0.1111111111111111,
              "#46039f"
             ],
             [
              0.2222222222222222,
              "#7201a8"
             ],
             [
              0.3333333333333333,
              "#9c179e"
             ],
             [
              0.4444444444444444,
              "#bd3786"
             ],
             [
              0.5555555555555556,
              "#d8576b"
             ],
             [
              0.6666666666666666,
              "#ed7953"
             ],
             [
              0.7777777777777778,
              "#fb9f3a"
             ],
             [
              0.8888888888888888,
              "#fdca26"
             ],
             [
              1,
              "#f0f921"
             ]
            ],
            "type": "heatmapgl"
           }
          ],
          "histogram": [
           {
            "marker": {
             "pattern": {
              "fillmode": "overlay",
              "size": 10,
              "solidity": 0.2
             }
            },
            "type": "histogram"
           }
          ],
          "histogram2d": [
           {
            "colorbar": {
             "outlinewidth": 0,
             "ticks": ""
            },
            "colorscale": [
             [
              0,
              "#0d0887"
             ],
             [
              0.1111111111111111,
              "#46039f"
             ],
             [
              0.2222222222222222,
              "#7201a8"
             ],
             [
              0.3333333333333333,
              "#9c179e"
             ],
             [
              0.4444444444444444,
              "#bd3786"
             ],
             [
              0.5555555555555556,
              "#d8576b"
             ],
             [
              0.6666666666666666,
              "#ed7953"
             ],
             [
              0.7777777777777778,
              "#fb9f3a"
             ],
             [
              0.8888888888888888,
              "#fdca26"
             ],
             [
              1,
              "#f0f921"
             ]
            ],
            "type": "histogram2d"
           }
          ],
          "histogram2dcontour": [
           {
            "colorbar": {
             "outlinewidth": 0,
             "ticks": ""
            },
            "colorscale": [
             [
              0,
              "#0d0887"
             ],
             [
              0.1111111111111111,
              "#46039f"
             ],
             [
              0.2222222222222222,
              "#7201a8"
             ],
             [
              0.3333333333333333,
              "#9c179e"
             ],
             [
              0.4444444444444444,
              "#bd3786"
             ],
             [
              0.5555555555555556,
              "#d8576b"
             ],
             [
              0.6666666666666666,
              "#ed7953"
             ],
             [
              0.7777777777777778,
              "#fb9f3a"
             ],
             [
              0.8888888888888888,
              "#fdca26"
             ],
             [
              1,
              "#f0f921"
             ]
            ],
            "type": "histogram2dcontour"
           }
          ],
          "mesh3d": [
           {
            "colorbar": {
             "outlinewidth": 0,
             "ticks": ""
            },
            "type": "mesh3d"
           }
          ],
          "parcoords": [
           {
            "line": {
             "colorbar": {
              "outlinewidth": 0,
              "ticks": ""
             }
            },
            "type": "parcoords"
           }
          ],
          "pie": [
           {
            "automargin": true,
            "type": "pie"
           }
          ],
          "scatter": [
           {
            "fillpattern": {
             "fillmode": "overlay",
             "size": 10,
             "solidity": 0.2
            },
            "type": "scatter"
           }
          ],
          "scatter3d": [
           {
            "line": {
             "colorbar": {
              "outlinewidth": 0,
              "ticks": ""
             }
            },
            "marker": {
             "colorbar": {
              "outlinewidth": 0,
              "ticks": ""
             }
            },
            "type": "scatter3d"
           }
          ],
          "scattercarpet": [
           {
            "marker": {
             "colorbar": {
              "outlinewidth": 0,
              "ticks": ""
             }
            },
            "type": "scattercarpet"
           }
          ],
          "scattergeo": [
           {
            "marker": {
             "colorbar": {
              "outlinewidth": 0,
              "ticks": ""
             }
            },
            "type": "scattergeo"
           }
          ],
          "scattergl": [
           {
            "marker": {
             "colorbar": {
              "outlinewidth": 0,
              "ticks": ""
             }
            },
            "type": "scattergl"
           }
          ],
          "scattermapbox": [
           {
            "marker": {
             "colorbar": {
              "outlinewidth": 0,
              "ticks": ""
             }
            },
            "type": "scattermapbox"
           }
          ],
          "scatterpolar": [
           {
            "marker": {
             "colorbar": {
              "outlinewidth": 0,
              "ticks": ""
             }
            },
            "type": "scatterpolar"
           }
          ],
          "scatterpolargl": [
           {
            "marker": {
             "colorbar": {
              "outlinewidth": 0,
              "ticks": ""
             }
            },
            "type": "scatterpolargl"
           }
          ],
          "scatterternary": [
           {
            "marker": {
             "colorbar": {
              "outlinewidth": 0,
              "ticks": ""
             }
            },
            "type": "scatterternary"
           }
          ],
          "surface": [
           {
            "colorbar": {
             "outlinewidth": 0,
             "ticks": ""
            },
            "colorscale": [
             [
              0,
              "#0d0887"
             ],
             [
              0.1111111111111111,
              "#46039f"
             ],
             [
              0.2222222222222222,
              "#7201a8"
             ],
             [
              0.3333333333333333,
              "#9c179e"
             ],
             [
              0.4444444444444444,
              "#bd3786"
             ],
             [
              0.5555555555555556,
              "#d8576b"
             ],
             [
              0.6666666666666666,
              "#ed7953"
             ],
             [
              0.7777777777777778,
              "#fb9f3a"
             ],
             [
              0.8888888888888888,
              "#fdca26"
             ],
             [
              1,
              "#f0f921"
             ]
            ],
            "type": "surface"
           }
          ],
          "table": [
           {
            "cells": {
             "fill": {
              "color": "#EBF0F8"
             },
             "line": {
              "color": "white"
             }
            },
            "header": {
             "fill": {
              "color": "#C8D4E3"
             },
             "line": {
              "color": "white"
             }
            },
            "type": "table"
           }
          ]
         },
         "layout": {
          "annotationdefaults": {
           "arrowcolor": "#2a3f5f",
           "arrowhead": 0,
           "arrowwidth": 1
          },
          "autotypenumbers": "strict",
          "coloraxis": {
           "colorbar": {
            "outlinewidth": 0,
            "ticks": ""
           }
          },
          "colorscale": {
           "diverging": [
            [
             0,
             "#8e0152"
            ],
            [
             0.1,
             "#c51b7d"
            ],
            [
             0.2,
             "#de77ae"
            ],
            [
             0.3,
             "#f1b6da"
            ],
            [
             0.4,
             "#fde0ef"
            ],
            [
             0.5,
             "#f7f7f7"
            ],
            [
             0.6,
             "#e6f5d0"
            ],
            [
             0.7,
             "#b8e186"
            ],
            [
             0.8,
             "#7fbc41"
            ],
            [
             0.9,
             "#4d9221"
            ],
            [
             1,
             "#276419"
            ]
           ],
           "sequential": [
            [
             0,
             "#0d0887"
            ],
            [
             0.1111111111111111,
             "#46039f"
            ],
            [
             0.2222222222222222,
             "#7201a8"
            ],
            [
             0.3333333333333333,
             "#9c179e"
            ],
            [
             0.4444444444444444,
             "#bd3786"
            ],
            [
             0.5555555555555556,
             "#d8576b"
            ],
            [
             0.6666666666666666,
             "#ed7953"
            ],
            [
             0.7777777777777778,
             "#fb9f3a"
            ],
            [
             0.8888888888888888,
             "#fdca26"
            ],
            [
             1,
             "#f0f921"
            ]
           ],
           "sequentialminus": [
            [
             0,
             "#0d0887"
            ],
            [
             0.1111111111111111,
             "#46039f"
            ],
            [
             0.2222222222222222,
             "#7201a8"
            ],
            [
             0.3333333333333333,
             "#9c179e"
            ],
            [
             0.4444444444444444,
             "#bd3786"
            ],
            [
             0.5555555555555556,
             "#d8576b"
            ],
            [
             0.6666666666666666,
             "#ed7953"
            ],
            [
             0.7777777777777778,
             "#fb9f3a"
            ],
            [
             0.8888888888888888,
             "#fdca26"
            ],
            [
             1,
             "#f0f921"
            ]
           ]
          },
          "colorway": [
           "#636efa",
           "#EF553B",
           "#00cc96",
           "#ab63fa",
           "#FFA15A",
           "#19d3f3",
           "#FF6692",
           "#B6E880",
           "#FF97FF",
           "#FECB52"
          ],
          "font": {
           "color": "#2a3f5f"
          },
          "geo": {
           "bgcolor": "white",
           "lakecolor": "white",
           "landcolor": "white",
           "showlakes": true,
           "showland": true,
           "subunitcolor": "#C8D4E3"
          },
          "hoverlabel": {
           "align": "left"
          },
          "hovermode": "closest",
          "mapbox": {
           "style": "light"
          },
          "paper_bgcolor": "white",
          "plot_bgcolor": "white",
          "polar": {
           "angularaxis": {
            "gridcolor": "#EBF0F8",
            "linecolor": "#EBF0F8",
            "ticks": ""
           },
           "bgcolor": "white",
           "radialaxis": {
            "gridcolor": "#EBF0F8",
            "linecolor": "#EBF0F8",
            "ticks": ""
           }
          },
          "scene": {
           "xaxis": {
            "backgroundcolor": "white",
            "gridcolor": "#DFE8F3",
            "gridwidth": 2,
            "linecolor": "#EBF0F8",
            "showbackground": true,
            "ticks": "",
            "zerolinecolor": "#EBF0F8"
           },
           "yaxis": {
            "backgroundcolor": "white",
            "gridcolor": "#DFE8F3",
            "gridwidth": 2,
            "linecolor": "#EBF0F8",
            "showbackground": true,
            "ticks": "",
            "zerolinecolor": "#EBF0F8"
           },
           "zaxis": {
            "backgroundcolor": "white",
            "gridcolor": "#DFE8F3",
            "gridwidth": 2,
            "linecolor": "#EBF0F8",
            "showbackground": true,
            "ticks": "",
            "zerolinecolor": "#EBF0F8"
           }
          },
          "shapedefaults": {
           "line": {
            "color": "#2a3f5f"
           }
          },
          "ternary": {
           "aaxis": {
            "gridcolor": "#DFE8F3",
            "linecolor": "#A2B1C6",
            "ticks": ""
           },
           "baxis": {
            "gridcolor": "#DFE8F3",
            "linecolor": "#A2B1C6",
            "ticks": ""
           },
           "bgcolor": "white",
           "caxis": {
            "gridcolor": "#DFE8F3",
            "linecolor": "#A2B1C6",
            "ticks": ""
           }
          },
          "title": {
           "x": 0.05
          },
          "xaxis": {
           "automargin": true,
           "gridcolor": "#EBF0F8",
           "linecolor": "#EBF0F8",
           "ticks": "",
           "title": {
            "standoff": 15
           },
           "zerolinecolor": "#EBF0F8",
           "zerolinewidth": 2
          },
          "yaxis": {
           "automargin": true,
           "gridcolor": "#EBF0F8",
           "linecolor": "#EBF0F8",
           "ticks": "",
           "title": {
            "standoff": 15
           },
           "zerolinecolor": "#EBF0F8",
           "zerolinewidth": 2
          }
         }
        },
        "title": {
         "text": "Interactive Time Series Prediction of GDP Components"
        },
        "updatemenus": [
         {
          "buttons": [
           {
            "args": [
             {
              "visible": [
               true,
               true,
               true,
               true,
               true,
               true,
               true,
               true,
               true
              ]
             },
             {
              "title": "All GDP Components Predictions"
             }
            ],
            "label": "All",
            "method": "update"
           },
           {
            "args": [
             {
              "visible": [
               true,
               true,
               true,
               false,
               false,
               false,
               false,
               false,
               false
              ]
             },
             {
              "title": "Consumption Predictions"
             }
            ],
            "label": "Consumption",
            "method": "update"
           },
           {
            "args": [
             {
              "visible": [
               false,
               false,
               false,
               true,
               true,
               true,
               false,
               false,
               false
              ]
             },
             {
              "title": "Investment Predictions"
             }
            ],
            "label": "Investment",
            "method": "update"
           },
           {
            "args": [
             {
              "visible": [
               false,
               false,
               false,
               false,
               false,
               false,
               true,
               true,
               true
              ]
             },
             {
              "title": "Government Spending Predictions"
             }
            ],
            "label": "Government Spending",
            "method": "update"
           }
          ],
          "direction": "down",
          "showactive": true,
          "x": 0.1,
          "xanchor": "left",
          "y": 1.15,
          "yanchor": "top"
         }
        ],
        "xaxis": {
         "title": {
          "text": "Time"
         }
        },
        "yaxis": {
         "title": {
          "text": "Expenditure"
         }
        }
       }
      },
      "image/png": "[encoded data removed]",
      "text/html": [
       "<div>                            <div id=\"384ce6df-2303-4405-b50c-4e92f011f59e\" class=\"plotly-graph-div\" style=\"height:525px; width:100%;\"></div>            <script type=\"text/javascript\">                require([\"plotly\"], function(Plotly) {                    window.PLOTLYENV=window.PLOTLYENV || {};                                    if (document.getElementById(\"384ce6df-2303-4405-b50c-4e92f011f59e\")) {                    Plotly.newPlot(                        \"384ce6df-2303-4405-b50c-4e92f011f59e\",                        [{\"mode\":\"lines+markers\",\"name\":\"Consumption Train\",\"x\":[\"1961-01-01T00:00:00\",\"1961-04-01T00:00:00\",\"1961-07-01T00:00:00\",\"1961-10-01T00:00:00\",\"1962-01-01T00:00:00\",\"1962-04-01T00:00:00\",\"1962-07-01T00:00:00\",\"1962-10-01T00:00:00\",\"1963-01-01T00:00:00\",\"1963-04-01T00:00:00\",\"1963-07-01T00:00:00\",\"1963-10-01T00:00:00\",\"1964-01-01T00:00:00\",\"1964-04-01T00:00:00\",\"1964-07-01T00:00:00\",\"1964-10-01T00:00:00\",\"1965-01-01T00:00:00\",\"1965-04-01T00:00:00\",\"1965-07-01T00:00:00\",\"1965-10-01T00:00:00\",\"1966-01-01T00:00:00\",\"1966-04-01T00:00:00\",\"1966-07-01T00:00:00\",\"1966-10-01T00:00:00\",\"1967-01-01T00:00:00\",\"1967-04-01T00:00:00\",\"1967-07-01T00:00:00\",\"1967-10-01T00:00:00\",\"1968-01-01T00:00:00\",\"1968-04-01T00:00:00\",\"1968-07-01T00:00:00\",\"1968-10-01T00:00:00\",\"1969-01-01T00:00:00\",\"1969-04-01T00:00:00\",\"1969-07-01T00:00:00\",\"1969-10-01T00:00:00\",\"1970-01-01T00:00:00\",\"1970-04-01T00:00:00\",\"1970-07-01T00:00:00\",\"1970-10-01T00:00:00\",\"1971-01-01T00:00:00\",\"1971-04-01T00:00:00\",\"1971-07-01T00:00:00\",\"1971-10-01T00:00:00\",\"1972-01-01T00:00:00\",\"1972-04-01T00:00:00\",\"1972-07-01T00:00:00\",\"1972-10-01T00:00:00\",\"1973-01-01T00:00:00\",\"1973-04-01T00:00:00\",\"1973-07-01T00:00:00\",\"1973-10-01T00:00:00\",\"1974-01-01T00:00:00\",\"1974-04-01T00:00:00\",\"1974-07-01T00:00:00\",\"1974-10-01T00:00:00\",\"1975-01-01T00:00:00\",\"1975-04-01T00:00:00\",\"1975-07-01T00:00:00\",\"1975-10-01T00:00:00\",\"1976-01-01T00:00:00\",\"1976-04-01T00:00:00\",\"1976-07-01T00:00:00\",\"1976-10-01T00:00:00\",\"1977-01-01T00:00:00\",\"1977-04-01T00:00:00\",\"1977-07-01T00:00:00\",\"1977-10-01T00:00:00\",\"1978-01-01T00:00:00\",\"1978-04-01T00:00:00\",\"1978-07-01T00:00:00\",\"1978-10-01T00:00:00\",\"1979-01-01T00:00:00\",\"1979-04-01T00:00:00\",\"1979-07-01T00:00:00\",\"1979-10-01T00:00:00\",\"1980-01-01T00:00:00\",\"1980-04-01T00:00:00\",\"1980-07-01T00:00:00\",\"1980-10-01T00:00:00\",\"1981-01-01T00:00:00\",\"1981-04-01T00:00:00\",\"1981-07-01T00:00:00\",\"1981-10-01T00:00:00\",\"1982-01-01T00:00:00\",\"1982-04-01T00:00:00\",\"1982-07-01T00:00:00\",\"1982-10-01T00:00:00\",\"1983-01-01T00:00:00\",\"1983-04-01T00:00:00\",\"1983-07-01T00:00:00\",\"1983-10-01T00:00:00\",\"1984-01-01T00:00:00\",\"1984-04-01T00:00:00\",\"1984-07-01T00:00:00\",\"1984-10-01T00:00:00\",\"1985-01-01T00:00:00\",\"1985-04-01T00:00:00\",\"1985-07-01T00:00:00\",\"1985-10-01T00:00:00\",\"1986-01-01T00:00:00\",\"1986-04-01T00:00:00\",\"1986-07-01T00:00:00\",\"1986-10-01T00:00:00\",\"1987-01-01T00:00:00\",\"1987-04-01T00:00:00\",\"1987-07-01T00:00:00\",\"1987-10-01T00:00:00\",\"1988-01-01T00:00:00\",\"1988-04-01T00:00:00\",\"1988-07-01T00:00:00\",\"1988-10-01T00:00:00\",\"1989-01-01T00:00:00\",\"1989-04-01T00:00:00\",\"1989-07-01T00:00:00\",\"1989-10-01T00:00:00\",\"1990-01-01T00:00:00\",\"1990-04-01T00:00:00\",\"1990-07-01T00:00:00\",\"1990-10-01T00:00:00\",\"1991-01-01T00:00:00\",\"1991-04-01T00:00:00\",\"1991-07-01T00:00:00\",\"1991-10-01T00:00:00\",\"1992-01-01T00:00:00\",\"1992-04-01T00:00:00\",\"1992-07-01T00:00:00\",\"1992-10-01T00:00:00\",\"1993-01-01T00:00:00\",\"1993-04-01T00:00:00\",\"1993-07-01T00:00:00\",\"1993-10-01T00:00:00\",\"1994-01-01T00:00:00\",\"1994-04-01T00:00:00\",\"1994-07-01T00:00:00\",\"1994-10-01T00:00:00\",\"1995-01-01T00:00:00\",\"1995-04-01T00:00:00\",\"1995-07-01T00:00:00\",\"1995-10-01T00:00:00\",\"1996-01-01T00:00:00\",\"1996-04-01T00:00:00\",\"1996-07-01T00:00:00\",\"1996-10-01T00:00:00\",\"1997-01-01T00:00:00\",\"1997-04-01T00:00:00\",\"1997-07-01T00:00:00\",\"1997-10-01T00:00:00\",\"1998-01-01T00:00:00\",\"1998-04-01T00:00:00\",\"1998-07-01T00:00:00\",\"1998-10-01T00:00:00\",\"1999-01-01T00:00:00\",\"1999-04-01T00:00:00\",\"1999-07-01T00:00:00\",\"1999-10-01T00:00:00\",\"2000-01-01T00:00:00\",\"2000-04-01T00:00:00\",\"2000-07-01T00:00:00\",\"2000-10-01T00:00:00\",\"2001-01-01T00:00:00\",\"2001-04-01T00:00:00\",\"2001-07-01T00:00:00\",\"2001-10-01T00:00:00\",\"2002-01-01T00:00:00\",\"2002-04-01T00:00:00\",\"2002-07-01T00:00:00\",\"2002-10-01T00:00:00\",\"2003-01-01T00:00:00\",\"2003-04-01T00:00:00\",\"2003-07-01T00:00:00\",\"2003-10-01T00:00:00\",\"2004-01-01T00:00:00\",\"2004-04-01T00:00:00\",\"2004-07-01T00:00:00\",\"2004-10-01T00:00:00\",\"2005-01-01T00:00:00\",\"2005-04-01T00:00:00\",\"2005-07-01T00:00:00\",\"2005-10-01T00:00:00\",\"2006-01-01T00:00:00\",\"2006-04-01T00:00:00\",\"2006-07-01T00:00:00\",\"2006-10-01T00:00:00\",\"2007-01-01T00:00:00\",\"2007-04-01T00:00:00\",\"2007-07-01T00:00:00\",\"2007-10-01T00:00:00\",\"2008-01-01T00:00:00\",\"2008-04-01T00:00:00\",\"2008-07-01T00:00:00\",\"2008-10-01T00:00:00\",\"2009-01-01T00:00:00\",\"2009-04-01T00:00:00\",\"2009-07-01T00:00:00\",\"2009-10-01T00:00:00\",\"2010-01-01T00:00:00\",\"2010-04-01T00:00:00\",\"2010-07-01T00:00:00\",\"2010-10-01T00:00:00\",\"2011-01-01T00:00:00\",\"2011-04-01T00:00:00\",\"2011-07-01T00:00:00\",\"2011-10-01T00:00:00\",\"2012-01-01T00:00:00\",\"2012-04-01T00:00:00\",\"2012-07-01T00:00:00\",\"2012-10-01T00:00:00\",\"2013-01-01T00:00:00\",\"2013-04-01T00:00:00\",\"2013-07-01T00:00:00\",\"2013-10-01T00:00:00\",\"2014-01-01T00:00:00\",\"2014-04-01T00:00:00\",\"2014-07-01T00:00:00\",\"2014-10-01T00:00:00\",\"2015-01-01T00:00:00\",\"2015-04-01T00:00:00\",\"2015-07-01T00:00:00\",\"2015-10-01T00:00:00\",\"2016-01-01T00:00:00\",\"2016-04-01T00:00:00\",\"2016-07-01T00:00:00\",\"2016-10-01T00:00:00\",\"2017-01-01T00:00:00\",\"2017-04-01T00:00:00\",\"2017-07-01T00:00:00\",\"2017-10-01T00:00:00\",\"2018-01-01T00:00:00\",\"2018-04-01T00:00:00\",\"2018-07-01T00:00:00\",\"2018-10-01T00:00:00\",\"2019-01-01T00:00:00\",\"2019-04-01T00:00:00\",\"2019-07-01T00:00:00\",\"2019-10-01T00:00:00\",\"2020-01-01T00:00:00\",\"2020-04-01T00:00:00\",\"2020-07-01T00:00:00\",\"2020-10-01T00:00:00\",\"2021-01-01T00:00:00\",\"2021-04-01T00:00:00\",\"2021-07-01T00:00:00\",\"2021-10-01T00:00:00\",\"2022-01-01T00:00:00\",\"2022-04-01T00:00:00\",\"2022-07-01T00:00:00\",\"2022-10-01T00:00:00\"],\"y\":[196797.0,200550.0,205473.0,206271.0,211052.0,212405.0,211689.0,215617.0,217091.0,221064.0,222328.0,226119.0,230294.0,230938.0,235493.0,237313.0,239506.0,245177.0,249172.0,254309.0,256035.0,257329.0,262137.0,262257.0,264522.0,269393.0,268997.0,274233.0,276970.0,278097.0,283415.0,287160.0,293698.0,292456.0,295355.0,298925.0,296202.0,298372.0,303986.0,306857.0,304799.0,315361.0,322413.0,329202.0,330648.0,338729.0,341504.0,349285.0,358336.0,360782.0,363629.0,370245.0,380396.0,382691.0,384125.0,379666.0,387925.0,392731.0,399815.0,406584.0,406487.0,417040.0,418639.0,427217.0,425695.0,424787.0,431143.0,435105.0,438309.0,441252.0,443522.0,444922.0,451287.0,451709.0,452744.0,454059.0,457136.0,455283.0,463028.0,466075.0,467166.0,466539.0,463932.0,464861.0,457779.0,454069.0,452348.0,450805.0,457063.0,462522.0,467972.0,472992.0,477039.0,482020.0,482602.0,490988.0,497225.0,501745.0,511313.0,516632.0,516024.0,521949.0,529219.0,529260.0,534272.0,542865.0,547461.0,553844.0,557461.0,565337.0,568835.0,576191.0,580391.0,587989.0,586290.0,590090.0,599337.0,592638.0,592941.0,591024.0,579203.0,588951.0,588667.0,592096.0,592278.0,594721.0,597899.0,600089.0,603297.0,605496.0,609497.0,611041.0,621028.0,622000.0,624718.0,632022.0,631780.0,636625.0,643556.0,643788.0,652580.0,653817.0,656569.0,668593.0,680192.0,686054.0,695004.0,699756.0,700183.0,708665.0,712685.0,714820.0,725308.0,732694.0,741774.0,748920.0,756902.0,763450.0,773237.0,775053.0,781053.0,782490.0,784690.0,794433.0,806536.0,816959.0,818711.0,826790.0,830409.0,837374.0,844647.0,845597.0,856317.0,860074.0,868266.0,875507.0,887965.0,895731.0,901899.0,910590.0,923347.0,931539.0,941377.0,950854.0,958265.0,972601.0,981647.0,999789.0,1008261.0,1010328.0,1011277.0,999443.0,996095.0,1003693.0,1013294.0,1019616.0,1030980.0,1039844.0,1048220.0,1058255.0,1060572.0,1065437.0,1070027.0,1076431.0,1082466.0,1083962.0,1090584.0,1096468.0,1103810.0,1113932.0,1121717.0,1128399.0,1131596.0,1141918.0,1150420.0,1159052.0,1161015.0,1167255.0,1176066.0,1185031.0,1186604.0,1192264.0,1200383.0,1208852.0,1221601.0,1237234.0,1249103.0,1256314.0,1264740.0,1272149.0,1279159.0,1279338.0,1286257.0,1289397.0,1295559.0,1304846.0,1277779.0,1097087.0,1235259.0,1241944.0,1247007.0,1246328.0,1312201.0,1325757.0,1332511.0,1359017.0,1359773.0,1360444.0],\"type\":\"scatter\"},{\"mode\":\"lines+markers\",\"name\":\"Consumption Test\",\"x\":[\"2023-01-01T00:00:00\",\"2023-04-01T00:00:00\",\"2023-07-01T00:00:00\",\"2023-10-01T00:00:00\",\"2024-01-01T00:00:00\",\"2024-04-01T00:00:00\",\"2024-07-01T00:00:00\"],\"y\":[1373422.0,1376434.0,1379400.0,1383902.0,1394627.0,1397915.0,1409699.0],\"type\":\"scatter\"},{\"mode\":\"lines+markers\",\"name\":\"Consumption Forecast\",\"x\":[\"2023-01-01T00:00:00\",\"2023-04-01T00:00:00\",\"2023-07-01T00:00:00\",\"2023-10-01T00:00:00\",\"2024-01-01T00:00:00\",\"2024-04-01T00:00:00\",\"2024-07-01T00:00:00\"],\"y\":[1368296.1789342896,1374543.381930511,1380790.5849267324,1387037.7879229537,1393284.990919175,1399532.1939153965,1405779.3969116178],\"type\":\"scatter\"},{\"mode\":\"lines+markers\",\"name\":\"Investment Train\",\"x\":[\"1961-01-01T00:00:00\",\"1961-04-01T00:00:00\",\"1961-07-01T00:00:00\",\"1961-10-01T00:00:00\",\"1962-01-01T00:00:00\",\"1962-04-01T00:00:00\",\"1962-07-01T00:00:00\",\"1962-10-01T00:00:00\",\"1963-01-01T00:00:00\",\"1963-04-01T00:00:00\",\"1963-07-01T00:00:00\",\"1963-10-01T00:00:00\",\"1964-01-01T00:00:00\",\"1964-04-01T00:00:00\",\"1964-07-01T00:00:00\",\"1964-10-01T00:00:00\",\"1965-01-01T00:00:00\",\"1965-04-01T00:00:00\",\"1965-07-01T00:00:00\",\"1965-10-01T00:00:00\",\"1966-01-01T00:00:00\",\"1966-04-01T00:00:00\",\"1966-07-01T00:00:00\",\"1966-10-01T00:00:00\",\"1967-01-01T00:00:00\",\"1967-04-01T00:00:00\",\"1967-07-01T00:00:00\",\"1967-10-01T00:00:00\",\"1968-01-01T00:00:00\",\"1968-04-01T00:00:00\",\"1968-07-01T00:00:00\",\"1968-10-01T00:00:00\",\"1969-01-01T00:00:00\",\"1969-04-01T00:00:00\",\"1969-07-01T00:00:00\",\"1969-10-01T00:00:00\",\"1970-01-01T00:00:00\",\"1970-04-01T00:00:00\",\"1970-07-01T00:00:00\",\"1970-10-01T00:00:00\",\"1971-01-01T00:00:00\",\"1971-04-01T00:00:00\",\"1971-07-01T00:00:00\",\"1971-10-01T00:00:00\",\"1972-01-01T00:00:00\",\"1972-04-01T00:00:00\",\"1972-07-01T00:00:00\",\"1972-10-01T00:00:00\",\"1973-01-01T00:00:00\",\"1973-04-01T00:00:00\",\"1973-07-01T00:00:00\",\"1973-10-01T00:00:00\",\"1974-01-01T00:00:00\",\"1974-04-01T00:00:00\",\"1974-07-01T00:00:00\",\"1974-10-01T00:00:00\",\"1975-01-01T00:00:00\",\"1975-04-01T00:00:00\",\"1975-07-01T00:00:00\",\"1975-10-01T00:00:00\",\"1976-01-01T00:00:00\",\"1976-04-01T00:00:00\",\"1976-07-01T00:00:00\",\"1976-10-01T00:00:00\",\"1977-01-01T00:00:00\",\"1977-04-01T00:00:00\",\"1977-07-01T00:00:00\",\"1977-10-01T00:00:00\",\"1978-01-01T00:00:00\",\"1978-04-01T00:00:00\",\"1978-07-01T00:00:00\",\"1978-10-01T00:00:00\",\"1979-01-01T00:00:00\",\"1979-04-01T00:00:00\",\"1979-07-01T00:00:00\",\"1979-10-01T00:00:00\",\"1980-01-01T00:00:00\",\"1980-04-01T00:00:00\",\"1980-07-01T00:00:00\",\"1980-10-01T00:00:00\",\"1981-01-01T00:00:00\",\"1981-04-01T00:00:00\",\"1981-07-01T00:00:00\",\"1981-10-01T00:00:00\",\"1982-01-01T00:00:00\",\"1982-04-01T00:00:00\",\"1982-07-01T00:00:00\",\"1982-10-01T00:00:00\",\"1983-01-01T00:00:00\",\"1983-04-01T00:00:00\",\"1983-07-01T00:00:00\",\"1983-10-01T00:00:00\",\"1984-01-01T00:00:00\",\"1984-04-01T00:00:00\",\"1984-07-01T00:00:00\",\"1984-10-01T00:00:00\",\"1985-01-01T00:00:00\",\"1985-04-01T00:00:00\",\"1985-07-01T00:00:00\",\"1985-10-01T00:00:00\",\"1986-01-01T00:00:00\",\"1986-04-01T00:00:00\",\"1986-07-01T00:00:00\",\"1986-10-01T00:00:00\",\"1987-01-01T00:00:00\",\"1987-04-01T00:00:00\",\"1987-07-01T00:00:00\",\"1987-10-01T00:00:00\",\"1988-01-01T00:00:00\",\"1988-04-01T00:00:00\",\"1988-07-01T00:00:00\",\"1988-10-01T00:00:00\",\"1989-01-01T00:00:00\",\"1989-04-01T00:00:00\",\"1989-07-01T00:00:00\",\"1989-10-01T00:00:00\",\"1990-01-01T00:00:00\",\"1990-04-01T00:00:00\",\"1990-07-01T00:00:00\",\"1990-10-01T00:00:00\",\"1991-01-01T00:00:00\",\"1991-04-01T00:00:00\",\"1991-07-01T00:00:00\",\"1991-10-01T00:00:00\",\"1992-01-01T00:00:00\",\"1992-04-01T00:00:00\",\"1992-07-01T00:00:00\",\"1992-10-01T00:00:00\",\"1993-01-01T00:00:00\",\"1993-04-01T00:00:00\",\"1993-07-01T00:00:00\",\"1993-10-01T00:00:00\",\"1994-01-01T00:00:00\",\"1994-04-01T00:00:00\",\"1994-07-01T00:00:00\",\"1994-10-01T00:00:00\",\"1995-01-01T00:00:00\",\"1995-04-01T00:00:00\",\"1995-07-01T00:00:00\",\"1995-10-01T00:00:00\",\"1996-01-01T00:00:00\",\"1996-04-01T00:00:00\",\"1996-07-01T00:00:00\",\"1996-10-01T00:00:00\",\"1997-01-01T00:00:00\",\"1997-04-01T00:00:00\",\"1997-07-01T00:00:00\",\"1997-10-01T00:00:00\",\"1998-01-01T00:00:00\",\"1998-04-01T00:00:00\",\"1998-07-01T00:00:00\",\"1998-10-01T00:00:00\",\"1999-01-01T00:00:00\",\"1999-04-01T00:00:00\",\"1999-07-01T00:00:00\",\"1999-10-01T00:00:00\",\"2000-01-01T00:00:00\",\"2000-04-01T00:00:00\",\"2000-07-01T00:00:00\",\"2000-10-01T00:00:00\",\"2001-01-01T00:00:00\",\"2001-04-01T00:00:00\",\"2001-07-01T00:00:00\",\"2001-10-01T00:00:00\",\"2002-01-01T00:00:00\",\"2002-04-01T00:00:00\",\"2002-07-01T00:00:00\",\"2002-10-01T00:00:00\",\"2003-01-01T00:00:00\",\"2003-04-01T00:00:00\",\"2003-07-01T00:00:00\",\"2003-10-01T00:00:00\",\"2004-01-01T00:00:00\",\"2004-04-01T00:00:00\",\"2004-07-01T00:00:00\",\"2004-10-01T00:00:00\",\"2005-01-01T00:00:00\",\"2005-04-01T00:00:00\",\"2005-07-01T00:00:00\",\"2005-10-01T00:00:00\",\"2006-01-01T00:00:00\",\"2006-04-01T00:00:00\",\"2006-07-01T00:00:00\",\"2006-10-01T00:00:00\",\"2007-01-01T00:00:00\",\"2007-04-01T00:00:00\",\"2007-07-01T00:00:00\",\"2007-10-01T00:00:00\",\"2008-01-01T00:00:00\",\"2008-04-01T00:00:00\",\"2008-07-01T00:00:00\",\"2008-10-01T00:00:00\",\"2009-01-01T00:00:00\",\"2009-04-01T00:00:00\",\"2009-07-01T00:00:00\",\"2009-10-01T00:00:00\",\"2010-01-01T00:00:00\",\"2010-04-01T00:00:00\",\"2010-07-01T00:00:00\",\"2010-10-01T00:00:00\",\"2011-01-01T00:00:00\",\"2011-04-01T00:00:00\",\"2011-07-01T00:00:00\",\"2011-10-01T00:00:00\",\"2012-01-01T00:00:00\",\"2012-04-01T00:00:00\",\"2012-07-01T00:00:00\",\"2012-10-01T00:00:00\",\"2013-01-01T00:00:00\",\"2013-04-01T00:00:00\",\"2013-07-01T00:00:00\",\"2013-10-01T00:00:00\",\"2014-01-01T00:00:00\",\"2014-04-01T00:00:00\",\"2014-07-01T00:00:00\",\"2014-10-01T00:00:00\",\"2015-01-01T00:00:00\",\"2015-04-01T00:00:00\",\"2015-07-01T00:00:00\",\"2015-10-01T00:00:00\",\"2016-01-01T00:00:00\",\"2016-04-01T00:00:00\",\"2016-07-01T00:00:00\",\"2016-10-01T00:00:00\",\"2017-01-01T00:00:00\",\"2017-04-01T00:00:00\",\"2017-07-01T00:00:00\",\"2017-10-01T00:00:00\",\"2018-01-01T00:00:00\",\"2018-04-01T00:00:00\",\"2018-07-01T00:00:00\",\"2018-10-01T00:00:00\",\"2019-01-01T00:00:00\",\"2019-04-01T00:00:00\",\"2019-07-01T00:00:00\",\"2019-10-01T00:00:00\",\"2020-01-01T00:00:00\",\"2020-04-01T00:00:00\",\"2020-07-01T00:00:00\",\"2020-10-01T00:00:00\",\"2021-01-01T00:00:00\",\"2021-04-01T00:00:00\",\"2021-07-01T00:00:00\",\"2021-10-01T00:00:00\",\"2022-01-01T00:00:00\",\"2022-04-01T00:00:00\",\"2022-07-01T00:00:00\",\"2022-10-01T00:00:00\"],\"y\":[50342.0,50486.0,52168.0,51834.0,51595.0,51759.0,54003.0,53425.0,52799.0,54271.0,55736.0,58604.0,62424.0,63192.0,64110.0,68555.0,67708.0,69206.0,72837.0,75417.0,77887.0,80337.0,79299.0,80024.0,80598.0,79568.0,78255.0,76631.0,78464.0,78834.0,78926.0,81102.0,83084.0,84404.0,85267.0,86201.0,87106.0,83489.0,85728.0,86633.0,86446.0,89820.0,91927.0,94316.0,95198.0,96586.0,96097.0,95650.0,102699.0,105416.0,107625.0,112586.0,117940.0,113055.0,111773.0,111056.0,112514.0,115835.0,121970.0,124260.0,125691.0,130863.0,127736.0,128511.0,130467.0,130844.0,132207.0,130657.0,130740.0,134364.0,134751.0,136463.0,138687.0,140713.0,149371.0,150350.0,151536.0,146681.0,153461.0,158364.0,167416.0,172070.0,166889.0,164439.0,158448.0,145550.0,137660.0,140641.0,140280.0,143921.0,145384.0,146465.0,146375.0,145887.0,146714.0,146326.0,149726.0,156841.0,161986.0,164107.0,166475.0,166474.0,165845.0,166738.0,171145.0,180158.0,190818.0,194356.0,197856.0,199578.0,206889.0,203766.0,212884.0,210635.0,208555.0,215311.0,211122.0,205117.0,197634.0,189135.0,190294.0,186774.0,187687.0,190062.0,189183.0,179860.0,184665.0,176439.0,172721.0,177490.0,182236.0,185753.0,188028.0,195038.0,193945.0,194796.0,190504.0,190174.0,189202.0,189888.0,195522.0,196608.0,206304.0,218903.0,225293.0,232706.0,240479.0,243132.0,242266.0,242938.0,243709.0,246392.0,247124.0,252590.0,254359.0,260789.0,263626.0,266180.0,269190.0,269937.0,275835.0,279470.0,282166.0,270743.0,272428.0,276632.0,281607.0,282888.0,285218.0,287372.0,297559.0,304804.0,311868.0,317220.0,322158.0,327462.0,335402.0,343461.0,353383.0,361069.0,368844.0,372125.0,371628.0,372648.0,377228.0,379432.0,380464.0,385897.0,393423.0,390880.0,387229.0,366885.0,322037.0,317388.0,323612.0,336844.0,351317.0,359818.0,365034.0,373867.0,380926.0,388110.0,393570.0,401154.0,412620.0,416970.0,416886.0,421326.0,425047.0,428699.0,429556.0,432888.0,434614.0,439704.0,446200.0,452724.0,428316.0,416284.0,409883.0,405474.0,394633.0,392884.0,394852.0,386062.0,398198.0,400299.0,400537.0,412059.0,414006.0,417065.0,410002.0,407213.0,416155.0,415033.0,423365.0,419637.0,411327.0,347876.0,409446.0,422495.0,439361.0,448728.0,430839.0,438216.0,448376.0,435318.0,427981.0,421383.0],\"type\":\"scatter\"},{\"mode\":\"lines+markers\",\"name\":\"Investment Test\",\"x\":[\"2023-01-01T00:00:00\",\"2023-04-01T00:00:00\",\"2023-07-01T00:00:00\",\"2023-10-01T00:00:00\",\"2024-01-01T00:00:00\",\"2024-04-01T00:00:00\",\"2024-07-01T00:00:00\"],\"y\":[419744.0,427006.0,422959.0,414947.0,414079.0,417421.0,413645.0],\"type\":\"scatter\"},{\"mode\":\"lines+markers\",\"name\":\"Investment Forecast\",\"x\":[\"2023-01-01T00:00:00\",\"2023-04-01T00:00:00\",\"2023-07-01T00:00:00\",\"2023-10-01T00:00:00\",\"2024-01-01T00:00:00\",\"2024-04-01T00:00:00\",\"2024-07-01T00:00:00\"],\"y\":[421468.0270965355,421791.7741603053,423180.97603744885,424392.58569862193,424438.3453846396,424762.09244840936,426151.29432555294],\"type\":\"scatter\"},{\"mode\":\"lines+markers\",\"name\":\"Government Spending Train\",\"x\":[\"1961-01-01T00:00:00\",\"1961-04-01T00:00:00\",\"1961-07-01T00:00:00\",\"1961-10-01T00:00:00\",\"1962-01-01T00:00:00\",\"1962-04-01T00:00:00\",\"1962-07-01T00:00:00\",\"1962-10-01T00:00:00\",\"1963-01-01T00:00:00\",\"1963-04-01T00:00:00\",\"1963-07-01T00:00:00\",\"1963-10-01T00:00:00\",\"1964-01-01T00:00:00\",\"1964-04-01T00:00:00\",\"1964-07-01T00:00:00\",\"1964-10-01T00:00:00\",\"1965-01-01T00:00:00\",\"1965-04-01T00:00:00\",\"1965-07-01T00:00:00\",\"1965-10-01T00:00:00\",\"1966-01-01T00:00:00\",\"1966-04-01T00:00:00\",\"1966-07-01T00:00:00\",\"1966-10-01T00:00:00\",\"1967-01-01T00:00:00\",\"1967-04-01T00:00:00\",\"1967-07-01T00:00:00\",\"1967-10-01T00:00:00\",\"1968-01-01T00:00:00\",\"1968-04-01T00:00:00\",\"1968-07-01T00:00:00\",\"1968-10-01T00:00:00\",\"1969-01-01T00:00:00\",\"1969-04-01T00:00:00\",\"1969-07-01T00:00:00\",\"1969-10-01T00:00:00\",\"1970-01-01T00:00:00\",\"1970-04-01T00:00:00\",\"1970-07-01T00:00:00\",\"1970-10-01T00:00:00\",\"1971-01-01T00:00:00\",\"1971-04-01T00:00:00\",\"1971-07-01T00:00:00\",\"1971-10-01T00:00:00\",\"1972-01-01T00:00:00\",\"1972-04-01T00:00:00\",\"1972-07-01T00:00:00\",\"1972-10-01T00:00:00\",\"1973-01-01T00:00:00\",\"1973-04-01T00:00:00\",\"1973-07-01T00:00:00\",\"1973-10-01T00:00:00\",\"1974-01-01T00:00:00\",\"1974-04-01T00:00:00\",\"1974-07-01T00:00:00\",\"1974-10-01T00:00:00\",\"1975-01-01T00:00:00\",\"1975-04-01T00:00:00\",\"1975-07-01T00:00:00\",\"1975-10-01T00:00:00\",\"1976-01-01T00:00:00\",\"1976-04-01T00:00:00\",\"1976-07-01T00:00:00\",\"1976-10-01T00:00:00\",\"1977-01-01T00:00:00\",\"1977-04-01T00:00:00\",\"1977-07-01T00:00:00\",\"1977-10-01T00:00:00\",\"1978-01-01T00:00:00\",\"1978-04-01T00:00:00\",\"1978-07-01T00:00:00\",\"1978-10-01T00:00:00\",\"1979-01-01T00:00:00\",\"1979-04-01T00:00:00\",\"1979-07-01T00:00:00\",\"1979-10-01T00:00:00\",\"1980-01-01T00:00:00\",\"1980-04-01T00:00:00\",\"1980-07-01T00:00:00\",\"1980-10-01T00:00:00\",\"1981-01-01T00:00:00\",\"1981-04-01T00:00:00\",\"1981-07-01T00:00:00\",\"1981-10-01T00:00:00\",\"1982-01-01T00:00:00\",\"1982-04-01T00:00:00\",\"1982-07-01T00:00:00\",\"1982-10-01T00:00:00\",\"1983-01-01T00:00:00\",\"1983-04-01T00:00:00\",\"1983-07-01T00:00:00\",\"1983-10-01T00:00:00\",\"1984-01-01T00:00:00\",\"1984-04-01T00:00:00\",\"1984-07-01T00:00:00\",\"1984-10-01T00:00:00\",\"1985-01-01T00:00:00\",\"1985-04-01T00:00:00\",\"1985-07-01T00:00:00\",\"1985-10-01T00:00:00\",\"1986-01-01T00:00:00\",\"1986-04-01T00:00:00\",\"1986-07-01T00:00:00\",\"1986-10-01T00:00:00\",\"1987-01-01T00:00:00\",\"1987-04-01T00:00:00\",\"1987-07-01T00:00:00\",\"1987-10-01T00:00:00\",\"1988-01-01T00:00:00\",\"1988-04-01T00:00:00\",\"1988-07-01T00:00:00\",\"1988-10-01T00:00:00\",\"1989-01-01T00:00:00\",\"1989-04-01T00:00:00\",\"1989-07-01T00:00:00\",\"1989-10-01T00:00:00\",\"1990-01-01T00:00:00\",\"1990-04-01T00:00:00\",\"1990-07-01T00:00:00\",\"1990-10-01T00:00:00\",\"1991-01-01T00:00:00\",\"1991-04-01T00:00:00\",\"1991-07-01T00:00:00\",\"1991-10-01T00:00:00\",\"1992-01-01T00:00:00\",\"1992-04-01T00:00:00\",\"1992-07-01T00:00:00\",\"1992-10-01T00:00:00\",\"1993-01-01T00:00:00\",\"1993-04-01T00:00:00\",\"1993-07-01T00:00:00\",\"1993-10-01T00:00:00\",\"1994-01-01T00:00:00\",\"1994-04-01T00:00:00\",\"1994-07-01T00:00:00\",\"1994-10-01T00:00:00\",\"1995-01-01T00:00:00\",\"1995-04-01T00:00:00\",\"1995-07-01T00:00:00\",\"1995-10-01T00:00:00\",\"1996-01-01T00:00:00\",\"1996-04-01T00:00:00\",\"1996-07-01T00:00:00\",\"1996-10-01T00:00:00\",\"1997-01-01T00:00:00\",\"1997-04-01T00:00:00\",\"1997-07-01T00:00:00\",\"1997-10-01T00:00:00\",\"1998-01-01T00:00:00\",\"1998-04-01T00:00:00\",\"1998-07-01T00:00:00\",\"1998-10-01T00:00:00\",\"1999-01-01T00:00:00\",\"1999-04-01T00:00:00\",\"1999-07-01T00:00:00\",\"1999-10-01T00:00:00\",\"2000-01-01T00:00:00\",\"2000-04-01T00:00:00\",\"2000-07-01T00:00:00\",\"2000-10-01T00:00:00\",\"2001-01-01T00:00:00\",\"2001-04-01T00:00:00\",\"2001-07-01T00:00:00\",\"2001-10-01T00:00:00\",\"2002-01-01T00:00:00\",\"2002-04-01T00:00:00\",\"2002-07-01T00:00:00\",\"2002-10-01T00:00:00\",\"2003-01-01T00:00:00\",\"2003-04-01T00:00:00\",\"2003-07-01T00:00:00\",\"2003-10-01T00:00:00\",\"2004-01-01T00:00:00\",\"2004-04-01T00:00:00\",\"2004-07-01T00:00:00\",\"2004-10-01T00:00:00\",\"2005-01-01T00:00:00\",\"2005-04-01T00:00:00\",\"2005-07-01T00:00:00\",\"2005-10-01T00:00:00\",\"2006-01-01T00:00:00\",\"2006-04-01T00:00:00\",\"2006-07-01T00:00:00\",\"2006-10-01T00:00:00\",\"2007-01-01T00:00:00\",\"2007-04-01T00:00:00\",\"2007-07-01T00:00:00\",\"2007-10-01T00:00:00\",\"2008-01-01T00:00:00\",\"2008-04-01T00:00:00\",\"2008-07-01T00:00:00\",\"2008-10-01T00:00:00\",\"2009-01-01T00:00:00\",\"2009-04-01T00:00:00\",\"2009-07-01T00:00:00\",\"2009-10-01T00:00:00\",\"2010-01-01T00:00:00\",\"2010-04-01T00:00:00\",\"2010-07-01T00:00:00\",\"2010-10-01T00:00:00\",\"2011-01-01T00:00:00\",\"2011-04-01T00:00:00\",\"2011-07-01T00:00:00\",\"2011-10-01T00:00:00\",\"2012-01-01T00:00:00\",\"2012-04-01T00:00:00\",\"2012-07-01T00:00:00\",\"2012-10-01T00:00:00\",\"2013-01-01T00:00:00\",\"2013-04-01T00:00:00\",\"2013-07-01T00:00:00\",\"2013-10-01T00:00:00\",\"2014-01-01T00:00:00\",\"2014-04-01T00:00:00\",\"2014-07-01T00:00:00\",\"2014-10-01T00:00:00\",\"2015-01-01T00:00:00\",\"2015-04-01T00:00:00\",\"2015-07-01T00:00:00\",\"2015-10-01T00:00:00\",\"2016-01-01T00:00:00\",\"2016-04-01T00:00:00\",\"2016-07-01T00:00:00\",\"2016-10-01T00:00:00\",\"2017-01-01T00:00:00\",\"2017-04-01T00:00:00\",\"2017-07-01T00:00:00\",\"2017-10-01T00:00:00\",\"2018-01-01T00:00:00\",\"2018-04-01T00:00:00\",\"2018-07-01T00:00:00\",\"2018-10-01T00:00:00\",\"2019-01-01T00:00:00\",\"2019-04-01T00:00:00\",\"2019-07-01T00:00:00\",\"2019-10-01T00:00:00\",\"2020-01-01T00:00:00\",\"2020-04-01T00:00:00\",\"2020-07-01T00:00:00\",\"2020-10-01T00:00:00\",\"2021-01-01T00:00:00\",\"2021-04-01T00:00:00\",\"2021-07-01T00:00:00\",\"2021-10-01T00:00:00\",\"2022-01-01T00:00:00\",\"2022-04-01T00:00:00\",\"2022-07-01T00:00:00\",\"2022-10-01T00:00:00\"],\"y\":[112816.0,114737.0,119348.0,119115.0,121328.0,124675.0,123125.0,124747.0,126879.0,126862.0,128956.0,130003.0,135852.0,134028.0,133581.0,137798.0,140540.0,140756.0,143366.0,146476.0,149751.0,154123.0,157412.0,162127.0,161986.0,168619.0,169283.0,171004.0,172683.0,175414.0,179508.0,182612.0,181436.0,185017.0,185224.0,187726.0,193059.0,199196.0,195750.0,200247.0,198413.0,205890.0,209504.0,211891.0,207651.0,210624.0,214279.0,216619.0,215671.0,217820.0,219140.0,226538.0,225241.0,230764.0,235150.0,237998.0,239595.0,247335.0,249408.0,249359.0,248569.0,251079.0,249109.0,251730.0,256217.0,261765.0,260428.0,262560.0,261381.0,263039.0,262891.0,263660.0,262806.0,265667.0,263751.0,265258.0,267792.0,271266.0,275255.0,274462.0,275509.0,275613.0,278982.0,280060.0,277810.0,280452.0,282703.0,284367.0,279370.0,283888.0,286912.0,287263.0,288485.0,288755.0,292521.0,296293.0,301229.0,305038.0,303835.0,310140.0,309995.0,307707.0,309748.0,308441.0,311449.0,313820.0,312343.0,315834.0,320110.0,323481.0,325337.0,325239.0,327398.0,331648.0,336041.0,337232.0,343365.0,339691.0,347025.0,350351.0,349514.0,356179.0,353725.0,356980.0,356743.0,354717.0,354328.0,358178.0,356485.0,358144.0,354486.0,353773.0,349924.0,354000.0,355589.0,354828.0,352768.0,351632.0,349563.0,347207.0,346901.0,345808.0,341178.0,339681.0,340469.0,337974.0,339040.0,339055.0,347393.0,344216.0,345155.0,344828.0,350737.0,354684.0,360222.0,361549.0,365037.0,368101.0,370352.0,373007.0,379947.0,384780.0,387112.0,390034.0,391452.0,393020.0,396552.0,398765.0,403264.0,405755.0,407265.0,410844.0,414558.0,414422.0,417867.0,421021.0,421697.0,424514.0,427651.0,432938.0,434509.0,439021.0,440645.0,444429.0,447813.0,450699.0,456804.0,456940.0,463374.0,471405.0,470875.0,477739.0,477849.0,483743.0,492141.0,501590.0,505931.0,506431.0,507825.0,509953.0,508222.0,506730.0,505043.0,503112.0,505615.0,505319.0,507302.0,506223.0,500885.0,495558.0,497341.0,498447.0,499122.0,496918.0,497704.0,496851.0,504591.0,503072.0,505627.0,504929.0,509701.0,512604.0,511917.0,513866.0,519389.0,521597.0,528246.0,535800.0,540328.0,542539.0,543605.0,543069.0,541002.0,540636.0,546657.0,550613.0,550328.0,532550.0,560230.0,566600.0,574024.0,578185.0,580695.0,585009.0,591109.0,590688.0,595410.0,601146.0],\"type\":\"scatter\"},{\"mode\":\"lines+markers\",\"name\":\"Government Spending Test\",\"x\":[\"2023-01-01T00:00:00\",\"2023-04-01T00:00:00\",\"2023-07-01T00:00:00\",\"2023-10-01T00:00:00\",\"2024-01-01T00:00:00\",\"2024-04-01T00:00:00\",\"2024-07-01T00:00:00\"],\"y\":[605228.0,606421.0,614357.0,613120.0,617989.0,624870.0,632291.0],\"type\":\"scatter\"},{\"mode\":\"lines+markers\",\"name\":\"Government Spending Forecast\",\"x\":[\"2023-01-01T00:00:00\",\"2023-04-01T00:00:00\",\"2023-07-01T00:00:00\",\"2023-10-01T00:00:00\",\"2024-01-01T00:00:00\",\"2024-04-01T00:00:00\",\"2024-07-01T00:00:00\"],\"y\":[604843.2848890648,608909.3297205783,612975.3745520918,617041.4193836052,621107.4642151187,625173.5090466321,629239.5538781456],\"type\":\"scatter\"}],                        {\"template\":{\"data\":{\"barpolar\":[{\"marker\":{\"line\":{\"color\":\"white\",\"width\":0.5},\"pattern\":{\"fillmode\":\"overlay\",\"size\":10,\"solidity\":0.2}},\"type\":\"barpolar\"}],\"bar\":[{\"error_x\":{\"color\":\"#2a3f5f\"},\"error_y\":{\"color\":\"#2a3f5f\"},\"marker\":{\"line\":{\"color\":\"white\",\"width\":0.5},\"pattern\":{\"fillmode\":\"overlay\",\"size\":10,\"solidity\":0.2}},\"type\":\"bar\"}],\"carpet\":[{\"aaxis\":{\"endlinecolor\":\"#2a3f5f\",\"gridcolor\":\"#C8D4E3\",\"linecolor\":\"#C8D4E3\",\"minorgridcolor\":\"#C8D4E3\",\"startlinecolor\":\"#2a3f5f\"},\"baxis\":{\"endlinecolor\":\"#2a3f5f\",\"gridcolor\":\"#C8D4E3\",\"linecolor\":\"#C8D4E3\",\"minorgridcolor\":\"#C8D4E3\",\"startlinecolor\":\"#2a3f5f\"},\"type\":\"carpet\"}],\"choropleth\":[{\"colorbar\":{\"outlinewidth\":0,\"ticks\":\"\"},\"type\":\"choropleth\"}],\"contourcarpet\":[{\"colorbar\":{\"outlinewidth\":0,\"ticks\":\"\"},\"type\":\"contourcarpet\"}],\"contour\":[{\"colorbar\":{\"outlinewidth\":0,\"ticks\":\"\"},\"colorscale\":[[0.0,\"#0d0887\"],[0.1111111111111111,\"#46039f\"],[0.2222222222222222,\"#7201a8\"],[0.3333333333333333,\"#9c179e\"],[0.4444444444444444,\"#bd3786\"],[0.5555555555555556,\"#d8576b\"],[0.6666666666666666,\"#ed7953\"],[0.7777777777777778,\"#fb9f3a\"],[0.8888888888888888,\"#fdca26\"],[1.0,\"#f0f921\"]],\"type\":\"contour\"}],\"heatmapgl\":[{\"colorbar\":{\"outlinewidth\":0,\"ticks\":\"\"},\"colorscale\":[[0.0,\"#0d0887\"],[0.1111111111111111,\"#46039f\"],[0.2222222222222222,\"#7201a8\"],[0.3333333333333333,\"#9c179e\"],[0.4444444444444444,\"#bd3786\"],[0.5555555555555556,\"#d8576b\"],[0.6666666666666666,\"#ed7953\"],[0.7777777777777778,\"#fb9f3a\"],[0.8888888888888888,\"#fdca26\"],[1.0,\"#f0f921\"]],\"type\":\"heatmapgl\"}],\"heatmap\":[{\"colorbar\":{\"outlinewidth\":0,\"ticks\":\"\"},\"colorscale\":[[0.0,\"#0d0887\"],[0.1111111111111111,\"#46039f\"],[0.2222222222222222,\"#7201a8\"],[0.3333333333333333,\"#9c179e\"],[0.4444444444444444,\"#bd3786\"],[0.5555555555555556,\"#d8576b\"],[0.6666666666666666,\"#ed7953\"],[0.7777777777777778,\"#fb9f3a\"],[0.8888888888888888,\"#fdca26\"],[1.0,\"#f0f921\"]],\"type\":\"heatmap\"}],\"histogram2dcontour\":[{\"colorbar\":{\"outlinewidth\":0,\"ticks\":\"\"},\"colorscale\":[[0.0,\"#0d0887\"],[0.1111111111111111,\"#46039f\"],[0.2222222222222222,\"#7201a8\"],[0.3333333333333333,\"#9c179e\"],[0.4444444444444444,\"#bd3786\"],[0.5555555555555556,\"#d8576b\"],[0.6666666666666666,\"#ed7953\"],[0.7777777777777778,\"#fb9f3a\"],[0.8888888888888888,\"#fdca26\"],[1.0,\"#f0f921\"]],\"type\":\"histogram2dcontour\"}],\"histogram2d\":[{\"colorbar\":{\"outlinewidth\":0,\"ticks\":\"\"},\"colorscale\":[[0.0,\"#0d0887\"],[0.1111111111111111,\"#46039f\"],[0.2222222222222222,\"#7201a8\"],[0.3333333333333333,\"#9c179e\"],[0.4444444444444444,\"#bd3786\"],[0.5555555555555556,\"#d8576b\"],[0.6666666666666666,\"#ed7953\"],[0.7777777777777778,\"#fb9f3a\"],[0.8888888888888888,\"#fdca26\"],[1.0,\"#f0f921\"]],\"type\":\"histogram2d\"}],\"histogram\":[{\"marker\":{\"pattern\":{\"fillmode\":\"overlay\",\"size\":10,\"solidity\":0.2}},\"type\":\"histogram\"}],\"mesh3d\":[{\"colorbar\":{\"outlinewidth\":0,\"ticks\":\"\"},\"type\":\"mesh3d\"}],\"parcoords\":[{\"line\":{\"colorbar\":{\"outlinewidth\":0,\"ticks\":\"\"}},\"type\":\"parcoords\"}],\"pie\":[{\"automargin\":true,\"type\":\"pie\"}],\"scatter3d\":[{\"line\":{\"colorbar\":{\"outlinewidth\":0,\"ticks\":\"\"}},\"marker\":{\"colorbar\":{\"outlinewidth\":0,\"ticks\":\"\"}},\"type\":\"scatter3d\"}],\"scattercarpet\":[{\"marker\":{\"colorbar\":{\"outlinewidth\":0,\"ticks\":\"\"}},\"type\":\"scattercarpet\"}],\"scattergeo\":[{\"marker\":{\"colorbar\":{\"outlinewidth\":0,\"ticks\":\"\"}},\"type\":\"scattergeo\"}],\"scattergl\":[{\"marker\":{\"colorbar\":{\"outlinewidth\":0,\"ticks\":\"\"}},\"type\":\"scattergl\"}],\"scattermapbox\":[{\"marker\":{\"colorbar\":{\"outlinewidth\":0,\"ticks\":\"\"}},\"type\":\"scattermapbox\"}],\"scatterpolargl\":[{\"marker\":{\"colorbar\":{\"outlinewidth\":0,\"ticks\":\"\"}},\"type\":\"scatterpolargl\"}],\"scatterpolar\":[{\"marker\":{\"colorbar\":{\"outlinewidth\":0,\"ticks\":\"\"}},\"type\":\"scatterpolar\"}],\"scatter\":[{\"fillpattern\":{\"fillmode\":\"overlay\",\"size\":10,\"solidity\":0.2},\"type\":\"scatter\"}],\"scatterternary\":[{\"marker\":{\"colorbar\":{\"outlinewidth\":0,\"ticks\":\"\"}},\"type\":\"scatterternary\"}],\"surface\":[{\"colorbar\":{\"outlinewidth\":0,\"ticks\":\"\"},\"colorscale\":[[0.0,\"#0d0887\"],[0.1111111111111111,\"#46039f\"],[0.2222222222222222,\"#7201a8\"],[0.3333333333333333,\"#9c179e\"],[0.4444444444444444,\"#bd3786\"],[0.5555555555555556,\"#d8576b\"],[0.6666666666666666,\"#ed7953\"],[0.7777777777777778,\"#fb9f3a\"],[0.8888888888888888,\"#fdca26\"],[1.0,\"#f0f921\"]],\"type\":\"surface\"}],\"table\":[{\"cells\":{\"fill\":{\"color\":\"#EBF0F8\"},\"line\":{\"color\":\"white\"}},\"header\":{\"fill\":{\"color\":\"#C8D4E3\"},\"line\":{\"color\":\"white\"}},\"type\":\"table\"}]},\"layout\":{\"annotationdefaults\":{\"arrowcolor\":\"#2a3f5f\",\"arrowhead\":0,\"arrowwidth\":1},\"autotypenumbers\":\"strict\",\"coloraxis\":{\"colorbar\":{\"outlinewidth\":0,\"ticks\":\"\"}},\"colorscale\":{\"diverging\":[[0,\"#8e0152\"],[0.1,\"#c51b7d\"],[0.2,\"#de77ae\"],[0.3,\"#f1b6da\"],[0.4,\"#fde0ef\"],[0.5,\"#f7f7f7\"],[0.6,\"#e6f5d0\"],[0.7,\"#b8e186\"],[0.8,\"#7fbc41\"],[0.9,\"#4d9221\"],[1,\"#276419\"]],\"sequential\":[[0.0,\"#0d0887\"],[0.1111111111111111,\"#46039f\"],[0.2222222222222222,\"#7201a8\"],[0.3333333333333333,\"#9c179e\"],[0.4444444444444444,\"#bd3786\"],[0.5555555555555556,\"#d8576b\"],[0.6666666666666666,\"#ed7953\"],[0.7777777777777778,\"#fb9f3a\"],[0.8888888888888888,\"#fdca26\"],[1.0,\"#f0f921\"]],\"sequentialminus\":[[0.0,\"#0d0887\"],[0.1111111111111111,\"#46039f\"],[0.2222222222222222,\"#7201a8\"],[0.3333333333333333,\"#9c179e\"],[0.4444444444444444,\"#bd3786\"],[0.5555555555555556,\"#d8576b\"],[0.6666666666666666,\"#ed7953\"],[0.7777777777777778,\"#fb9f3a\"],[0.8888888888888888,\"#fdca26\"],[1.0,\"#f0f921\"]]},\"colorway\":[\"#636efa\",\"#EF553B\",\"#00cc96\",\"#ab63fa\",\"#FFA15A\",\"#19d3f3\",\"#FF6692\",\"#B6E880\",\"#FF97FF\",\"#FECB52\"],\"font\":{\"color\":\"#2a3f5f\"},\"geo\":{\"bgcolor\":\"white\",\"lakecolor\":\"white\",\"landcolor\":\"white\",\"showlakes\":true,\"showland\":true,\"subunitcolor\":\"#C8D4E3\"},\"hoverlabel\":{\"align\":\"left\"},\"hovermode\":\"closest\",\"mapbox\":{\"style\":\"light\"},\"paper_bgcolor\":\"white\",\"plot_bgcolor\":\"white\",\"polar\":{\"angularaxis\":{\"gridcolor\":\"#EBF0F8\",\"linecolor\":\"#EBF0F8\",\"ticks\":\"\"},\"bgcolor\":\"white\",\"radialaxis\":{\"gridcolor\":\"#EBF0F8\",\"linecolor\":\"#EBF0F8\",\"ticks\":\"\"}},\"scene\":{\"xaxis\":{\"backgroundcolor\":\"white\",\"gridcolor\":\"#DFE8F3\",\"gridwidth\":2,\"linecolor\":\"#EBF0F8\",\"showbackground\":true,\"ticks\":\"\",\"zerolinecolor\":\"#EBF0F8\"},\"yaxis\":{\"backgroundcolor\":\"white\",\"gridcolor\":\"#DFE8F3\",\"gridwidth\":2,\"linecolor\":\"#EBF0F8\",\"showbackground\":true,\"ticks\":\"\",\"zerolinecolor\":\"#EBF0F8\"},\"zaxis\":{\"backgroundcolor\":\"white\",\"gridcolor\":\"#DFE8F3\",\"gridwidth\":2,\"linecolor\":\"#EBF0F8\",\"showbackground\":true,\"ticks\":\"\",\"zerolinecolor\":\"#EBF0F8\"}},\"shapedefaults\":{\"line\":{\"color\":\"#2a3f5f\"}},\"ternary\":{\"aaxis\":{\"gridcolor\":\"#DFE8F3\",\"linecolor\":\"#A2B1C6\",\"ticks\":\"\"},\"baxis\":{\"gridcolor\":\"#DFE8F3\",\"linecolor\":\"#A2B1C6\",\"ticks\":\"\"},\"bgcolor\":\"white\",\"caxis\":{\"gridcolor\":\"#DFE8F3\",\"linecolor\":\"#A2B1C6\",\"ticks\":\"\"}},\"title\":{\"x\":0.05},\"xaxis\":{\"automargin\":true,\"gridcolor\":\"#EBF0F8\",\"linecolor\":\"#EBF0F8\",\"ticks\":\"\",\"title\":{\"standoff\":15},\"zerolinecolor\":\"#EBF0F8\",\"zerolinewidth\":2},\"yaxis\":{\"automargin\":true,\"gridcolor\":\"#EBF0F8\",\"linecolor\":\"#EBF0F8\",\"ticks\":\"\",\"title\":{\"standoff\":15},\"zerolinecolor\":\"#EBF0F8\",\"zerolinewidth\":2}}},\"title\":{\"text\":\"Interactive Time Series Prediction of GDP Components\"},\"xaxis\":{\"title\":{\"text\":\"Time\"}},\"yaxis\":{\"title\":{\"text\":\"Expenditure\"}},\"updatemenus\":[{\"buttons\":[{\"args\":[{\"visible\":[true,true,true,true,true,true,true,true,true]},{\"title\":\"All GDP Components Predictions\"}],\"label\":\"All\",\"method\":\"update\"},{\"args\":[{\"visible\":[true,true,true,false,false,false,false,false,false]},{\"title\":\"Consumption Predictions\"}],\"label\":\"Consumption\",\"method\":\"update\"},{\"args\":[{\"visible\":[false,false,false,true,true,true,false,false,false]},{\"title\":\"Investment Predictions\"}],\"label\":\"Investment\",\"method\":\"update\"},{\"args\":[{\"visible\":[false,false,false,false,false,false,true,true,true]},{\"title\":\"Government Spending Predictions\"}],\"label\":\"Government Spending\",\"method\":\"update\"}],\"direction\":\"down\",\"showactive\":true,\"x\":0.1,\"xanchor\":\"left\",\"y\":1.15,\"yanchor\":\"top\"}]},                        {\"responsive\": true}                    ).then(function(){\n",
       "                            \n",
       "var gd = document.getElementById('384ce6df-2303-4405-b50c-4e92f011f59e');\n",
       "var x = new MutationObserver(function (mutations, observer) {{\n",
       "        var display = window.getComputedStyle(gd).display;\n",
       "        if (!display || display === 'none') {{\n",
       "            console.log([gd, 'removed!']);\n",
       "            Plotly.purge(gd);\n",
       "            observer.disconnect();\n",
       "        }}\n",
       "}});\n",
       "\n",
       "// Listen for the removal of the full notebook cells\n",
       "var notebookContainer = gd.closest('#notebook-container');\n",
       "if (notebookContainer) {{\n",
       "    x.observe(notebookContainer, {childList: true});\n",
       "}}\n",
       "\n",
       "// Listen for the clearing of the current output cell\n",
       "var outputEl = gd.closest('.output');\n",
       "if (outputEl) {{\n",
       "    x.observe(outputEl, {childList: true});\n",
       "}}\n",
       "\n",
       "                        })                };                });            </script>        </div>"
      ]
     },
     "metadata": {},
     "output_type": "display_data"
    }
   ],
   "source": [
    "visible_all = [True] * len(fig.data)\n",
    "\n",
    "visible_consumption = [True, True, True] + [False] * 6\n",
    "visible_investment = [False] * 3 + [True, True, True] + [False] * 3\n",
    "visible_gov = [False] * 6 + [True, True, True]\n",
    "\n",
    "\n",
    "fig.update_layout(\n",
    "    title=\"Interactive Time Series Prediction of GDP Components\",\n",
    "    xaxis_title=\"Time\",\n",
    "    yaxis_title=\"Expenditure\",\n",
    "    template=\"plotly_white\",\n",
    "    updatemenus=[{\n",
    "        \"buttons\": [\n",
    "            {\n",
    "                \"label\": \"All\",\n",
    "                \"method\": \"update\",\n",
    "                \"args\": [{\"visible\": visible_all},\n",
    "                         {\"title\": \"All GDP Components Predictions\"}]\n",
    "            },\n",
    "            {\n",
    "                \"label\": \"Consumption\",\n",
    "                \"method\": \"update\",\n",
    "                \"args\": [{\"visible\": visible_consumption},\n",
    "                         {\"title\": \"Consumption Predictions\"}]\n",
    "            },\n",
    "            {\n",
    "                \"label\": \"Investment\",\n",
    "                \"method\": \"update\",\n",
    "                \"args\": [{\"visible\": visible_investment},\n",
    "                         {\"title\": \"Investment Predictions\"}]\n",
    "            },\n",
    "            {\n",
    "                \"label\": \"Government Spending\",\n",
    "                \"method\": \"update\",\n",
    "                \"args\": [{\"visible\": visible_gov},\n",
    "                         {\"title\": \"Government Spending Predictions\"}]\n",
    "            }\n",
    "        ],\n",
    "        \"direction\": \"down\",\n",
    "        \"showactive\": True,\n",
    "        \"x\": 0.1,\n",
    "        \"xanchor\": \"left\",\n",
    "        \"y\": 1.15,\n",
    "        \"yanchor\": \"top\"\n",
    "    }]\n",
    ")\n",
    "\n",
    "fig.show()"
   ]
  },
  {
   "cell_type": "markdown",
   "id": "e0d91e02-b281-4b98-80a3-53a2ad414b69",
   "metadata": {},
   "source": [
    "## Discussion "
   ]
  },
  {
   "cell_type": "markdown",
   "id": "0242b746-ed99-4ae6-9912-c2f6f7121d5b",
   "metadata": {},
   "source": [
    "### Model prediction and visualization result"
   ]
  },
  {
   "cell_type": "markdown",
   "id": "94df5bbb-f094-48ef-9d39-3fd62f2db312",
   "metadata": {},
   "source": [
    "### Limitation "
   ]
  },
  {
   "cell_type": "code",
   "execution_count": null,
   "id": "ac73affd-3502-4ce4-acdf-bac1f58cc58a",
   "metadata": {},
   "outputs": [],
   "source": []
  }
 ],
 "metadata": {
  "kernelspec": {
   "display_name": "Python 3 (ipykernel)",
   "language": "python",
   "name": "python3"
  },
  "language_info": {
   "codemirror_mode": {
    "name": "ipython",
    "version": 3
   },
   "file_extension": ".py",
   "mimetype": "text/x-python",
   "name": "python",
   "nbconvert_exporter": "python",
   "pygments_lexer": "ipython3",
   "version": "3.12.8"
  }
 },
 "nbformat": 4,
 "nbformat_minor": 5
}
